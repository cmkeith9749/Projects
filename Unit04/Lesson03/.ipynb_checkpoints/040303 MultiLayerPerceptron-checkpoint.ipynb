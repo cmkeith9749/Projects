{
 "cells": [
  {
   "cell_type": "markdown",
   "metadata": {},
   "source": [
    "## Drill: Playing with layers\n",
    "\n",
    "Now it's your turn. Using the space below, experiment with different hidden layer structures. You can try this on a subset of the data to improve runtime. See how things vary. See what seems to matter the most. Feel free to manipulate other parameters as well. It may also be beneficial to do some real feature selection work..."
   ]
  },
  {
   "cell_type": "markdown",
   "metadata": {
    "run_control": {
     "frozen": false,
     "read_only": false
    }
   },
   "source": [
    "#### Notes:\n",
    "- Use the same row selection as original feature selection\n",
    "- Use  cleaning / processing as from original \n",
    "\n",
    "Additional feature processing\n",
    "\n",
    "- remove all samples without complete data.  \n",
    "- reduce range of of data (year) features by transforming to years before present year\n",
    "- BeginDate is actually when artist was born.  EndDate is when artist died.  (0) if still alive.  \n",
    "- only use one nationality\n",
    "- fit mlp classifier with and without artist feature.  "
   ]
  },
  {
   "cell_type": "code",
   "execution_count": 88,
   "metadata": {
    "run_control": {
     "frozen": false,
     "read_only": false
    }
   },
   "outputs": [],
   "source": [
    "import numpy  as np\n",
    "import pandas as pd\n",
    "import re\n",
    "pd.options.display.float_format = '{:.2f}'.format"
   ]
  },
  {
   "cell_type": "code",
   "execution_count": 8,
   "metadata": {},
   "outputs": [],
   "source": [
    "art = pd.read_csv('https://media.githubusercontent.com/media/MuseumofModernArt/collection/master/Artworks.csv')\n",
    "art = art[['Artist', 'Nationality', 'Gender', 'Date', 'Department','DateAcquired', \n",
    "                     'URL', 'ThumbnailURL', 'Height (cm)', 'Width (cm)', 'BeginDate', 'EndDate']]\n",
    "#cleanup the column labels\n",
    "art.columns = [col.lower() for col in art.columns]\n",
    "art.columns = ['artt', 'nlty', 'gndr', 'date', 'dpmt', 'Acquired','url', 'thml',\n",
    "               'hght', 'wdth', 'born', 'dead']"
   ]
  },
  {
   "cell_type": "code",
   "execution_count": 9,
   "metadata": {},
   "outputs": [
    {
     "data": {
      "text/html": [
       "<div>\n",
       "<style scoped>\n",
       "    .dataframe tbody tr th:only-of-type {\n",
       "        vertical-align: middle;\n",
       "    }\n",
       "\n",
       "    .dataframe tbody tr th {\n",
       "        vertical-align: top;\n",
       "    }\n",
       "\n",
       "    .dataframe thead th {\n",
       "        text-align: right;\n",
       "    }\n",
       "</style>\n",
       "<table border=\"1\" class=\"dataframe\">\n",
       "  <thead>\n",
       "    <tr style=\"text-align: right;\">\n",
       "      <th></th>\n",
       "      <th>artt</th>\n",
       "      <th>nlty</th>\n",
       "      <th>gndr</th>\n",
       "      <th>date</th>\n",
       "      <th>dpmt</th>\n",
       "      <th>Acquired</th>\n",
       "      <th>url</th>\n",
       "      <th>thml</th>\n",
       "      <th>hght</th>\n",
       "      <th>wdth</th>\n",
       "      <th>born</th>\n",
       "      <th>dead</th>\n",
       "    </tr>\n",
       "  </thead>\n",
       "  <tbody>\n",
       "    <tr>\n",
       "      <th>138372</th>\n",
       "      <td>Adrián Villar Rojas</td>\n",
       "      <td>(Argentine)</td>\n",
       "      <td>(Male)</td>\n",
       "      <td>2012</td>\n",
       "      <td>Drawings &amp; Prints</td>\n",
       "      <td>2013-05-23</td>\n",
       "      <td>NaN</td>\n",
       "      <td>NaN</td>\n",
       "      <td>24.0</td>\n",
       "      <td>32.0</td>\n",
       "      <td>(1980)</td>\n",
       "      <td>(0)</td>\n",
       "    </tr>\n",
       "    <tr>\n",
       "      <th>138373</th>\n",
       "      <td>Adrián Villar Rojas</td>\n",
       "      <td>(Argentine)</td>\n",
       "      <td>(Male)</td>\n",
       "      <td>2012</td>\n",
       "      <td>Drawings &amp; Prints</td>\n",
       "      <td>2013-05-23</td>\n",
       "      <td>NaN</td>\n",
       "      <td>NaN</td>\n",
       "      <td>24.0</td>\n",
       "      <td>32.0</td>\n",
       "      <td>(1980)</td>\n",
       "      <td>(0)</td>\n",
       "    </tr>\n",
       "  </tbody>\n",
       "</table>\n",
       "</div>"
      ],
      "text/plain": [
       "                       artt         nlty    gndr  date               dpmt  \\\n",
       "138372  Adrián Villar Rojas  (Argentine)  (Male)  2012  Drawings & Prints   \n",
       "138373  Adrián Villar Rojas  (Argentine)  (Male)  2012  Drawings & Prints   \n",
       "\n",
       "          Acquired  url thml  hght  wdth    born dead  \n",
       "138372  2013-05-23  NaN  NaN  24.0  32.0  (1980)  (0)  \n",
       "138373  2013-05-23  NaN  NaN  24.0  32.0  (1980)  (0)  "
      ]
     },
     "execution_count": 9,
     "metadata": {},
     "output_type": "execute_result"
    }
   ],
   "source": [
    "art.tail(2)"
   ]
  },
  {
   "cell_type": "code",
   "execution_count": 10,
   "metadata": {
    "run_control": {
     "frozen": false,
     "read_only": false
    }
   },
   "outputs": [],
   "source": [
    "# Convert URL's to booleans.\n",
    "art.url  = np.where(art.url.isna(),  0, 1)\n",
    "art.thml = np.where(art.thml.isna(), 0, 1)\n",
    "# Drop films and some other tricky rows.\n",
    "art = art[art['dpmt']!='Film']\n",
    "art = art[art['dpmt']!='Media and Performance Art']\n",
    "art = art[art['dpmt']!='Fluxus Collection']\n",
    "# Drop missing data.\n",
    "art = art.dropna()\n",
    "art.index = range(len(art))\n",
    "art['acqd'] = pd.to_datetime(art.Acquired).dt.year"
   ]
  },
  {
   "cell_type": "code",
   "execution_count": 11,
   "metadata": {},
   "outputs": [],
   "source": []
  },
  {
   "cell_type": "code",
   "execution_count": 12,
   "metadata": {},
   "outputs": [],
   "source": [
    "df = art.drop(['Acquired'], axis=1)"
   ]
  },
  {
   "cell_type": "markdown",
   "metadata": {},
   "source": [
    "new cleaning, features from here down"
   ]
  },
  {
   "cell_type": "code",
   "execution_count": 13,
   "metadata": {},
   "outputs": [],
   "source": [
    "# find rows with missing data to drop\n",
    "A = [i for i,val in enumerate(df.gndr) if all([val != '(Male)', val != '(Female)'])]\n",
    "B = [i for i,val in enumerate(df.born) if val == '()']\n",
    "C = [i for i,val in enumerate(df.date) if val.lower().count('unknown')]\n",
    "D = [i for i,val in enumerate(df.nlty) if val.lower().count('unknown')]\n",
    "E = list(np.where(df.nlty.str.count(r\"(\\w+\\s*\\w+)\") != 1)[0])\n",
    "drp_row = []\n",
    "for c in 'ABCDE':\n",
    "    drp_row.extend(eval(c)); drp_row  = list(set(drp_row ))   \n",
    "df = df.drop(drp_row, axis=0)\n",
    "df.index = range(len(df))\n",
    "# get single value for features\n",
    "df.date = df.date.str.extract(r\"(\\d{4,4})\").astype(float)\n",
    "df.nlty = df.nlty.str.extract(r\"(\\w+\\s*\\w+)\")\n",
    "df.born = df.born.str.replace(r\"\\D+\", '').astype(int)\n",
    "df.dead = df.dead.str.replace(r\"\\D+\", '').astype(int)\n",
    "# features\n",
    "df['male'] = np.where(df.gndr == '(Male)', 1, 0)\n",
    "df['dead'] = np.where(df.dead == 0,        0, 1)\n",
    "# reduce range of feature\n",
    "df.date = df.date.apply(lambda x: 2019 - x)\n",
    "df.born = df.born.apply(lambda x: 2019 - x)\n",
    "df.acqd = df.acqd.apply(lambda x: 2019 - x)\n",
    "\n",
    "df = df.dropna()\n",
    "df.index = range(len(df))"
   ]
  },
  {
   "cell_type": "code",
   "execution_count": 14,
   "metadata": {},
   "outputs": [
    {
     "data": {
      "text/html": [
       "<div>\n",
       "<style scoped>\n",
       "    .dataframe tbody tr th:only-of-type {\n",
       "        vertical-align: middle;\n",
       "    }\n",
       "\n",
       "    .dataframe tbody tr th {\n",
       "        vertical-align: top;\n",
       "    }\n",
       "\n",
       "    .dataframe thead th {\n",
       "        text-align: right;\n",
       "    }\n",
       "</style>\n",
       "<table border=\"1\" class=\"dataframe\">\n",
       "  <thead>\n",
       "    <tr style=\"text-align: right;\">\n",
       "      <th></th>\n",
       "      <th>artt</th>\n",
       "      <th>nlty</th>\n",
       "      <th>gndr</th>\n",
       "      <th>date</th>\n",
       "      <th>dpmt</th>\n",
       "      <th>url</th>\n",
       "      <th>thml</th>\n",
       "      <th>hght</th>\n",
       "      <th>wdth</th>\n",
       "      <th>born</th>\n",
       "      <th>dead</th>\n",
       "      <th>acqd</th>\n",
       "      <th>male</th>\n",
       "    </tr>\n",
       "  </thead>\n",
       "  <tbody>\n",
       "    <tr>\n",
       "      <th>96780</th>\n",
       "      <td>Adrián Villar Rojas</td>\n",
       "      <td>Argentine</td>\n",
       "      <td>(Male)</td>\n",
       "      <td>7.0</td>\n",
       "      <td>Drawings &amp; Prints</td>\n",
       "      <td>0</td>\n",
       "      <td>0</td>\n",
       "      <td>24.0</td>\n",
       "      <td>32.0</td>\n",
       "      <td>39</td>\n",
       "      <td>0</td>\n",
       "      <td>6</td>\n",
       "      <td>1</td>\n",
       "    </tr>\n",
       "    <tr>\n",
       "      <th>96781</th>\n",
       "      <td>Adrián Villar Rojas</td>\n",
       "      <td>Argentine</td>\n",
       "      <td>(Male)</td>\n",
       "      <td>7.0</td>\n",
       "      <td>Drawings &amp; Prints</td>\n",
       "      <td>0</td>\n",
       "      <td>0</td>\n",
       "      <td>24.0</td>\n",
       "      <td>32.0</td>\n",
       "      <td>39</td>\n",
       "      <td>0</td>\n",
       "      <td>6</td>\n",
       "      <td>1</td>\n",
       "    </tr>\n",
       "  </tbody>\n",
       "</table>\n",
       "</div>"
      ],
      "text/plain": [
       "                      artt       nlty    gndr  date               dpmt  url  \\\n",
       "96780  Adrián Villar Rojas  Argentine  (Male)   7.0  Drawings & Prints    0   \n",
       "96781  Adrián Villar Rojas  Argentine  (Male)   7.0  Drawings & Prints    0   \n",
       "\n",
       "       thml  hght  wdth  born  dead  acqd  male  \n",
       "96780     0  24.0  32.0    39     0     6     1  \n",
       "96781     0  24.0  32.0    39     0     6     1  "
      ]
     },
     "execution_count": 14,
     "metadata": {},
     "output_type": "execute_result"
    }
   ],
   "source": [
    "# still 96k+ samples\n",
    "df.tail(2)"
   ]
  },
  {
   "cell_type": "code",
   "execution_count": 15,
   "metadata": {},
   "outputs": [],
   "source": [
    "assert df.isna().any().any() == False"
   ]
  },
  {
   "cell_type": "markdown",
   "metadata": {},
   "source": [
    "### Pre-Process\n"
   ]
  },
  {
   "cell_type": "code",
   "execution_count": 17,
   "metadata": {},
   "outputs": [],
   "source": [
    "from sklearn.impute import SimpleImputer\n",
    "from sklearn.pipeline import Pipeline\n",
    "from sklearn.compose import ColumnTransformer\n",
    "from sklearn.preprocessing import MinMaxScaler, OneHotEncoder, Binarizer"
   ]
  },
  {
   "cell_type": "code",
   "execution_count": 27,
   "metadata": {},
   "outputs": [],
   "source": [
    "# target labels are so long, had to change them\n",
    "dct = {unq : re.match(r\"(\\w{3,5})\", unq)[0].lower() for unq in df.dpmt.unique()}\n",
    "y = df.dpmt.apply(lambda x: dct[x])"
   ]
  },
  {
   "cell_type": "code",
   "execution_count": null,
   "metadata": {},
   "outputs": [],
   "source": [
    "# with artist feature\n",
    "#df1 = df.drop(['gndr', 'dpmt'], axis=1)\n",
    "#fte_cat = ['artt', 'nlty']"
   ]
  },
  {
   "cell_type": "code",
   "execution_count": 39,
   "metadata": {},
   "outputs": [],
   "source": [
    "# without artist feature\n",
    "df1 = df.drop(['gndr', 'dpmt', 'artt'], axis=1)\n",
    "fte_cat = ['nlty']\n",
    "fte_bny = ['url', 'thml', 'dead', 'male']\n",
    "fte_cts = ['date', 'hght', 'wdth', 'born', 'acqd']\n",
    "fte = fte_cat + fte_bny + fte_cts"
   ]
  },
  {
   "cell_type": "code",
   "execution_count": 40,
   "metadata": {},
   "outputs": [],
   "source": [
    "# Features classified as continous, binary and categorical for preprocessing\n",
    "tfr_cts = Pipeline(steps=[('siz', SimpleImputer(strategy='constant', fill_value=0)),\n",
    "                          ('mms', MinMaxScaler())])\n",
    "tfr_bny = Pipeline(steps=[('siz', SimpleImputer(strategy='constant', fill_value=0)),\n",
    "                          ('bnr', Binarizer())])\n",
    "tfr_cat = Pipeline(steps=[('sin', SimpleImputer(strategy='constant', fill_value='na')),\n",
    "                          ('ohe', OneHotEncoder(categories='auto'))])\n",
    "\n",
    "ppr = ColumnTransformer(transformers=[('cts', tfr_cts, fte_cts), ('bny', tfr_bny, fte_bny), ('cat', tfr_cat, fte_cat)])\n"
   ]
  },
  {
   "cell_type": "code",
   "execution_count": 41,
   "metadata": {},
   "outputs": [],
   "source": [
    "assert len(fte) == len(df1.columns)"
   ]
  },
  {
   "cell_type": "code",
   "execution_count": 42,
   "metadata": {},
   "outputs": [],
   "source": [
    "X = ppr.fit_transform(df1)"
   ]
  },
  {
   "cell_type": "markdown",
   "metadata": {
    "run_control": {
     "frozen": false,
     "read_only": false
    }
   },
   "source": [
    "### Multi-layer Perceptron Model"
   ]
  },
  {
   "cell_type": "code",
   "execution_count": 45,
   "metadata": {},
   "outputs": [],
   "source": [
    "from sklearn.neural_network import MLPClassifier\n",
    "from sklearn.model_selection import cross_val_score"
   ]
  },
  {
   "cell_type": "code",
   "execution_count": 99,
   "metadata": {
    "run_control": {
     "frozen": false,
     "read_only": false
    }
   },
   "outputs": [
    {
     "name": "stderr",
     "output_type": "stream",
     "text": [
      "C:\\Users\\chuck\\Anaconda3\\lib\\site-packages\\sklearn\\neural_network\\multilayer_perceptron.py:566: ConvergenceWarning: Stochastic Optimizer: Maximum iterations (300) reached and the optimization hasn't converged yet.\n",
      "  % self.max_iter, ConvergenceWarning)\n"
     ]
    },
    {
     "data": {
      "text/plain": [
       "MLPClassifier(activation='relu', alpha=0.0001, batch_size='auto', beta_1=0.9,\n",
       "              beta_2=0.999, early_stopping=False, epsilon=1e-08,\n",
       "              hidden_layer_sizes=(100,), learning_rate='constant',\n",
       "              learning_rate_init=0.001, max_iter=300, momentum=0.9,\n",
       "              n_iter_no_change=10, nesterovs_momentum=True, power_t=0.5,\n",
       "              random_state=None, shuffle=True, solver='adam', tol=0.0001,\n",
       "              validation_fraction=0.1, verbose=False, warm_start=False)"
      ]
     },
     "execution_count": 99,
     "metadata": {},
     "output_type": "execute_result"
    }
   ],
   "source": [
    "mlp = MLPClassifier(max_iter=300 )#hidden_layer_sizes=(100,)\n",
    "mlp.fit(X, y)"
   ]
  },
  {
   "cell_type": "markdown",
   "metadata": {},
   "source": [
    "Multi-layer Perceptron Classifier\n",
    "\n",
    "MLPClassifier(activation='relu', alpha=0.0001, batch_size='auto', beta_1=0.9,\n",
    "              beta_2=0.999, early_stopping=False, epsilon=1e-08,\n",
    "              hidden_layer_sizes=(100,), learning_rate='constant',\n",
    "              learning_rate_init=0.001, max_iter=200, momentum=0.9,\n",
    "              n_iter_no_change=10, nesterovs_momentum=True, power_t=0.5,\n",
    "              random_state=None, shuffle=True, solver='adam', tol=0.0001,\n",
    "              validation_fraction=0.1, verbose=False, warm_start=False)\n",
    "\n",
    "- score = 0.8302 without artist feature\n",
    "- score = 0.9737 with artist feature \n",
    "\n",
    "With artist feature was kinda silly as there was almost no variance between artist and department.  "
   ]
  },
  {
   "cell_type": "code",
   "execution_count": 100,
   "metadata": {},
   "outputs": [
    {
     "data": {
      "text/plain": [
       "0.8301956975470646"
      ]
     },
     "execution_count": 100,
     "metadata": {},
     "output_type": "execute_result"
    }
   ],
   "source": [
    "mlp.score(X,y)"
   ]
  },
  {
   "cell_type": "code",
   "execution_count": 98,
   "metadata": {},
   "outputs": [
    {
     "data": {
      "text/html": [
       "<div>\n",
       "<style scoped>\n",
       "    .dataframe tbody tr th:only-of-type {\n",
       "        vertical-align: middle;\n",
       "    }\n",
       "\n",
       "    .dataframe tbody tr th {\n",
       "        vertical-align: top;\n",
       "    }\n",
       "\n",
       "    .dataframe thead th {\n",
       "        text-align: right;\n",
       "    }\n",
       "</style>\n",
       "<table border=\"1\" class=\"dataframe\">\n",
       "  <thead>\n",
       "    <tr style=\"text-align: right;\">\n",
       "      <th></th>\n",
       "      <th>archi</th>\n",
       "      <th>drawi</th>\n",
       "      <th>media</th>\n",
       "      <th>paint</th>\n",
       "      <th>photo</th>\n",
       "      <th>max</th>\n",
       "    </tr>\n",
       "  </thead>\n",
       "  <tbody>\n",
       "    <tr>\n",
       "      <th>0</th>\n",
       "      <td>96.62</td>\n",
       "      <td>1.38</td>\n",
       "      <td>0.00</td>\n",
       "      <td>0.27</td>\n",
       "      <td>1.72</td>\n",
       "      <td>96.62</td>\n",
       "    </tr>\n",
       "    <tr>\n",
       "      <th>1</th>\n",
       "      <td>13.14</td>\n",
       "      <td>81.07</td>\n",
       "      <td>0.00</td>\n",
       "      <td>0.30</td>\n",
       "      <td>5.50</td>\n",
       "      <td>81.07</td>\n",
       "    </tr>\n",
       "    <tr>\n",
       "      <th>2</th>\n",
       "      <td>58.19</td>\n",
       "      <td>18.49</td>\n",
       "      <td>0.00</td>\n",
       "      <td>0.19</td>\n",
       "      <td>23.13</td>\n",
       "      <td>58.19</td>\n",
       "    </tr>\n",
       "    <tr>\n",
       "      <th>3</th>\n",
       "      <td>56.02</td>\n",
       "      <td>22.29</td>\n",
       "      <td>0.00</td>\n",
       "      <td>0.19</td>\n",
       "      <td>21.51</td>\n",
       "      <td>56.02</td>\n",
       "    </tr>\n",
       "    <tr>\n",
       "      <th>4</th>\n",
       "      <td>12.52</td>\n",
       "      <td>34.06</td>\n",
       "      <td>0.00</td>\n",
       "      <td>52.91</td>\n",
       "      <td>0.50</td>\n",
       "      <td>52.91</td>\n",
       "    </tr>\n",
       "    <tr>\n",
       "      <th>5</th>\n",
       "      <td>66.78</td>\n",
       "      <td>15.40</td>\n",
       "      <td>0.00</td>\n",
       "      <td>0.22</td>\n",
       "      <td>17.60</td>\n",
       "      <td>66.78</td>\n",
       "    </tr>\n",
       "    <tr>\n",
       "      <th>6</th>\n",
       "      <td>49.48</td>\n",
       "      <td>24.40</td>\n",
       "      <td>0.00</td>\n",
       "      <td>0.18</td>\n",
       "      <td>25.94</td>\n",
       "      <td>49.48</td>\n",
       "    </tr>\n",
       "    <tr>\n",
       "      <th>7</th>\n",
       "      <td>68.33</td>\n",
       "      <td>10.58</td>\n",
       "      <td>0.00</td>\n",
       "      <td>0.11</td>\n",
       "      <td>20.99</td>\n",
       "      <td>68.33</td>\n",
       "    </tr>\n",
       "    <tr>\n",
       "      <th>8</th>\n",
       "      <td>2.53</td>\n",
       "      <td>88.64</td>\n",
       "      <td>0.00</td>\n",
       "      <td>1.02</td>\n",
       "      <td>7.80</td>\n",
       "      <td>88.64</td>\n",
       "    </tr>\n",
       "  </tbody>\n",
       "</table>\n",
       "</div>"
      ],
      "text/plain": [
       "   archi  drawi  media  paint  photo   max\n",
       "0  96.62   1.38   0.00   0.27   1.72 96.62\n",
       "1  13.14  81.07   0.00   0.30   5.50 81.07\n",
       "2  58.19  18.49   0.00   0.19  23.13 58.19\n",
       "3  56.02  22.29   0.00   0.19  21.51 56.02\n",
       "4  12.52  34.06   0.00  52.91   0.50 52.91\n",
       "5  66.78  15.40   0.00   0.22  17.60 66.78\n",
       "6  49.48  24.40   0.00   0.18  25.94 49.48\n",
       "7  68.33  10.58   0.00   0.11  20.99 68.33\n",
       "8   2.53  88.64   0.00   1.02   7.80 88.64"
      ]
     },
     "execution_count": 98,
     "metadata": {},
     "output_type": "execute_result"
    }
   ],
   "source": [
    "# probability by sample by target (percent)\n",
    "df_prb = pd.DataFrame(mlp.predict_proba( X), columns=mlp.classes_).mul(100)\n",
    "df_prb['max'] = df_prb.max(axis=1)\n",
    "df_prb.head(9)"
   ]
  },
  {
   "cell_type": "markdown",
   "metadata": {},
   "source": [
    "#### Scratch\n",
    "\n",
    "snippets not needed, but not deleted"
   ]
  },
  {
   "cell_type": "code",
   "execution_count": null,
   "metadata": {},
   "outputs": [],
   "source": [
    "df.isna().any()"
   ]
  },
  {
   "cell_type": "code",
   "execution_count": null,
   "metadata": {},
   "outputs": [],
   "source": [
    "df.nationality.unique()"
   ]
  },
  {
   "cell_type": "code",
   "execution_count": null,
   "metadata": {},
   "outputs": [],
   "source": [
    "df.tail(2)"
   ]
  },
  {
   "cell_type": "code",
   "execution_count": null,
   "metadata": {},
   "outputs": [],
   "source": [
    "df.dtypes"
   ]
  },
  {
   "cell_type": "code",
   "execution_count": null,
   "metadata": {},
   "outputs": [],
   "source": [
    "rx1 = re.compile(r\"Unknown+\", re.IGNORECASE)     # word Unknown\n",
    "rx2 = re.compile(r\"(\\d+)\")    #  4 digits only group\n",
    "rx3 = re.compile(r\"(\\w+)\")         # matches at least 1 alphanumeric group\n",
    "rx4 = re.compile(r\"(\\w+\\s*\\w+)\") "
   ]
  },
  {
   "cell_type": "code",
   "execution_count": null,
   "metadata": {},
   "outputs": [],
   "source": [
    "m = rx2.findall(t)\n",
    "bool(m[0]) and bool(m[2])"
   ]
  },
  {
   "cell_type": "code",
   "execution_count": null,
   "metadata": {},
   "outputs": [],
   "source": [
    "row_drp = list(np.where(art.date == 'Unknown')[0])\n",
    "df = art.drop(row_drp, axis=0)\n",
    "df.index = range(len(df))"
   ]
  },
  {
   "cell_type": "code",
   "execution_count": null,
   "metadata": {},
   "outputs": [],
   "source": [
    "row_drp = list(np.where(df.artist.str.contains(\"Unknown\"))[0])\n",
    "df = df.drop(row_drp, axis=0)\n",
    "df.index = range(len(df))"
   ]
  },
  {
   "cell_type": "code",
   "execution_count": null,
   "metadata": {},
   "outputs": [],
   "source": [
    "row_drp = list(np.where(df.gender == \"()\")[0])\n",
    "df = df.drop(row_drp, axis=0)\n",
    "df.index = range(len(df))"
   ]
  },
  {
   "cell_type": "code",
   "execution_count": null,
   "metadata": {},
   "outputs": [],
   "source": [
    "series = [df[col].apply(lambda x: re.findall(r'(\\w+)', x)) for col in ['nationality', 'gender', 'born', 'living']]\n",
    "assert series[0].shape == series[1].shape  \n",
    "len(series[0])\n",
    "    "
   ]
  },
  {
   "cell_type": "code",
   "execution_count": null,
   "metadata": {},
   "outputs": [],
   "source": [
    "for S in series:\n",
    "    for i,s in enumerate(S):\n",
    "        if not len(s):                    S[i] = 'unknown'\n",
    "        elif len(s) == 1:                 S[i] = s[0]\n",
    "        elif all([x == s[0] for x in s]): S[i] = s[0]\n",
    "        else:                             S[i] = 'multiple'"
   ]
  },
  {
   "cell_type": "code",
   "execution_count": null,
   "metadata": {},
   "outputs": [],
   "source": [
    "for i in range(len(df)): \n",
    "    check = [x for x in df.iat[i,2]]\n",
    "    if len(check) == 1: df.iat[i,2] = df.iat[i,2][0].lower()\n",
    "    elif 'Male' in check and 'Female' in check: art.gender[i] = 'mixed'\n",
    "    else:               df.iat[i,2] = df.iat[i,2][0].lower()"
   ]
  },
  {
   "cell_type": "code",
   "execution_count": null,
   "metadata": {},
   "outputs": [],
   "source": [
    "\n",
    "for i in range(len(df)):\n",
    "    if len(df.iat[i,1]) == 1: df.iat[i,1] = df.iat[i,1][0]\n",
    "    else: df.iat[i,1] == 'mixed'"
   ]
  },
  {
   "cell_type": "code",
   "execution_count": null,
   "metadata": {},
   "outputs": [],
   "source": [
    "for (i,val) in enumerate(art.gender):\n",
    "    if len(val) == 1: art.gender[i] =art.gender[i][0].lower()\n",
    "    elif 'Male' in art.gender[i] and 'Female' in art.gender[i]: art.gender[i] = 'mixed'\n",
    "    else:             art.gender[i] =art.gender[i][0].lower()"
   ]
  }
 ],
 "metadata": {
  "hide_input": false,
  "kernelspec": {
   "display_name": "Python 3",
   "language": "python",
   "name": "python3"
  },
  "language_info": {
   "codemirror_mode": {
    "name": "ipython",
    "version": 3
   },
   "file_extension": ".py",
   "mimetype": "text/x-python",
   "name": "python",
   "nbconvert_exporter": "python",
   "pygments_lexer": "ipython3",
   "version": "3.7.3"
  },
  "toc": {
   "colors": {
    "hover_highlight": "#DAA520",
    "running_highlight": "#FF0000",
    "selected_highlight": "#FFD700"
   },
   "moveMenuLeft": true,
   "nav_menu": {
    "height": "86px",
    "width": "252px"
   },
   "navigate_menu": true,
   "number_sections": true,
   "sideBar": true,
   "threshold": 4,
   "toc_cell": false,
   "toc_section_display": "block",
   "toc_window_display": false
  }
 },
 "nbformat": 4,
 "nbformat_minor": 2
}

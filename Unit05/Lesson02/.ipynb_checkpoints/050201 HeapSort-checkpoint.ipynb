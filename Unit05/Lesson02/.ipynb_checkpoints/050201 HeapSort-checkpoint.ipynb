{
 "cells": [
  {
   "cell_type": "markdown",
   "metadata": {},
   "source": [
    "## DRILL\n",
    "\n",
    "Return to the [sorting wiki page](https://en.wikipedia.org/wiki/Sorting_algorithm) and pick an algorithm we haven't covered here (you probably want to pick one of the simpler ones, but it's up to you. Implement it in Python below and see how it compares in sorting our short and long lists. You should be able to easily find guides on how to implement any of the algorithms. Can you figure out why it runs faster or slower than our other sorting algorithms?\n",
    "\n",
    "Some good sorts to try are:\n",
    "* Heap Sort\n",
    "* Selection Sort\n",
    "* QuickSort"
   ]
  },
  {
   "cell_type": "markdown",
   "metadata": {},
   "source": [
    "The steps are:\n",
    "\n",
    "1. Call the buildMaxHeap() function on the list. Also referred to as heapify(), this builds a heap from a list in O(n) operations.\n",
    "2. Swap the first element of the list with the final element. Decrease the considered range of the list by one.\n",
    "3. Call the siftDown() function on the list to sift the new first element to its appropriate index in the heap.\n",
    "4. Go to step (2) unless the considered range of the list is one element."
   ]
  },
  {
   "cell_type": "code",
   "execution_count": 14,
   "metadata": {},
   "outputs": [],
   "source": [
    "import random"
   ]
  },
  {
   "cell_type": "code",
   "execution_count": 84,
   "metadata": {},
   "outputs": [],
   "source": [
    "def last_parent(sze):\n",
    "    return sze // 2 - 1\n",
    "\n",
    "def shift_down(A, i): \n",
    "# initialize i as max value location, left child and right child location\n",
    "    sze = len(A)\n",
    "    imx = i; ilt = 2 * i + 1; irt = 2 * i + 2 \n",
    "    if irt < sze and A[irt] > A[imx]:\n",
    "        imx = irt\n",
    "    if A[ilt] > A[imx]:\n",
    "        imx = ilt    \n",
    "    if imx != i: \n",
    "        A[i],A[imx] = A[imx],A[i] \n",
    "        if imx <= last_parent(sze):\n",
    "            shift_down(A, imx) \n",
    "    return A \n",
    "\n",
    "def heap_sort(A):\n",
    "    S = []; sze = len(A)\n",
    "    for i in range(last_parent(sze),-1,-1):\n",
    "        shift_down(A, i)       \n",
    "    while len(A) > 1:\n",
    "        S.append(A[0])\n",
    "        A[0] = A.pop()\n",
    "        for i in range(0, last_parent(len(A)) + 1):\n",
    "            shift_down(A, i)      \n",
    "    \n",
    "    return S + A"
   ]
  },
  {
   "cell_type": "code",
   "execution_count": 115,
   "metadata": {},
   "outputs": [],
   "source": [
    "test =  list(random.sample(range(100), 14))\n",
    "heap_sort(test)"
   ]
  }
 ],
 "metadata": {
  "kernelspec": {
   "display_name": "Python 3",
   "language": "python",
   "name": "python3"
  }
 },
 "nbformat": 4,
 "nbformat_minor": 2
}

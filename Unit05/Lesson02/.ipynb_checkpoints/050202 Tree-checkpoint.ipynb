{
 "cells": [
  {
   "cell_type": "markdown",
   "metadata": {},
   "source": [
    "DRILL:\n",
    "\n",
    "Implement a binary tree, which is filled with 15 pieces of random data. Your job is to then write a program to traverse the tree using a breadth first traversal. If you want additional practice, try other forms of traversal."
   ]
  },
  {
   "cell_type": "code",
   "execution_count": 14,
   "metadata": {},
   "outputs": [],
   "source": [
    "import random"
   ]
  },
  {
   "cell_type": "code",
   "execution_count": 1,
   "metadata": {},
   "outputs": [],
   "source": [
    "from string import ascii_uppercase"
   ]
  },
  {
   "cell_type": "code",
   "execution_count": 2,
   "metadata": {},
   "outputs": [],
   "source": [
    "def last_parent(sze):\n",
    "    return sze // 2 - 1\n",
    "\n",
    "def shift_down(A, i): \n",
    "# initialize i as max value location, left child and right child location\n",
    "    sze = len(A)\n",
    "    imx = i; ilt = 2 * i + 1; irt = 2 * i + 2 \n",
    "    if irt < sze and A[irt] > A[imx]:\n",
    "        imx = irt\n",
    "    if A[ilt] > A[imx]:\n",
    "        imx = ilt    \n",
    "    if imx != i: \n",
    "        A[i],A[imx] = A[imx],A[i] \n",
    "        if imx <= last_parent(sze):\n",
    "            shift_down(A, imx) \n",
    "    return A \n",
    "\n",
    "def heap_sort(A):\n",
    "    S = []; sze = len(A)\n",
    "    for i in range(last_parent(sze),-1,-1):\n",
    "        shift_down(A, i)       \n",
    "    while len(A) > 1:\n",
    "        S.append(A[0])\n",
    "        A[0] = A.pop()\n",
    "        for i in range(0, last_parent(len(A)) + 1):\n",
    "            shift_down(A, i)      \n",
    "    \n",
    "    return S + A"
   ]
  },
  {
   "cell_type": "code",
   "execution_count": 9,
   "metadata": {},
   "outputs": [],
   "source": [
    "def num_levels(sze):\n",
    "    n = 0\n",
    "    while sze > 0:\n",
    "        sze = sze // 2\n",
    "        n += 1\n",
    "    return n\n",
    "    "
   ]
  },
  {
   "cell_type": "code",
   "execution_count": 27,
   "metadata": {},
   "outputs": [],
   "source": [
    "def up_breadth(A):\n",
    "    trv = []; sze = len(A)\n",
    "    n = num_levels(sze)\n",
    "    for i in range(n-1,-1,-1):\n",
    "        bgn = 2 ** i - 1; end = 2 ** i * 2 - 2\n",
    "        if sze - 1 < end: end = sze\n",
    "        for j in range(bgn,end + 1):\n",
    "            trv.append(A[j])\n",
    "    return trv"
   ]
  },
  {
   "cell_type": "code",
   "execution_count": 28,
   "metadata": {},
   "outputs": [
    {
     "data": {
      "text/plain": [
       "['H', 'I', 'J', 'K', 'L', 'M', 'N', 'O', 'D', 'E', 'F', 'G', 'B', 'C', 'A']"
      ]
     },
     "execution_count": 28,
     "metadata": {},
     "output_type": "execute_result"
    }
   ],
   "source": [
    "up_breadth(tree)"
   ]
  },
  {
   "cell_type": "code",
   "execution_count": null,
   "metadata": {},
   "outputs": [],
   "source": [
    "0\n",
    "1 2\n",
    "3 4 5 6\n"
   ]
  },
  {
   "cell_type": "code",
   "execution_count": 16,
   "metadata": {},
   "outputs": [
    {
     "data": {
      "text/plain": [
       "8"
      ]
     },
     "execution_count": 16,
     "metadata": {},
     "output_type": "execute_result"
    }
   ],
   "source": [
    "num_levels(162)"
   ]
  },
  {
   "cell_type": "markdown",
   "metadata": {},
   "source": [
    "Admittedly I found the drill instructions very confusing plus I had used the heap sort algorithmn in the previous drill. So I will do the traverse scripting, but implement the tree as a list.  "
   ]
  },
  {
   "cell_type": "code",
   "execution_count": 23,
   "metadata": {},
   "outputs": [
    {
     "name": "stdout",
     "output_type": "stream",
     "text": [
      "['A', 'B', 'C', 'D', 'E', 'F', 'G', 'H', 'I', 'J', 'K', 'L', 'M', 'N', 'O']\n"
     ]
    }
   ],
   "source": [
    "# implement as list, it's also the breadth traverse.  \n",
    "tree = [chr for chr in ascii_uppercase[0:15]]\n",
    "print(tree)"
   ]
  },
  {
   "cell_type": "code",
   "execution_count": null,
   "metadata": {},
   "outputs": [],
   "source": [
    "#breadth travers starting at bootom level left to right\n"
   ]
  }
 ],
 "metadata": {
  "kernelspec": {
   "display_name": "Python 3",
   "language": "python",
   "name": "python3"
  },
  "language_info": {
   "codemirror_mode": {
    "name": "ipython",
    "version": 3
   },
   "file_extension": ".py",
   "mimetype": "text/x-python",
   "name": "python",
   "nbconvert_exporter": "python",
   "pygments_lexer": "ipython3",
   "version": "3.7.3"
  }
 },
 "nbformat": 4,
 "nbformat_minor": 2
}

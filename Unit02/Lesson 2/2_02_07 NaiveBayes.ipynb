{
 "cells": [
  {
   "cell_type": "code",
   "execution_count": 1,
   "metadata": {},
   "outputs": [],
   "source": [
    "import numpy as np\n",
    "import pandas as pd\n",
    "import scipy\n",
    "import sklearn\n",
    "import matplotlib.pyplot as plt\n",
    "import seaborn as sns\n",
    "from collections import Counter\n",
    "from sklearn.naive_bayes import BernoulliNB"
   ]
  },
  {
   "cell_type": "code",
   "execution_count": 2,
   "metadata": {},
   "outputs": [
    {
     "data": {
      "text/html": [
       "<div>\n",
       "<style scoped>\n",
       "    .dataframe tbody tr th:only-of-type {\n",
       "        vertical-align: middle;\n",
       "    }\n",
       "\n",
       "    .dataframe tbody tr th {\n",
       "        vertical-align: top;\n",
       "    }\n",
       "\n",
       "    .dataframe thead th {\n",
       "        text-align: right;\n",
       "    }\n",
       "</style>\n",
       "<table border=\"1\" class=\"dataframe\">\n",
       "  <thead>\n",
       "    <tr style=\"text-align: right;\">\n",
       "      <th></th>\n",
       "      <th>review</th>\n",
       "      <th>target</th>\n",
       "      <th>length</th>\n",
       "    </tr>\n",
       "  </thead>\n",
       "  <tbody>\n",
       "    <tr>\n",
       "      <th>0</th>\n",
       "      <td>Wow... Loved this place.</td>\n",
       "      <td>True</td>\n",
       "      <td>24</td>\n",
       "    </tr>\n",
       "    <tr>\n",
       "      <th>1</th>\n",
       "      <td>Crust is not good.</td>\n",
       "      <td>False</td>\n",
       "      <td>18</td>\n",
       "    </tr>\n",
       "    <tr>\n",
       "      <th>2</th>\n",
       "      <td>Not tasty and the texture was just nasty.</td>\n",
       "      <td>False</td>\n",
       "      <td>41</td>\n",
       "    </tr>\n",
       "    <tr>\n",
       "      <th>3</th>\n",
       "      <td>Stopped by during the late May bank holiday of...</td>\n",
       "      <td>True</td>\n",
       "      <td>87</td>\n",
       "    </tr>\n",
       "    <tr>\n",
       "      <th>4</th>\n",
       "      <td>The selection on the menu was great and so wer...</td>\n",
       "      <td>True</td>\n",
       "      <td>59</td>\n",
       "    </tr>\n",
       "  </tbody>\n",
       "</table>\n",
       "</div>"
      ],
      "text/plain": [
       "                                              review  target  length\n",
       "0                           Wow... Loved this place.    True      24\n",
       "1                                 Crust is not good.   False      18\n",
       "2          Not tasty and the texture was just nasty.   False      41\n",
       "3  Stopped by during the late May bank holiday of...    True      87\n",
       "4  The selection on the menu was great and so wer...    True      59"
      ]
     },
     "execution_count": 2,
     "metadata": {},
     "output_type": "execute_result"
    }
   ],
   "source": [
    "# use the yelp file for training, change target to bool\n",
    "file = 'data/yelp_labelled.txt'\n",
    "df = pd.read_csv(file, sep='\\t',header=None)\n",
    "df.columns = ['review', 'target']\n",
    "df['length'] = pd.Series([len(string) for string in df.review.str.strip()])\n",
    "df.target = np.where(df.target,True, False)\n",
    "df.head()"
   ]
  },
  {
   "cell_type": "markdown",
   "metadata": {},
   "source": [
    "Checked if string length could be feature but populations are nearly identical"
   ]
  },
  {
   "cell_type": "code",
   "execution_count": 8,
   "metadata": {},
   "outputs": [
    {
     "data": {
      "text/html": [
       "<div>\n",
       "<style scoped>\n",
       "    .dataframe tbody tr th:only-of-type {\n",
       "        vertical-align: middle;\n",
       "    }\n",
       "\n",
       "    .dataframe tbody tr th {\n",
       "        vertical-align: top;\n",
       "    }\n",
       "\n",
       "    .dataframe thead th {\n",
       "        text-align: right;\n",
       "    }\n",
       "</style>\n",
       "<table border=\"1\" class=\"dataframe\">\n",
       "  <thead>\n",
       "    <tr style=\"text-align: right;\">\n",
       "      <th></th>\n",
       "      <th>count</th>\n",
       "      <th>mean</th>\n",
       "      <th>std</th>\n",
       "      <th>min</th>\n",
       "      <th>25%</th>\n",
       "      <th>50%</th>\n",
       "      <th>75%</th>\n",
       "      <th>max</th>\n",
       "    </tr>\n",
       "    <tr>\n",
       "      <th>target</th>\n",
       "      <th></th>\n",
       "      <th></th>\n",
       "      <th></th>\n",
       "      <th></th>\n",
       "      <th></th>\n",
       "      <th></th>\n",
       "      <th></th>\n",
       "      <th></th>\n",
       "    </tr>\n",
       "  </thead>\n",
       "  <tbody>\n",
       "    <tr>\n",
       "      <th>False</th>\n",
       "      <td>500.0</td>\n",
       "      <td>60.750</td>\n",
       "      <td>34.224935</td>\n",
       "      <td>11.0</td>\n",
       "      <td>33.00</td>\n",
       "      <td>52.5</td>\n",
       "      <td>84.00</td>\n",
       "      <td>149.0</td>\n",
       "    </tr>\n",
       "    <tr>\n",
       "      <th>True</th>\n",
       "      <td>500.0</td>\n",
       "      <td>55.882</td>\n",
       "      <td>30.228390</td>\n",
       "      <td>11.0</td>\n",
       "      <td>32.75</td>\n",
       "      <td>49.5</td>\n",
       "      <td>73.25</td>\n",
       "      <td>148.0</td>\n",
       "    </tr>\n",
       "  </tbody>\n",
       "</table>\n",
       "</div>"
      ],
      "text/plain": [
       "        count    mean        std   min    25%   50%    75%    max\n",
       "target                                                           \n",
       "False   500.0  60.750  34.224935  11.0  33.00  52.5  84.00  149.0\n",
       "True    500.0  55.882  30.228390  11.0  32.75  49.5  73.25  148.0"
      ]
     },
     "execution_count": 8,
     "metadata": {},
     "output_type": "execute_result"
    }
   ],
   "source": [
    "df.groupby('target').length.describe()"
   ]
  },
  {
   "cell_type": "code",
   "execution_count": 10,
   "metadata": {},
   "outputs": [
    {
     "data": {
      "image/png": "[encoded data removed]",
      "text/plain": [
       "<Figure size 432x288 with 1 Axes>"
      ]
     },
     "metadata": {
      "needs_background": "light"
     },
     "output_type": "display_data"
    }
   ],
   "source": [
    "    nbins = 15\n",
    "    plt.axis([0, 150, 0, 100])\n",
    "    plt.hist(df.length[df.target == True],  bins=nbins, alpha=0.5, label='Population 1')\n",
    "    plt.hist(df.length[df.target == False], bins=nbins, alpha=0.5, label='Population 2')\n",
    "    plt.legend(loc='upper right')\n",
    "    plt.show()"
   ]
  },
  {
   "cell_type": "code",
   "execution_count": 6,
   "metadata": {},
   "outputs": [],
   "source": [
    "# clean and split review strings \n",
    "\n",
    "def A(df): return df.apply(lambda x: x.str.strip(), axis=1) \n",
    "def B(df): return df.apply(lambda x: x.str.replace(r\"\\Bn't\\b\", ' not ', regex=True), axis=1)\n",
    "def C(df): return df.apply(lambda x: x.str.replace(r'\\W+', ' ', regex=True), axis=1)\n",
    "def D(df): return df.apply(lambda x: x.str.replace(r'\\d+', ' ', regex=True), axis=1)\n",
    "def E(df): return df.apply(lambda x: x.str.lower(), axis=1) \n",
    "def F(df): return df.apply(lambda x: x.str.replace(r\"\\bnot\\s\", 'not', regex=True), axis=1)\n",
    "def G(df): return df.apply(lambda x: x.str.replace(r'\\s{2}', ' ', regex=True), axis=1)  \n",
    "def H(df): return df.apply(lambda x: x.str.strip(), axis=1)\n",
    "def I(df): return df.apply(lambda x: x.str.split(), axis=1)\n",
    "\n",
    "switch = {char:eval(char) for char in 'ABCDEFGHI'}\n",
    "\n",
    "def switch_clean_df(df, string):\n",
    "    for char in string:\n",
    "        df = switch[char](df)\n",
    "    return df "
   ]
  },
  {
   "cell_type": "code",
   "execution_count": 7,
   "metadata": {},
   "outputs": [],
   "source": [
    "# create cleaned list of reviews as lists for target = true, target = false, all reviews\n",
    "crt = switch_clean_df(pd.DataFrame(df.review[df.target]),          'ABCDEGHI').review\n",
    "crf = switch_clean_df(pd.DataFrame(df.review[df.target == False]), 'ABCDEGHI').review\n",
    "cra = switch_clean_df(pd.DataFrame(df.review),                     'ABCDEGHI').review\n",
    "# create list of \"all words for target = true, target = false, all reviews\n",
    "awt = [t for rt in crt for t in rt]\n",
    "awf = [f for rf in crf for f in rf]\n",
    "awa = [a for ra in cra for a in ra]\n",
    "# create list of words that are only in target = true, target = false\n",
    "owt = list(set(awt) - set(awf))\n",
    "owf = list(set(awf) - set(awt))\n",
    "# counters of all words that are only in target = true, target = false, all reviews\n",
    "ctt = Counter(); ctf = Counter(); cta = Counter()\n",
    "ctt.update([t for t in awt if t in owt]) \n",
    "ctf.update([f for f in awf if f in owf]) \n",
    "cta.update([a for a in awa])"
   ]
  },
  {
   "cell_type": "code",
   "execution_count": 11,
   "metadata": {},
   "outputs": [],
   "source": [
    "#kwt = [val for val, count in ctt.most_common(10) if count >= 10]\n",
    "#kwf = [val for val, count in ctf if count >= 10]\n",
    "kwa = [x for x in cta if cta[x] >= len(df) // 100]"
   ]
  },
  {
   "cell_type": "code",
   "execution_count": 13,
   "metadata": {},
   "outputs": [
    {
     "data": {
      "text/html": [
       "<div>\n",
       "<style scoped>\n",
       "    .dataframe tbody tr th:only-of-type {\n",
       "        vertical-align: middle;\n",
       "    }\n",
       "\n",
       "    .dataframe tbody tr th {\n",
       "        vertical-align: top;\n",
       "    }\n",
       "\n",
       "    .dataframe thead th {\n",
       "        text-align: right;\n",
       "    }\n",
       "</style>\n",
       "<table border=\"1\" class=\"dataframe\">\n",
       "  <thead>\n",
       "    <tr style=\"text-align: right;\">\n",
       "      <th></th>\n",
       "      <th>loved</th>\n",
       "      <th>this</th>\n",
       "      <th>place</th>\n",
       "      <th>is</th>\n",
       "      <th>not</th>\n",
       "      <th>good</th>\n",
       "      <th>tasty</th>\n",
       "      <th>and</th>\n",
       "      <th>the</th>\n",
       "      <th>was</th>\n",
       "      <th>...</th>\n",
       "      <th>flavor</th>\n",
       "      <th>probably</th>\n",
       "      <th>can</th>\n",
       "      <th>wo</th>\n",
       "      <th>pizza</th>\n",
       "      <th>from</th>\n",
       "      <th>recommend</th>\n",
       "      <th>terrible</th>\n",
       "      <th>perfect</th>\n",
       "      <th>awesome</th>\n",
       "    </tr>\n",
       "  </thead>\n",
       "  <tbody>\n",
       "    <tr>\n",
       "      <th>0</th>\n",
       "      <td>False</td>\n",
       "      <td>True</td>\n",
       "      <td>True</td>\n",
       "      <td>True</td>\n",
       "      <td>False</td>\n",
       "      <td>False</td>\n",
       "      <td>False</td>\n",
       "      <td>False</td>\n",
       "      <td>False</td>\n",
       "      <td>False</td>\n",
       "      <td>...</td>\n",
       "      <td>False</td>\n",
       "      <td>False</td>\n",
       "      <td>False</td>\n",
       "      <td>False</td>\n",
       "      <td>False</td>\n",
       "      <td>False</td>\n",
       "      <td>False</td>\n",
       "      <td>False</td>\n",
       "      <td>False</td>\n",
       "      <td>False</td>\n",
       "    </tr>\n",
       "    <tr>\n",
       "      <th>1</th>\n",
       "      <td>False</td>\n",
       "      <td>False</td>\n",
       "      <td>False</td>\n",
       "      <td>True</td>\n",
       "      <td>True</td>\n",
       "      <td>True</td>\n",
       "      <td>False</td>\n",
       "      <td>False</td>\n",
       "      <td>False</td>\n",
       "      <td>False</td>\n",
       "      <td>...</td>\n",
       "      <td>False</td>\n",
       "      <td>False</td>\n",
       "      <td>False</td>\n",
       "      <td>False</td>\n",
       "      <td>False</td>\n",
       "      <td>False</td>\n",
       "      <td>False</td>\n",
       "      <td>False</td>\n",
       "      <td>False</td>\n",
       "      <td>False</td>\n",
       "    </tr>\n",
       "  </tbody>\n",
       "</table>\n",
       "<p>2 rows × 177 columns</p>\n",
       "</div>"
      ],
      "text/plain": [
       "   loved   this  place    is    not   good  tasty    and    the    was  \\\n",
       "0  False   True   True  True  False  False  False  False  False  False   \n",
       "1  False  False  False  True   True   True  False  False  False  False   \n",
       "\n",
       "    ...     flavor  probably    can     wo  pizza   from  recommend  terrible  \\\n",
       "0   ...      False     False  False  False  False  False      False     False   \n",
       "1   ...      False     False  False  False  False  False      False     False   \n",
       "\n",
       "   perfect  awesome  \n",
       "0    False    False  \n",
       "1    False    False  \n",
       "\n",
       "[2 rows x 177 columns]"
      ]
     },
     "execution_count": 13,
     "metadata": {},
     "output_type": "execute_result"
    }
   ],
   "source": [
    "dfa = pd.DataFrame({key:np.where(df.review.str.contains(key), True, False) for key in kwa})\n",
    "#dff = pd.DataFrame({key:np.where(df.review.str.contains(key), False, True) for key in kwf})\n",
    "dfa.head(2)"
   ]
  },
  {
   "cell_type": "code",
   "execution_count": 14,
   "metadata": {},
   "outputs": [
    {
     "data": {
      "text/html": [
       "<div>\n",
       "<style scoped>\n",
       "    .dataframe tbody tr th:only-of-type {\n",
       "        vertical-align: middle;\n",
       "    }\n",
       "\n",
       "    .dataframe tbody tr th {\n",
       "        vertical-align: top;\n",
       "    }\n",
       "\n",
       "    .dataframe thead th {\n",
       "        text-align: right;\n",
       "    }\n",
       "</style>\n",
       "<table border=\"1\" class=\"dataframe\">\n",
       "  <thead>\n",
       "    <tr style=\"text-align: right;\">\n",
       "      <th></th>\n",
       "      <th>target</th>\n",
       "      <th>length</th>\n",
       "      <th>loved</th>\n",
       "      <th>this</th>\n",
       "      <th>place</th>\n",
       "      <th>is</th>\n",
       "      <th>not</th>\n",
       "      <th>good</th>\n",
       "      <th>tasty</th>\n",
       "      <th>and</th>\n",
       "      <th>...</th>\n",
       "      <th>flavor</th>\n",
       "      <th>probably</th>\n",
       "      <th>can</th>\n",
       "      <th>wo</th>\n",
       "      <th>pizza</th>\n",
       "      <th>from</th>\n",
       "      <th>recommend</th>\n",
       "      <th>terrible</th>\n",
       "      <th>perfect</th>\n",
       "      <th>awesome</th>\n",
       "    </tr>\n",
       "  </thead>\n",
       "  <tbody>\n",
       "    <tr>\n",
       "      <th>0</th>\n",
       "      <td>True</td>\n",
       "      <td>24</td>\n",
       "      <td>False</td>\n",
       "      <td>True</td>\n",
       "      <td>True</td>\n",
       "      <td>True</td>\n",
       "      <td>False</td>\n",
       "      <td>False</td>\n",
       "      <td>False</td>\n",
       "      <td>False</td>\n",
       "      <td>...</td>\n",
       "      <td>False</td>\n",
       "      <td>False</td>\n",
       "      <td>False</td>\n",
       "      <td>False</td>\n",
       "      <td>False</td>\n",
       "      <td>False</td>\n",
       "      <td>False</td>\n",
       "      <td>False</td>\n",
       "      <td>False</td>\n",
       "      <td>False</td>\n",
       "    </tr>\n",
       "    <tr>\n",
       "      <th>1</th>\n",
       "      <td>False</td>\n",
       "      <td>18</td>\n",
       "      <td>False</td>\n",
       "      <td>False</td>\n",
       "      <td>False</td>\n",
       "      <td>True</td>\n",
       "      <td>True</td>\n",
       "      <td>True</td>\n",
       "      <td>False</td>\n",
       "      <td>False</td>\n",
       "      <td>...</td>\n",
       "      <td>False</td>\n",
       "      <td>False</td>\n",
       "      <td>False</td>\n",
       "      <td>False</td>\n",
       "      <td>False</td>\n",
       "      <td>False</td>\n",
       "      <td>False</td>\n",
       "      <td>False</td>\n",
       "      <td>False</td>\n",
       "      <td>False</td>\n",
       "    </tr>\n",
       "  </tbody>\n",
       "</table>\n",
       "<p>2 rows × 179 columns</p>\n",
       "</div>"
      ],
      "text/plain": [
       "   target  length  loved   this  place    is    not   good  tasty    and  \\\n",
       "0    True      24  False   True   True  True  False  False  False  False   \n",
       "1   False      18  False  False  False  True   True   True  False  False   \n",
       "\n",
       "    ...     flavor  probably    can     wo  pizza   from  recommend  terrible  \\\n",
       "0   ...      False     False  False  False  False  False      False     False   \n",
       "1   ...      False     False  False  False  False  False      False     False   \n",
       "\n",
       "   perfect  awesome  \n",
       "0    False    False  \n",
       "1    False    False  \n",
       "\n",
       "[2 rows x 179 columns]"
      ]
     },
     "execution_count": 14,
     "metadata": {},
     "output_type": "execute_result"
    }
   ],
   "source": [
    "df1 = pd.concat([df, dfa], axis = 1)\n",
    "df1 = df1.drop(axis=1,columns='review')\n",
    "df1.head(2)"
   ]
  },
  {
   "cell_type": "code",
   "execution_count": 17,
   "metadata": {},
   "outputs": [],
   "source": [
    "target = df1['target']\n",
    "data = df1.drop(columns=['target'], axis=1)"
   ]
  },
  {
   "cell_type": "code",
   "execution_count": 18,
   "metadata": {},
   "outputs": [
    {
     "name": "stdout",
     "output_type": "stream",
     "text": [
      "Number of mislabeled points out of a total 1000 points : 239\n"
     ]
    }
   ],
   "source": [
    "# Instantiate our model and store it in a new variable.\n",
    "bnb = BernoulliNB()\n",
    "# Fit our model to the data.\n",
    "bnb.fit(data, target)\n",
    "# Classify, storing the result in a new variable.\n",
    "y_pred = bnb.predict(data)\n",
    "# Display our results.\n",
    "print(\"Number of mislabeled points out of a total {} points : {}\".format(\n",
    "    data.shape[0],\n",
    "    (target != y_pred).sum()\n",
    "))"
   ]
  },
  {
   "cell_type": "code",
   "execution_count": 21,
   "metadata": {},
   "outputs": [
    {
     "data": {
      "text/plain": [
       "0.761"
      ]
     },
     "execution_count": 21,
     "metadata": {},
     "output_type": "execute_result"
    }
   ],
   "source": [
    "bnb.fit(data, target).score(data, target)"
   ]
  }
 ],
 "metadata": {
  "kernelspec": {
   "display_name": "Python 3",
   "language": "python",
   "name": "python3"
  },
  "language_info": {
   "codemirror_mode": {
    "name": "ipython",
    "version": 3
   },
   "file_extension": ".py",
   "mimetype": "text/x-python",
   "name": "python",
   "nbconvert_exporter": "python",
   "pygments_lexer": "ipython3",
   "version": "3.7.3"
  }
 },
 "nbformat": 4,
 "nbformat_minor": 2
}

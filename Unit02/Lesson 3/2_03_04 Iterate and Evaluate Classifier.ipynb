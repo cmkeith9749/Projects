{
 "cells": [
  {
   "cell_type": "code",
   "execution_count": 1,
   "metadata": {},
   "outputs": [],
   "source": [
    "import numpy as np\n",
    "import pandas as pd\n",
    "import scipy\n",
    "import sklearn\n",
    "import matplotlib.pyplot as plt\n",
    "import seaborn as sns\n",
    "from collections import Counter\n",
    "import itertools as it\n",
    "from sklearn.naive_bayes import BernoulliNB\n",
    "from sklearn.metrics import confusion_matrix"
   ]
  },
  {
   "cell_type": "code",
   "execution_count": 2,
   "metadata": {},
   "outputs": [
    {
     "data": {
      "text/html": [
       "<div>\n",
       "<style scoped>\n",
       "    .dataframe tbody tr th:only-of-type {\n",
       "        vertical-align: middle;\n",
       "    }\n",
       "\n",
       "    .dataframe tbody tr th {\n",
       "        vertical-align: top;\n",
       "    }\n",
       "\n",
       "    .dataframe thead th {\n",
       "        text-align: right;\n",
       "    }\n",
       "</style>\n",
       "<table border=\"1\" class=\"dataframe\">\n",
       "  <thead>\n",
       "    <tr style=\"text-align: right;\">\n",
       "      <th></th>\n",
       "      <th>review</th>\n",
       "      <th>target</th>\n",
       "    </tr>\n",
       "  </thead>\n",
       "  <tbody>\n",
       "    <tr>\n",
       "      <th>0</th>\n",
       "      <td>Wow... Loved this place.</td>\n",
       "      <td>1</td>\n",
       "    </tr>\n",
       "    <tr>\n",
       "      <th>1</th>\n",
       "      <td>Crust is not good.</td>\n",
       "      <td>0</td>\n",
       "    </tr>\n",
       "  </tbody>\n",
       "</table>\n",
       "</div>"
      ],
      "text/plain": [
       "                     review  target\n",
       "0  Wow... Loved this place.       1\n",
       "1        Crust is not good.       0"
      ]
     },
     "execution_count": 2,
     "metadata": {},
     "output_type": "execute_result"
    }
   ],
   "source": [
    "# use the yelp file for training, change target to bool\n",
    "file = 'data/yelp_labelled.txt'\n",
    "df = pd.read_csv(file, sep='\\t',header=None)\n",
    "df.columns = ['review', 'target']\n",
    "#df.target = np.where(df.target,True, False)\n",
    "df.head(2)"
   ]
  },
  {
   "cell_type": "code",
   "execution_count": 3,
   "metadata": {},
   "outputs": [],
   "source": [
    "file = 'data/stopwords.txt'\n",
    "dfs = pd.read_csv(file,header=None)\n",
    "dfs.columns = ['stops']"
   ]
  },
  {
   "cell_type": "code",
   "execution_count": 14,
   "metadata": {},
   "outputs": [],
   "source": [
    "# clean and split reviewe strings \n",
    "\n",
    "def A(df): return df.apply(lambda x: x.str.strip(), axis=1) \n",
    "def B(df): return df.apply(lambda x: x.str.replace(r\"\\Bn't\\b\", ' not ', regex=True), axis=1)\n",
    "def C(df): return df.apply(lambda x: x.str.replace(r'\\W+', ' ', regex=True), axis=1)\n",
    "def D(df): return df.apply(lambda x: x.str.replace(r'\\d+', ' ', regex=True), axis=1)\n",
    "def E(df): return df.apply(lambda x: x.str.lower(), axis=1) \n",
    "def F(df): return df.apply(lambda x: x.str.replace(r\"\\bnot\\s\", 'not', regex=True), axis=1)\n",
    "def G(df): return df.apply(lambda x: x.str.replace(r'\\s{2}', ' ', regex=True), axis=1)  \n",
    "def H(df): return df.apply(lambda x: x.str.strip(), axis=1)\n",
    "def I(df): return df.apply(lambda x: x.str.split(), axis=1)\n",
    "\n",
    "switch = {char:eval(char) for char in 'ABCDEFGHI'}\n",
    "\n",
    "def switch_clean_df(df, string):\n",
    "    for char in string:\n",
    "        df = switch[char](df)\n",
    "    return df "
   ]
  },
  {
   "cell_type": "code",
   "execution_count": 15,
   "metadata": {},
   "outputs": [],
   "source": [
    "# create cleaned list of reviews as lists for target = true, target = false, all reviews\n",
    "#crt = switch_clean_df(pd.DataFrame(df.review[df.target]),          'ABCDEGHI').review\n",
    "#crf = switch_clean_df(pd.DataFrame(df.review[df.target == False]), 'ABCDEGHI').review\n",
    "cra = switch_clean_df(pd.DataFrame(df.review),                     'ABDEFGHI').review\n",
    "# create list of \"all words for target = true, target = false, all reviews\n",
    "#awt = [t for rt in crt for t in rt]\n",
    "#awf = [f for rf in crf for f in rf]\n",
    "awa = [a for ra in cra for a in ra]\n",
    "# create list of words that are only in target = true, target = false\n",
    "#owt = list(set(awt) - set(awf))\n",
    "#owf = list(set(awf) - set(awt))\n",
    "# counters of all words that are only in target = true, target = false, all reviews\n",
    "ctt = Counter(); ctf = Counter(); cta = Counter()\n",
    "#ctt.update([t for t in awt if t in owt]) \n",
    "#ctf.update([f for f in awf if f in owf]) \n",
    "cta.update([a for a in awa])"
   ]
  },
  {
   "cell_type": "code",
   "execution_count": 29,
   "metadata": {},
   "outputs": [
    {
     "data": {
      "text/html": [
       "<div>\n",
       "<style scoped>\n",
       "    .dataframe tbody tr th:only-of-type {\n",
       "        vertical-align: middle;\n",
       "    }\n",
       "\n",
       "    .dataframe tbody tr th {\n",
       "        vertical-align: top;\n",
       "    }\n",
       "\n",
       "    .dataframe thead th {\n",
       "        text-align: right;\n",
       "    }\n",
       "</style>\n",
       "<table border=\"1\" class=\"dataframe\">\n",
       "  <thead>\n",
       "    <tr style=\"text-align: right;\">\n",
       "      <th></th>\n",
       "      <th>review</th>\n",
       "      <th>target</th>\n",
       "      <th>words</th>\n",
       "      <th>professional</th>\n",
       "      <th>street</th>\n",
       "      <th>mediterranean</th>\n",
       "      <th>end</th>\n",
       "      <th>ate</th>\n",
       "      <th>piano</th>\n",
       "      <th>perfectly</th>\n",
       "      <th>...</th>\n",
       "      <th>notmy</th>\n",
       "      <th>somewhat</th>\n",
       "      <th>touch</th>\n",
       "      <th>eat</th>\n",
       "      <th>steve</th>\n",
       "      <th>mood</th>\n",
       "      <th>grilled</th>\n",
       "      <th>return</th>\n",
       "      <th>accountant</th>\n",
       "      <th>refried</th>\n",
       "    </tr>\n",
       "  </thead>\n",
       "  <tbody>\n",
       "    <tr>\n",
       "      <th>0</th>\n",
       "      <td>NaN</td>\n",
       "      <td>1</td>\n",
       "      <td>NaN</td>\n",
       "      <td>NaN</td>\n",
       "      <td>NaN</td>\n",
       "      <td>NaN</td>\n",
       "      <td>NaN</td>\n",
       "      <td>NaN</td>\n",
       "      <td>NaN</td>\n",
       "      <td>NaN</td>\n",
       "      <td>...</td>\n",
       "      <td>NaN</td>\n",
       "      <td>NaN</td>\n",
       "      <td>NaN</td>\n",
       "      <td>NaN</td>\n",
       "      <td>NaN</td>\n",
       "      <td>NaN</td>\n",
       "      <td>NaN</td>\n",
       "      <td>NaN</td>\n",
       "      <td>NaN</td>\n",
       "      <td>NaN</td>\n",
       "    </tr>\n",
       "    <tr>\n",
       "      <th>1</th>\n",
       "      <td>NaN</td>\n",
       "      <td>0</td>\n",
       "      <td>NaN</td>\n",
       "      <td>NaN</td>\n",
       "      <td>NaN</td>\n",
       "      <td>NaN</td>\n",
       "      <td>NaN</td>\n",
       "      <td>NaN</td>\n",
       "      <td>NaN</td>\n",
       "      <td>NaN</td>\n",
       "      <td>...</td>\n",
       "      <td>NaN</td>\n",
       "      <td>NaN</td>\n",
       "      <td>NaN</td>\n",
       "      <td>NaN</td>\n",
       "      <td>NaN</td>\n",
       "      <td>NaN</td>\n",
       "      <td>NaN</td>\n",
       "      <td>NaN</td>\n",
       "      <td>NaN</td>\n",
       "      <td>NaN</td>\n",
       "    </tr>\n",
       "  </tbody>\n",
       "</table>\n",
       "<p>2 rows × 2092 columns</p>\n",
       "</div>"
      ],
      "text/plain": [
       "   review  target  words  professional  street  mediterranean  end  ate  \\\n",
       "0     NaN       1    NaN           NaN     NaN            NaN  NaN  NaN   \n",
       "1     NaN       0    NaN           NaN     NaN            NaN  NaN  NaN   \n",
       "\n",
       "   piano  perfectly   ...     notmy  somewhat  touch  eat  steve  mood  \\\n",
       "0    NaN        NaN   ...       NaN       NaN    NaN  NaN    NaN   NaN   \n",
       "1    NaN        NaN   ...       NaN       NaN    NaN  NaN    NaN   NaN   \n",
       "\n",
       "   grilled  return  accountant  refried  \n",
       "0      NaN     NaN         NaN      NaN  \n",
       "1      NaN     NaN         NaN      NaN  \n",
       "\n",
       "[2 rows x 2092 columns]"
      ]
     },
     "execution_count": 29,
     "metadata": {},
     "output_type": "execute_result"
    }
   ],
   "source": [
    "cra = switch_clean_df(pd.DataFrame(df.review),'ABCDEFGHI').review\n",
    "awa = [a for ra in cra for a in ra]\n",
    "words = [w for w in set(awa)]\n",
    "nostops = [w for w in words ]#if w not in dfs.stops.tolist()\n",
    "dfr = switch_clean_df(pd.DataFrame(df.review),'ABCDEFGH')\n",
    "dfr['target'] = df.target\n",
    "dct = {word:dfr.target.where(dfr.review.str.contains(word), other=np.nan) for word in nostops}\n",
    "for k,v in dct.items():\n",
    "    dfr[k] = v\n",
    "dfr.head(2) "
   ]
  },
  {
   "cell_type": "code",
   "execution_count": 23,
   "metadata": {},
   "outputs": [],
   "source": [
    "results = []\n",
    "cmx_results = []\n",
    "bnb = BernoulliNB()"
   ]
  },
  {
   "cell_type": "code",
   "execution_count": 30,
   "metadata": {},
   "outputs": [
    {
     "name": "stdout",
     "output_type": "stream",
     "text": [
      "Score is 75.8000\n",
      "Specificity is 52.40 percent and Sensitivity is 99.20 percent \n"
     ]
    }
   ],
   "source": [
    "per_in_review = .1; weight_fact = 0.20; \n",
    "A = [key for key, val in dfr.mean().items() if weight_fact >= val <= 1.0 - weight_fact]\n",
    "B = [x for x in cta if cta[x] >= len(df) * per_in_review / 100]\n",
    "C = list(set(A) & set(B))\n",
    "\n",
    "data = pd.DataFrame({key:np.where(df.review.str.contains(key), True, False) for key in C})\n",
    "target = np.where(df.target,True, False)\n",
    "data = pd.DataFrame({key:np.where(df.review.str.contains(key), True, False) for key in C})\n",
    "\n",
    "classify = bnb.fit(data, target)\n",
    "score = classify.score(data, target)\n",
    "print ('Score is %3.4f' % (score * 100)) \n",
    "y_pred = classify.predict(data)\n",
    "tn, fp, fn, tp = confusion_matrix(target, y_pred).ravel()\n",
    "print ('Specificity is %3.2f percent and Sensitivity is %3.2f percent ' % ((tn / (tn + fp) * 100),(tp / (fn +tp) * 100)))\n",
    "\n",
    "results.append((per_in_review, weight_fact, score))\n",
    "cmx_results.append((per_in_review, weight_fact,(tn / (tn + fp) * 100),(tp / (fn +tp) * 100)))"
   ]
  },
  {
   "cell_type": "code",
   "execution_count": 31,
   "metadata": {},
   "outputs": [
    {
     "data": {
      "text/plain": [
       "(1000, 617)"
      ]
     },
     "execution_count": 31,
     "metadata": {},
     "output_type": "execute_result"
    }
   ],
   "source": [
    "data.shape"
   ]
  },
  {
   "cell_type": "markdown",
   "metadata": {},
   "source": [
    "# Best Result"
   ]
  },
  {
   "cell_type": "markdown",
   "metadata": {},
   "source": [
    "filter with:\n",
    "\n",
    "- key word appears in at least 0.1% of reviews\n",
    "- key word accuracy at least 75%\n",
    "\n",
    "Specificity is 60.40% and Sensitivity is 97.80%\n",
    "\n",
    "Score is 79.10%"
   ]
  },
  {
   "cell_type": "code",
   "execution_count": null,
   "metadata": {},
   "outputs": [],
   "source": [
    "score = bnb.fit(data, target).score(data, target)\n",
    "print ('Score is %3.4f' % (score * 100)) \n",
    "results.append((per_in_review, weight_fact, score))\n"
   ]
  },
  {
   "cell_type": "code",
   "execution_count": null,
   "metadata": {},
   "outputs": [],
   "source": [
    "y_pred = bnb.fit(data, target).predict(data)\n",
    "tn, fp, fn, tp = confusion_matrix(target, y_pred).ravel()\n",
    "print ('Specificity is %3.2f percent and Sensitivity is %3.2f percent ' % ((tn / (tn + fp) * 100),(tp / (fn +tp) * 100)))"
   ]
  },
  {
   "cell_type": "code",
   "execution_count": null,
   "metadata": {},
   "outputs": [],
   "source": [
    "#df with classifier features and must have 'target' columns\n",
    "def fold_data(dfd, dft, n):\n",
    "    assert(1 <= n <= len(dfd)); assert( len(dfd) == len(dft))\n",
    "    n1 = len(dfd) // n; n2 = len(dfd) % n    \n",
    "    dfd.index = pd.Series([x for x in range(n)] * n1 + [x for x in range(n2)])\n",
    "    dft.index = pd.Series([x for x in range(n)] * n1 + [x for x in range(n2)])\n",
    "    # creates list of tuples ==> [(x_train, y_train, x_test, y_test), ... n times]\n",
    "    xys = [(dfd[dfd.index != i], dft[dft.index != i].target, dfd[dfd.index == i],\n",
    "            dft[dft.index == i].target) for i in range(n)]\n",
    "    return xys"
   ]
  },
  {
   "cell_type": "code",
   "execution_count": 38,
   "metadata": {},
   "outputs": [],
   "source": [
    "crx = switch_clean_df(pd.DataFrame(df.review),'ABCDEFGHI').review\n",
    "awa = [a for ra in cra for a in ra]"
   ]
  },
  {
   "cell_type": "code",
   "execution_count": 52,
   "metadata": {},
   "outputs": [
    {
     "data": {
      "text/plain": [
       "[('the', 581),\n",
       " ('and', 388),\n",
       " ('was', 305),\n",
       " ('i', 303),\n",
       " ('a', 230),\n",
       " ('to', 212),\n",
       " ('is', 174),\n",
       " ('this', 142),\n",
       " ('of', 125),\n",
       " ('it', 110)]"
      ]
     },
     "execution_count": 52,
     "metadata": {},
     "output_type": "execute_result"
    }
   ],
   "source": [
    "cta.most_common(10)"
   ]
  },
  {
   "cell_type": "code",
   "execution_count": null,
   "metadata": {},
   "outputs": [],
   "source": [
    "# Instantiate our model and store it in a new variable.\n",
    "bnb = BernoulliNB()\n",
    "# Fit our model to the data.\n",
    "bnb.fit(data, target)\n",
    "# Classify, storing the result in a new variable.\n",
    "y_pred = bnb.predict(data)\n",
    "# Display our results.\n",
    "print(\"Number of mislabeled points out of a total {} points : {}\".format(\n",
    "    data.shape[0],\n",
    "    (target != y_pred).sum()\n",
    "))"
   ]
  }
 ],
 "metadata": {
  "kernelspec": {
   "display_name": "Python 3",
   "language": "python",
   "name": "python3"
  },
  "language_info": {
   "codemirror_mode": {
    "name": "ipython",
    "version": 3
   },
   "file_extension": ".py",
   "mimetype": "text/x-python",
   "name": "python",
   "nbconvert_exporter": "python",
   "pygments_lexer": "ipython3",
   "version": "3.7.3"
  }
 },
 "nbformat": 4,
 "nbformat_minor": 2
}

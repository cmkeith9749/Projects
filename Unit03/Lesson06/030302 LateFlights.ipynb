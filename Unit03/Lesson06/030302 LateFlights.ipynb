{
 "cells": [
  {
   "cell_type": "markdown",
   "metadata": {},
   "source": [
    "### Airline Arrivals\n",
    "\n",
    "Use this dataset of airline arrival information to predict how late flights will be. A flight only counts as late if it is more than 30 minutes late."
   ]
  },
  {
   "cell_type": "code",
   "execution_count": 1,
   "metadata": {},
   "outputs": [],
   "source": [
    "import pandas as pd\n",
    "import numpy as np\n",
    "import matplotlib.pyplot as plt\n",
    "%matplotlib inline\n",
    "import seaborn as sns\n",
    "import json"
   ]
  },
  {
   "cell_type": "markdown",
   "metadata": {},
   "source": [
    "#### Exploratory Analysis\n",
    " - Context of Data\n",
    " - Start with Basics\n",
    " - Plot Numerical Distributions\n",
    " - Plot Categorical Distributions\n",
    " - Plot Segmentations\n",
    " - Study Correlations"
   ]
  },
  {
   "cell_type": "code",
   "execution_count": 2,
   "metadata": {},
   "outputs": [
    {
     "data": {
      "text/plain": [
       "(7009728, 29)"
      ]
     },
     "execution_count": 2,
     "metadata": {},
     "output_type": "execute_result"
    }
   ],
   "source": [
    "df = pd.read_csv('data/2008.csv')\n",
    "df.shape"
   ]
  },
  {
   "cell_type": "code",
   "execution_count": 5,
   "metadata": {},
   "outputs": [],
   "source": [
    "df.columns = [label_uncap(col,abr) for col in df.columns]"
   ]
  },
  {
   "cell_type": "code",
   "execution_count": 6,
   "metadata": {},
   "outputs": [
    {
     "data": {
      "text/html": [
       "<div>\n",
       "<style scoped>\n",
       "    .dataframe tbody tr th:only-of-type {\n",
       "        vertical-align: middle;\n",
       "    }\n",
       "\n",
       "    .dataframe tbody tr th {\n",
       "        vertical-align: top;\n",
       "    }\n",
       "\n",
       "    .dataframe thead th {\n",
       "        text-align: right;\n",
       "    }\n",
       "</style>\n",
       "<table border=\"1\" class=\"dataframe\">\n",
       "  <thead>\n",
       "    <tr style=\"text-align: right;\">\n",
       "      <th></th>\n",
       "      <th>yr</th>\n",
       "      <th>mh</th>\n",
       "      <th>dayof_mh</th>\n",
       "      <th>dy_of_wk</th>\n",
       "      <th>dep_tme</th>\n",
       "      <th>crsdep_tme</th>\n",
       "      <th>arr_tme</th>\n",
       "      <th>crsarr_tme</th>\n",
       "      <th>uqe_carrier</th>\n",
       "      <th>flight_num</th>\n",
       "      <th>...</th>\n",
       "      <th>txi_in_</th>\n",
       "      <th>txi_out</th>\n",
       "      <th>cnl</th>\n",
       "      <th>cnl_cde</th>\n",
       "      <th>diverted</th>\n",
       "      <th>carrier_dly</th>\n",
       "      <th>whr_dly</th>\n",
       "      <th>nasdelay</th>\n",
       "      <th>security_dly</th>\n",
       "      <th>late_aircraft_dly</th>\n",
       "    </tr>\n",
       "  </thead>\n",
       "  <tbody>\n",
       "    <tr>\n",
       "      <th>0</th>\n",
       "      <td>2008</td>\n",
       "      <td>1</td>\n",
       "      <td>3</td>\n",
       "      <td>4</td>\n",
       "      <td>2003.0</td>\n",
       "      <td>1955</td>\n",
       "      <td>2211.0</td>\n",
       "      <td>2225</td>\n",
       "      <td>WN</td>\n",
       "      <td>335</td>\n",
       "      <td>...</td>\n",
       "      <td>4.0</td>\n",
       "      <td>8.0</td>\n",
       "      <td>0</td>\n",
       "      <td>NaN</td>\n",
       "      <td>0</td>\n",
       "      <td>NaN</td>\n",
       "      <td>NaN</td>\n",
       "      <td>NaN</td>\n",
       "      <td>NaN</td>\n",
       "      <td>NaN</td>\n",
       "    </tr>\n",
       "    <tr>\n",
       "      <th>1</th>\n",
       "      <td>2008</td>\n",
       "      <td>1</td>\n",
       "      <td>3</td>\n",
       "      <td>4</td>\n",
       "      <td>754.0</td>\n",
       "      <td>735</td>\n",
       "      <td>1002.0</td>\n",
       "      <td>1000</td>\n",
       "      <td>WN</td>\n",
       "      <td>3231</td>\n",
       "      <td>...</td>\n",
       "      <td>5.0</td>\n",
       "      <td>10.0</td>\n",
       "      <td>0</td>\n",
       "      <td>NaN</td>\n",
       "      <td>0</td>\n",
       "      <td>NaN</td>\n",
       "      <td>NaN</td>\n",
       "      <td>NaN</td>\n",
       "      <td>NaN</td>\n",
       "      <td>NaN</td>\n",
       "    </tr>\n",
       "    <tr>\n",
       "      <th>2</th>\n",
       "      <td>2008</td>\n",
       "      <td>1</td>\n",
       "      <td>3</td>\n",
       "      <td>4</td>\n",
       "      <td>628.0</td>\n",
       "      <td>620</td>\n",
       "      <td>804.0</td>\n",
       "      <td>750</td>\n",
       "      <td>WN</td>\n",
       "      <td>448</td>\n",
       "      <td>...</td>\n",
       "      <td>3.0</td>\n",
       "      <td>17.0</td>\n",
       "      <td>0</td>\n",
       "      <td>NaN</td>\n",
       "      <td>0</td>\n",
       "      <td>NaN</td>\n",
       "      <td>NaN</td>\n",
       "      <td>NaN</td>\n",
       "      <td>NaN</td>\n",
       "      <td>NaN</td>\n",
       "    </tr>\n",
       "    <tr>\n",
       "      <th>3</th>\n",
       "      <td>2008</td>\n",
       "      <td>1</td>\n",
       "      <td>3</td>\n",
       "      <td>4</td>\n",
       "      <td>926.0</td>\n",
       "      <td>930</td>\n",
       "      <td>1054.0</td>\n",
       "      <td>1100</td>\n",
       "      <td>WN</td>\n",
       "      <td>1746</td>\n",
       "      <td>...</td>\n",
       "      <td>3.0</td>\n",
       "      <td>7.0</td>\n",
       "      <td>0</td>\n",
       "      <td>NaN</td>\n",
       "      <td>0</td>\n",
       "      <td>NaN</td>\n",
       "      <td>NaN</td>\n",
       "      <td>NaN</td>\n",
       "      <td>NaN</td>\n",
       "      <td>NaN</td>\n",
       "    </tr>\n",
       "    <tr>\n",
       "      <th>4</th>\n",
       "      <td>2008</td>\n",
       "      <td>1</td>\n",
       "      <td>3</td>\n",
       "      <td>4</td>\n",
       "      <td>1829.0</td>\n",
       "      <td>1755</td>\n",
       "      <td>1959.0</td>\n",
       "      <td>1925</td>\n",
       "      <td>WN</td>\n",
       "      <td>3920</td>\n",
       "      <td>...</td>\n",
       "      <td>3.0</td>\n",
       "      <td>10.0</td>\n",
       "      <td>0</td>\n",
       "      <td>NaN</td>\n",
       "      <td>0</td>\n",
       "      <td>2.0</td>\n",
       "      <td>0.0</td>\n",
       "      <td>0.0</td>\n",
       "      <td>0.0</td>\n",
       "      <td>32.0</td>\n",
       "    </tr>\n",
       "  </tbody>\n",
       "</table>\n",
       "<p>5 rows × 29 columns</p>\n",
       "</div>"
      ],
      "text/plain": [
       "     yr  mh  dayof_mh  dy_of_wk  dep_tme  crsdep_tme  arr_tme  crsarr_tme  \\\n",
       "0  2008   1         3         4   2003.0        1955   2211.0        2225   \n",
       "1  2008   1         3         4    754.0         735   1002.0        1000   \n",
       "2  2008   1         3         4    628.0         620    804.0         750   \n",
       "3  2008   1         3         4    926.0         930   1054.0        1100   \n",
       "4  2008   1         3         4   1829.0        1755   1959.0        1925   \n",
       "\n",
       "  uqe_carrier  flight_num  ... txi_in_  txi_out  cnl  cnl_cde  diverted  \\\n",
       "0          WN         335  ...     4.0      8.0    0      NaN         0   \n",
       "1          WN        3231  ...     5.0     10.0    0      NaN         0   \n",
       "2          WN         448  ...     3.0     17.0    0      NaN         0   \n",
       "3          WN        1746  ...     3.0      7.0    0      NaN         0   \n",
       "4          WN        3920  ...     3.0     10.0    0      NaN         0   \n",
       "\n",
       "   carrier_dly whr_dly nasdelay  security_dly  late_aircraft_dly  \n",
       "0          NaN     NaN      NaN           NaN                NaN  \n",
       "1          NaN     NaN      NaN           NaN                NaN  \n",
       "2          NaN     NaN      NaN           NaN                NaN  \n",
       "3          NaN     NaN      NaN           NaN                NaN  \n",
       "4          2.0     0.0      0.0           0.0               32.0  \n",
       "\n",
       "[5 rows x 29 columns]"
      ]
     },
     "execution_count": 6,
     "metadata": {},
     "output_type": "execute_result"
    }
   ],
   "source": [
    "df.head()"
   ]
  },
  {
   "cell_type": "code",
   "execution_count": null,
   "metadata": {},
   "outputs": [],
   "source": [
    "df.columns"
   ]
  },
  {
   "cell_type": "code",
   "execution_count": 10,
   "metadata": {},
   "outputs": [],
   "source": []
  },
  {
   "cell_type": "code",
   "execution_count": 22,
   "metadata": {},
   "outputs": [
    {
     "data": {
      "image/png": "[encoded data removed]",
      "text/plain": [
       "<Figure size 1080x432 with 1 Axes>"
      ]
     },
     "metadata": {
      "needs_background": "light"
     },
     "output_type": "display_data"
    }
   ],
   "source": [
    "# plot continous arrival delay, drop nan values due to cancel or diverted\n",
    "x = df.arr_dly.dropna()\n",
    "f, ax = plt.subplots(figsize=(15, 6))\n",
    "sns.distplot(x[(x >= -30) & (x <= 120)], color=\"b\", kde = False,  ax=ax)\n",
    "plt.show()"
   ]
  },
  {
   "cell_type": "markdown",
   "metadata": {},
   "source": [
    "#### Data Cleaning\n",
    " - Remove Unwanted observations\n",
    " - Fix Structural Errors\n",
    " - Filter Unwanted Outliers\n",
    " - Handle Missing Data"
   ]
  },
  {
   "cell_type": "code",
   "execution_count": 7,
   "metadata": {},
   "outputs": [],
   "source": [
    "dfc = df.drop(['yr', 'dayof_mh', 'tail_num'],  axis=1)\n",
    "dfc.cnl_cde = dfc.cnl_cde.fillna(value='N')\n",
    "dfc = dfc.fillna(value=0)"
   ]
  },
  {
   "cell_type": "code",
   "execution_count": 14,
   "metadata": {},
   "outputs": [],
   "source": [
    "dff = dfc.drop(drop1, axis=1)"
   ]
  },
  {
   "cell_type": "code",
   "execution_count": null,
   "metadata": {},
   "outputs": [],
   "source": []
  },
  {
   "cell_type": "markdown",
   "metadata": {},
   "source": [
    "#### Feature Engineering\n",
    " **transform target**\n",
    " - Target \"late\" changed to binary based upon current 15 minute standard\n",
    " \n",
    "**Infuse Domain Knowledge**\n",
    "  - flight number not necessary as feature.  Flight is going from \"origin\" to \"destination\" at \"scheduled time\".  variance captured in other features. \n",
    "  - flight volume varies significantly based upon day of week and time of day.  There are definite peak times for business travelers\n",
    "  \n",
    "  - feature the scheduled duration / distance with scaled to standard.  The flight time between between airports is  \n",
    " \n",
    "**Create Interaction Features**\n",
    "- assigning fault to carrier or system correlates result to \"carrier\" feature or features that define \"flight\" \n",
    " \n",
    "**Combine Sparse Classes**\n",
    "\n",
    "\n",
    "**Add Dummy Variables**\n",
    "\n",
    "**Remove Unused Features**\n",
    " \n",
    " \n",
    " "
   ]
  },
  {
   "cell_type": "code",
   "execution_count": 18,
   "metadata": {},
   "outputs": [
    {
     "data": {
      "text/plain": [
       "Index(['mh', 'dy_of_wk', 'dep_tme', 'crsdep_tme', 'arr_tme', 'crsarr_tme',\n",
       "       'uqe_carrier', 'flight_num', 'actual_elapsed_tme', 'crselapsed_tme',\n",
       "       'air_tme', 'arr_dly', 'dep_dly', 'origin', 'dest', 'distance',\n",
       "       'txi_in_', 'txi_out', 'cnl', 'cnl_cde', 'diverted', 'carrier_dly',\n",
       "       'whr_dly', 'nasdelay', 'security_dly', 'late_aircraft_dly'],\n",
       "      dtype='object')"
      ]
     },
     "execution_count": 18,
     "metadata": {},
     "output_type": "execute_result"
    }
   ],
   "source": [
    "dfc.columns"
   ]
  },
  {
   "cell_type": "code",
   "execution_count": null,
   "metadata": {},
   "outputs": [],
   "source": [
    "['mh', 'dy_of_wk', 'dep_tme', 'crsdep_tme', 'arr_tme', 'crsarr_tme',\n",
    "       ,', \n"
   ]
  },
  {
   "cell_type": "code",
   "execution_count": null,
   "metadata": {},
   "outputs": [],
   "source": []
  },
  {
   "cell_type": "code",
   "execution_count": null,
   "metadata": {},
   "outputs": [],
   "source": [
    "# preprocess\n",
    "\n",
    "grp_ord = ['crsdep_tme','crsarr_tme', 'dep_dly' ]\n",
    "rnk_ord = ['mh', 'dy_of_wk', 'distance', 'uqe_carrier']\n",
    "unq_dum = ['origin', 'dest']\n",
    "nne =     ['diverted', 'cnl',]\n",
    "new =     ['fault', ]\n",
    "\n",
    "drp = ['dep_tme', 'carrier_dly', 'whr_dly', 'nasdelay', 'security_dly', 'late_aircraft_dly', 'cnl_cde',  'txi_in_',\n",
    "       'txi_out',  'flight_num', 'actual_elapsed_tme', 'crselapsed_tme', 'air_tme', 'arr_dly', 'dep_dly']\n",
    "\n",
    "dummies = ['flight_num', 'uqe_carrier', 'origin', 'dest']           \n",
    "# scale \n",
    "nos = ['diverted', 'cnl', ]\n",
    "std = \n",
    "rbt =         \n"
   ]
  },
  {
   "cell_type": "code",
   "execution_count": 9,
   "metadata": {},
   "outputs": [
    {
     "data": {
      "text/plain": [
       "count    304.000000\n",
       "mean       7.366990\n",
       "std        4.420851\n",
       "min       -7.081081\n",
       "25%        5.080639\n",
       "50%        7.573907\n",
       "75%        9.549675\n",
       "max       28.901309\n",
       "Name: arr_dly, dtype: float64"
      ]
     },
     "execution_count": 9,
     "metadata": {},
     "output_type": "execute_result"
    }
   ],
   "source": [
    "dfc.groupby('dest').arr_dly.mean().describe()"
   ]
  },
  {
   "cell_type": "code",
   "execution_count": 10,
   "metadata": {},
   "outputs": [
    {
     "data": {
      "text/plain": [
       "count    303.000000\n",
       "mean       7.867873\n",
       "std        4.889440\n",
       "min       -6.132576\n",
       "25%        5.576504\n",
       "50%        8.055379\n",
       "75%       10.199482\n",
       "max       27.371991\n",
       "Name: dep_dly, dtype: float64"
      ]
     },
     "execution_count": 10,
     "metadata": {},
     "output_type": "execute_result"
    }
   ],
   "source": [
    "dfc.groupby('origin').dep_dly.mean().describe()"
   ]
  },
  {
   "cell_type": "code",
   "execution_count": null,
   "metadata": {},
   "outputs": [],
   "source": []
  },
  {
   "cell_type": "code",
   "execution_count": 41,
   "metadata": {},
   "outputs": [
    {
     "data": {
      "text/plain": [
       "count    6.872294e+06\n",
       "mean     1.645279e+01\n",
       "std      1.133228e+01\n",
       "min      0.000000e+00\n",
       "25%      1.000000e+01\n",
       "50%      1.400000e+01\n",
       "75%      1.900000e+01\n",
       "max      4.290000e+02\n",
       "Name: txi_out, dtype: float64"
      ]
     },
     "execution_count": 41,
     "metadata": {},
     "output_type": "execute_result"
    }
   ],
   "source": [
    "dfc.txi_out[dfc.cnl == 0].describe()"
   ]
  },
  {
   "cell_type": "code",
   "execution_count": 47,
   "metadata": {},
   "outputs": [],
   "source": [
    "no_cnl_dvd =  set(range(len(dfc))) - set(np.where(dfc.cnl == 1)[0]) - set(np.where(dfc.diverted == 1)[0])"
   ]
  },
  {
   "cell_type": "code",
   "execution_count": 50,
   "metadata": {},
   "outputs": [
    {
     "name": "stderr",
     "output_type": "stream",
     "text": [
      "C:\\Users\\chuck\\Anaconda3\\lib\\site-packages\\ipykernel_launcher.py:1: UserWarning: Boolean Series key will be reindexed to match DataFrame index.\n",
      "  \"\"\"Entry point for launching an IPython kernel.\n"
     ]
    },
    {
     "data": {
      "text/html": [
       "<div>\n",
       "<style scoped>\n",
       "    .dataframe tbody tr th:only-of-type {\n",
       "        vertical-align: middle;\n",
       "    }\n",
       "\n",
       "    .dataframe tbody tr th {\n",
       "        vertical-align: top;\n",
       "    }\n",
       "\n",
       "    .dataframe thead th {\n",
       "        text-align: right;\n",
       "    }\n",
       "</style>\n",
       "<table border=\"1\" class=\"dataframe\">\n",
       "  <thead>\n",
       "    <tr style=\"text-align: right;\">\n",
       "      <th></th>\n",
       "      <th>mh</th>\n",
       "      <th>dy_of_wk</th>\n",
       "      <th>dep_tme</th>\n",
       "      <th>crsdep_tme</th>\n",
       "      <th>arr_tme</th>\n",
       "      <th>crsarr_tme</th>\n",
       "      <th>uqe_carrier</th>\n",
       "      <th>flight_num</th>\n",
       "      <th>actual_elapsed_tme</th>\n",
       "      <th>crselapsed_tme</th>\n",
       "      <th>...</th>\n",
       "      <th>txi_out</th>\n",
       "      <th>cnl</th>\n",
       "      <th>cnl_cde</th>\n",
       "      <th>diverted</th>\n",
       "      <th>carrier_dly</th>\n",
       "      <th>whr_dly</th>\n",
       "      <th>nasdelay</th>\n",
       "      <th>security_dly</th>\n",
       "      <th>late_aircraft_dly</th>\n",
       "      <th>late</th>\n",
       "    </tr>\n",
       "  </thead>\n",
       "  <tbody>\n",
       "    <tr>\n",
       "      <th>184709</th>\n",
       "      <td>1</td>\n",
       "      <td>4</td>\n",
       "      <td>2030.0</td>\n",
       "      <td>2025</td>\n",
       "      <td>2118.0</td>\n",
       "      <td>2123</td>\n",
       "      <td>OO</td>\n",
       "      <td>5798</td>\n",
       "      <td>48.0</td>\n",
       "      <td>58.0</td>\n",
       "      <td>...</td>\n",
       "      <td>0.0</td>\n",
       "      <td>0</td>\n",
       "      <td>N</td>\n",
       "      <td>0</td>\n",
       "      <td>0.0</td>\n",
       "      <td>0.0</td>\n",
       "      <td>0.0</td>\n",
       "      <td>0.0</td>\n",
       "      <td>0.0</td>\n",
       "      <td>0</td>\n",
       "    </tr>\n",
       "    <tr>\n",
       "      <th>185531</th>\n",
       "      <td>1</td>\n",
       "      <td>5</td>\n",
       "      <td>936.0</td>\n",
       "      <td>940</td>\n",
       "      <td>1029.0</td>\n",
       "      <td>1040</td>\n",
       "      <td>OO</td>\n",
       "      <td>3674</td>\n",
       "      <td>53.0</td>\n",
       "      <td>60.0</td>\n",
       "      <td>...</td>\n",
       "      <td>0.0</td>\n",
       "      <td>0</td>\n",
       "      <td>N</td>\n",
       "      <td>0</td>\n",
       "      <td>0.0</td>\n",
       "      <td>0.0</td>\n",
       "      <td>0.0</td>\n",
       "      <td>0.0</td>\n",
       "      <td>0.0</td>\n",
       "      <td>0</td>\n",
       "    </tr>\n",
       "    <tr>\n",
       "      <th>323747</th>\n",
       "      <td>1</td>\n",
       "      <td>6</td>\n",
       "      <td>1142.0</td>\n",
       "      <td>1142</td>\n",
       "      <td>1336.0</td>\n",
       "      <td>1351</td>\n",
       "      <td>EV</td>\n",
       "      <td>4178</td>\n",
       "      <td>54.0</td>\n",
       "      <td>69.0</td>\n",
       "      <td>...</td>\n",
       "      <td>0.0</td>\n",
       "      <td>0</td>\n",
       "      <td>N</td>\n",
       "      <td>0</td>\n",
       "      <td>0.0</td>\n",
       "      <td>0.0</td>\n",
       "      <td>0.0</td>\n",
       "      <td>0.0</td>\n",
       "      <td>0.0</td>\n",
       "      <td>0</td>\n",
       "    </tr>\n",
       "    <tr>\n",
       "      <th>324940</th>\n",
       "      <td>1</td>\n",
       "      <td>4</td>\n",
       "      <td>1043.0</td>\n",
       "      <td>1008</td>\n",
       "      <td>1321.0</td>\n",
       "      <td>1234</td>\n",
       "      <td>EV</td>\n",
       "      <td>4220</td>\n",
       "      <td>98.0</td>\n",
       "      <td>86.0</td>\n",
       "      <td>...</td>\n",
       "      <td>0.0</td>\n",
       "      <td>0</td>\n",
       "      <td>N</td>\n",
       "      <td>0</td>\n",
       "      <td>35.0</td>\n",
       "      <td>0.0</td>\n",
       "      <td>12.0</td>\n",
       "      <td>0.0</td>\n",
       "      <td>0.0</td>\n",
       "      <td>1</td>\n",
       "    </tr>\n",
       "    <tr>\n",
       "      <th>326663</th>\n",
       "      <td>1</td>\n",
       "      <td>5</td>\n",
       "      <td>1315.0</td>\n",
       "      <td>1315</td>\n",
       "      <td>1501.0</td>\n",
       "      <td>1512</td>\n",
       "      <td>EV</td>\n",
       "      <td>4279</td>\n",
       "      <td>46.0</td>\n",
       "      <td>57.0</td>\n",
       "      <td>...</td>\n",
       "      <td>0.0</td>\n",
       "      <td>0</td>\n",
       "      <td>N</td>\n",
       "      <td>0</td>\n",
       "      <td>0.0</td>\n",
       "      <td>0.0</td>\n",
       "      <td>0.0</td>\n",
       "      <td>0.0</td>\n",
       "      <td>0.0</td>\n",
       "      <td>0</td>\n",
       "    </tr>\n",
       "  </tbody>\n",
       "</table>\n",
       "<p>5 rows × 27 columns</p>\n",
       "</div>"
      ],
      "text/plain": [
       "        mh  dy_of_wk  dep_tme  crsdep_tme  arr_tme  crsarr_tme uqe_carrier  \\\n",
       "184709   1         4   2030.0        2025   2118.0        2123          OO   \n",
       "185531   1         5    936.0         940   1029.0        1040          OO   \n",
       "323747   1         6   1142.0        1142   1336.0        1351          EV   \n",
       "324940   1         4   1043.0        1008   1321.0        1234          EV   \n",
       "326663   1         5   1315.0        1315   1501.0        1512          EV   \n",
       "\n",
       "        flight_num  actual_elapsed_tme  crselapsed_tme  ...  txi_out  cnl  \\\n",
       "184709        5798                48.0            58.0  ...      0.0    0   \n",
       "185531        3674                53.0            60.0  ...      0.0    0   \n",
       "323747        4178                54.0            69.0  ...      0.0    0   \n",
       "324940        4220                98.0            86.0  ...      0.0    0   \n",
       "326663        4279                46.0            57.0  ...      0.0    0   \n",
       "\n",
       "        cnl_cde diverted carrier_dly  whr_dly  nasdelay  security_dly  \\\n",
       "184709        N        0         0.0      0.0       0.0           0.0   \n",
       "185531        N        0         0.0      0.0       0.0           0.0   \n",
       "323747        N        0         0.0      0.0       0.0           0.0   \n",
       "324940        N        0        35.0      0.0      12.0           0.0   \n",
       "326663        N        0         0.0      0.0       0.0           0.0   \n",
       "\n",
       "        late_aircraft_dly late  \n",
       "184709                0.0    0  \n",
       "185531                0.0    0  \n",
       "323747                0.0    0  \n",
       "324940                0.0    1  \n",
       "326663                0.0    0  \n",
       "\n",
       "[5 rows x 27 columns]"
      ]
     },
     "execution_count": 50,
     "metadata": {},
     "output_type": "execute_result"
    }
   ],
   "source": [
    "dfc.loc[no_cnl_dvd][dfc.txi_out == 0].head()"
   ]
  },
  {
   "cell_type": "code",
   "execution_count": 53,
   "metadata": {},
   "outputs": [
    {
     "data": {
      "text/plain": [
       "7539"
      ]
     },
     "execution_count": 53,
     "metadata": {},
     "output_type": "execute_result"
    }
   ],
   "source": [
    "len(dfc.flight_num.unique())"
   ]
  },
  {
   "cell_type": "code",
   "execution_count": 30,
   "metadata": {},
   "outputs": [],
   "source": [
    "dfc['late'] = np.where(dff.arr_dly >= 15, 1, 0)+ dfc.cnl + dfc.diverted\n",
    "\n",
    "\n"
   ]
  },
  {
   "cell_type": "code",
   "execution_count": 31,
   "metadata": {},
   "outputs": [
    {
     "data": {
      "text/html": [
       "<div>\n",
       "<style scoped>\n",
       "    .dataframe tbody tr th:only-of-type {\n",
       "        vertical-align: middle;\n",
       "    }\n",
       "\n",
       "    .dataframe tbody tr th {\n",
       "        vertical-align: top;\n",
       "    }\n",
       "\n",
       "    .dataframe thead th {\n",
       "        text-align: right;\n",
       "    }\n",
       "</style>\n",
       "<table border=\"1\" class=\"dataframe\">\n",
       "  <thead>\n",
       "    <tr style=\"text-align: right;\">\n",
       "      <th></th>\n",
       "      <th>mh</th>\n",
       "      <th>dy_of_wk</th>\n",
       "      <th>dep_tme</th>\n",
       "      <th>crsdep_tme</th>\n",
       "      <th>arr_tme</th>\n",
       "      <th>crsarr_tme</th>\n",
       "      <th>uqe_carrier</th>\n",
       "      <th>flight_num</th>\n",
       "      <th>actual_elapsed_tme</th>\n",
       "      <th>crselapsed_tme</th>\n",
       "      <th>...</th>\n",
       "      <th>txi_out</th>\n",
       "      <th>cnl</th>\n",
       "      <th>cnl_cde</th>\n",
       "      <th>diverted</th>\n",
       "      <th>carrier_dly</th>\n",
       "      <th>whr_dly</th>\n",
       "      <th>nasdelay</th>\n",
       "      <th>security_dly</th>\n",
       "      <th>late_aircraft_dly</th>\n",
       "      <th>late</th>\n",
       "    </tr>\n",
       "  </thead>\n",
       "  <tbody>\n",
       "    <tr>\n",
       "      <th>0</th>\n",
       "      <td>1</td>\n",
       "      <td>4</td>\n",
       "      <td>2003.0</td>\n",
       "      <td>1955</td>\n",
       "      <td>2211.0</td>\n",
       "      <td>2225</td>\n",
       "      <td>WN</td>\n",
       "      <td>335</td>\n",
       "      <td>128.0</td>\n",
       "      <td>150.0</td>\n",
       "      <td>...</td>\n",
       "      <td>8.0</td>\n",
       "      <td>0</td>\n",
       "      <td>N</td>\n",
       "      <td>0</td>\n",
       "      <td>0.0</td>\n",
       "      <td>0.0</td>\n",
       "      <td>0.0</td>\n",
       "      <td>0.0</td>\n",
       "      <td>0.0</td>\n",
       "      <td>0</td>\n",
       "    </tr>\n",
       "    <tr>\n",
       "      <th>1</th>\n",
       "      <td>1</td>\n",
       "      <td>4</td>\n",
       "      <td>754.0</td>\n",
       "      <td>735</td>\n",
       "      <td>1002.0</td>\n",
       "      <td>1000</td>\n",
       "      <td>WN</td>\n",
       "      <td>3231</td>\n",
       "      <td>128.0</td>\n",
       "      <td>145.0</td>\n",
       "      <td>...</td>\n",
       "      <td>10.0</td>\n",
       "      <td>0</td>\n",
       "      <td>N</td>\n",
       "      <td>0</td>\n",
       "      <td>0.0</td>\n",
       "      <td>0.0</td>\n",
       "      <td>0.0</td>\n",
       "      <td>0.0</td>\n",
       "      <td>0.0</td>\n",
       "      <td>0</td>\n",
       "    </tr>\n",
       "    <tr>\n",
       "      <th>2</th>\n",
       "      <td>1</td>\n",
       "      <td>4</td>\n",
       "      <td>628.0</td>\n",
       "      <td>620</td>\n",
       "      <td>804.0</td>\n",
       "      <td>750</td>\n",
       "      <td>WN</td>\n",
       "      <td>448</td>\n",
       "      <td>96.0</td>\n",
       "      <td>90.0</td>\n",
       "      <td>...</td>\n",
       "      <td>17.0</td>\n",
       "      <td>0</td>\n",
       "      <td>N</td>\n",
       "      <td>0</td>\n",
       "      <td>0.0</td>\n",
       "      <td>0.0</td>\n",
       "      <td>0.0</td>\n",
       "      <td>0.0</td>\n",
       "      <td>0.0</td>\n",
       "      <td>0</td>\n",
       "    </tr>\n",
       "    <tr>\n",
       "      <th>3</th>\n",
       "      <td>1</td>\n",
       "      <td>4</td>\n",
       "      <td>926.0</td>\n",
       "      <td>930</td>\n",
       "      <td>1054.0</td>\n",
       "      <td>1100</td>\n",
       "      <td>WN</td>\n",
       "      <td>1746</td>\n",
       "      <td>88.0</td>\n",
       "      <td>90.0</td>\n",
       "      <td>...</td>\n",
       "      <td>7.0</td>\n",
       "      <td>0</td>\n",
       "      <td>N</td>\n",
       "      <td>0</td>\n",
       "      <td>0.0</td>\n",
       "      <td>0.0</td>\n",
       "      <td>0.0</td>\n",
       "      <td>0.0</td>\n",
       "      <td>0.0</td>\n",
       "      <td>0</td>\n",
       "    </tr>\n",
       "    <tr>\n",
       "      <th>4</th>\n",
       "      <td>1</td>\n",
       "      <td>4</td>\n",
       "      <td>1829.0</td>\n",
       "      <td>1755</td>\n",
       "      <td>1959.0</td>\n",
       "      <td>1925</td>\n",
       "      <td>WN</td>\n",
       "      <td>3920</td>\n",
       "      <td>90.0</td>\n",
       "      <td>90.0</td>\n",
       "      <td>...</td>\n",
       "      <td>10.0</td>\n",
       "      <td>0</td>\n",
       "      <td>N</td>\n",
       "      <td>0</td>\n",
       "      <td>2.0</td>\n",
       "      <td>0.0</td>\n",
       "      <td>0.0</td>\n",
       "      <td>0.0</td>\n",
       "      <td>32.0</td>\n",
       "      <td>1</td>\n",
       "    </tr>\n",
       "  </tbody>\n",
       "</table>\n",
       "<p>5 rows × 27 columns</p>\n",
       "</div>"
      ],
      "text/plain": [
       "   mh  dy_of_wk  dep_tme  crsdep_tme  arr_tme  crsarr_tme uqe_carrier  \\\n",
       "0   1         4   2003.0        1955   2211.0        2225          WN   \n",
       "1   1         4    754.0         735   1002.0        1000          WN   \n",
       "2   1         4    628.0         620    804.0         750          WN   \n",
       "3   1         4    926.0         930   1054.0        1100          WN   \n",
       "4   1         4   1829.0        1755   1959.0        1925          WN   \n",
       "\n",
       "   flight_num  actual_elapsed_tme  crselapsed_tme  ...  txi_out  cnl  cnl_cde  \\\n",
       "0         335               128.0           150.0  ...      8.0    0        N   \n",
       "1        3231               128.0           145.0  ...     10.0    0        N   \n",
       "2         448                96.0            90.0  ...     17.0    0        N   \n",
       "3        1746                88.0            90.0  ...      7.0    0        N   \n",
       "4        3920                90.0            90.0  ...     10.0    0        N   \n",
       "\n",
       "  diverted carrier_dly  whr_dly  nasdelay  security_dly  late_aircraft_dly  \\\n",
       "0        0         0.0      0.0       0.0           0.0                0.0   \n",
       "1        0         0.0      0.0       0.0           0.0                0.0   \n",
       "2        0         0.0      0.0       0.0           0.0                0.0   \n",
       "3        0         0.0      0.0       0.0           0.0                0.0   \n",
       "4        0         2.0      0.0       0.0           0.0               32.0   \n",
       "\n",
       "  late  \n",
       "0    0  \n",
       "1    0  \n",
       "2    0  \n",
       "3    0  \n",
       "4    1  \n",
       "\n",
       "[5 rows x 27 columns]"
      ]
     },
     "execution_count": 31,
     "metadata": {},
     "output_type": "execute_result"
    }
   ],
   "source": [
    "dfc.head()"
   ]
  },
  {
   "cell_type": "code",
   "execution_count": 26,
   "metadata": {},
   "outputs": [
    {
     "data": {
      "text/plain": [
       "4962"
      ]
     },
     "execution_count": 26,
     "metadata": {},
     "output_type": "execute_result"
    }
   ],
   "source": [
    "dfc.distance.max()"
   ]
  },
  {
   "cell_type": "code",
   "execution_count": 20,
   "metadata": {},
   "outputs": [],
   "source": [
    "dff.late = dff.late + dfc.cnl + dfc.diverted"
   ]
  },
  {
   "cell_type": "code",
   "execution_count": 25,
   "metadata": {},
   "outputs": [
    {
     "data": {
      "text/plain": [
       "41.11666666666667"
      ]
     },
     "execution_count": 25,
     "metadata": {},
     "output_type": "execute_result"
    }
   ],
   "source": [
    "2467 / 60"
   ]
  },
  {
   "cell_type": "code",
   "execution_count": 21,
   "metadata": {},
   "outputs": [
    {
     "data": {
      "text/plain": [
       "array([0, 1], dtype=int64)"
      ]
     },
     "execution_count": 21,
     "metadata": {},
     "output_type": "execute_result"
    }
   ],
   "source": [
    "dff.late.unique()"
   ]
  },
  {
   "cell_type": "code",
   "execution_count": 35,
   "metadata": {},
   "outputs": [
    {
     "data": {
      "text/plain": [
       "(array([    178,     373,     399, ..., 7009564, 7009565, 7009648],\n",
       "       dtype=int64),)"
      ]
     },
     "execution_count": 35,
     "metadata": {},
     "output_type": "execute_result"
    }
   ],
   "source": [
    "np.where(dfc.cnl == 1)"
   ]
  },
  {
   "cell_type": "code",
   "execution_count": 39,
   "metadata": {},
   "outputs": [
    {
     "data": {
      "text/html": [
       "<div>\n",
       "<style scoped>\n",
       "    .dataframe tbody tr th:only-of-type {\n",
       "        vertical-align: middle;\n",
       "    }\n",
       "\n",
       "    .dataframe tbody tr th {\n",
       "        vertical-align: top;\n",
       "    }\n",
       "\n",
       "    .dataframe thead th {\n",
       "        text-align: right;\n",
       "    }\n",
       "</style>\n",
       "<table border=\"1\" class=\"dataframe\">\n",
       "  <thead>\n",
       "    <tr style=\"text-align: right;\">\n",
       "      <th></th>\n",
       "      <th>arr_dly</th>\n",
       "      <th>dep_dly</th>\n",
       "      <th>crr_dly</th>\n",
       "      <th>whr_dly</th>\n",
       "      <th>nas_dly</th>\n",
       "      <th>sty_dly</th>\n",
       "      <th>lte_act_dly</th>\n",
       "      <th>late</th>\n",
       "    </tr>\n",
       "  </thead>\n",
       "  <tbody>\n",
       "    <tr>\n",
       "      <th>178</th>\n",
       "      <td>0.0</td>\n",
       "      <td>0.0</td>\n",
       "      <td>0.0</td>\n",
       "      <td>0.0</td>\n",
       "      <td>0.0</td>\n",
       "      <td>0.0</td>\n",
       "      <td>0.0</td>\n",
       "      <td>1</td>\n",
       "    </tr>\n",
       "    <tr>\n",
       "      <th>373</th>\n",
       "      <td>0.0</td>\n",
       "      <td>0.0</td>\n",
       "      <td>0.0</td>\n",
       "      <td>0.0</td>\n",
       "      <td>0.0</td>\n",
       "      <td>0.0</td>\n",
       "      <td>0.0</td>\n",
       "      <td>1</td>\n",
       "    </tr>\n",
       "    <tr>\n",
       "      <th>399</th>\n",
       "      <td>0.0</td>\n",
       "      <td>0.0</td>\n",
       "      <td>0.0</td>\n",
       "      <td>0.0</td>\n",
       "      <td>0.0</td>\n",
       "      <td>0.0</td>\n",
       "      <td>0.0</td>\n",
       "      <td>1</td>\n",
       "    </tr>\n",
       "    <tr>\n",
       "      <th>401</th>\n",
       "      <td>0.0</td>\n",
       "      <td>0.0</td>\n",
       "      <td>0.0</td>\n",
       "      <td>0.0</td>\n",
       "      <td>0.0</td>\n",
       "      <td>0.0</td>\n",
       "      <td>0.0</td>\n",
       "      <td>1</td>\n",
       "    </tr>\n",
       "    <tr>\n",
       "      <th>415</th>\n",
       "      <td>0.0</td>\n",
       "      <td>0.0</td>\n",
       "      <td>0.0</td>\n",
       "      <td>0.0</td>\n",
       "      <td>0.0</td>\n",
       "      <td>0.0</td>\n",
       "      <td>0.0</td>\n",
       "      <td>1</td>\n",
       "    </tr>\n",
       "  </tbody>\n",
       "</table>\n",
       "</div>"
      ],
      "text/plain": [
       "     arr_dly  dep_dly  crr_dly  whr_dly  nas_dly  sty_dly  lte_act_dly  late\n",
       "178      0.0      0.0      0.0      0.0      0.0      0.0          0.0     1\n",
       "373      0.0      0.0      0.0      0.0      0.0      0.0          0.0     1\n",
       "399      0.0      0.0      0.0      0.0      0.0      0.0          0.0     1\n",
       "401      0.0      0.0      0.0      0.0      0.0      0.0          0.0     1\n",
       "415      0.0      0.0      0.0      0.0      0.0      0.0          0.0     1"
      ]
     },
     "execution_count": 39,
     "metadata": {},
     "output_type": "execute_result"
    }
   ],
   "source": [
    "dff.loc[np.where(dfc.cnl == 1)].head()"
   ]
  },
  {
   "cell_type": "code",
   "execution_count": null,
   "metadata": {},
   "outputs": [],
   "source": [
    "dff = dfc.assign(all_delay=lambda df: df.Length*df.Height) "
   ]
  },
  {
   "cell_type": "code",
   "execution_count": null,
   "metadata": {},
   "outputs": [],
   "source": [
    "df['all_delay'] = df.carrierdelay + df.weatherdelay +  df.nasdelay + df.securitydelay + df.lateaircraftdelay"
   ]
  },
  {
   "cell_type": "code",
   "execution_count": null,
   "metadata": {},
   "outputs": [],
   "source": [
    "df[]"
   ]
  },
  {
   "cell_type": "code",
   "execution_count": 3,
   "metadata": {},
   "outputs": [],
   "source": [
    "def label_uncap (string, dict):\n",
    "    S = []   \n",
    "    for (i,c) in enumerate(string): \n",
    "        if not i:\n",
    "            sub = c.lower(); c = ''; prv_upr = True\n",
    "        else:\n",
    "            if c.isupper():\n",
    "                    if prv_upr:\n",
    "                        prv_upr = True\n",
    "                    else:\n",
    "                        S.append(sub); sub = c.lower() ; c = ''; prv_upr = True\n",
    "            else:\n",
    "                prv_upr = False                \n",
    "            sub += c.lower()\n",
    "        if (i + 1 == len(string)):  \n",
    "            S.append(sub)\n",
    "        for (i, s) in enumerate(S):\n",
    "            if s in dict:\n",
    "                S[i] = dict[s]     \n",
    "    return '_'.join(S)"
   ]
  },
  {
   "cell_type": "code",
   "execution_count": 4,
   "metadata": {},
   "outputs": [],
   "source": [
    "abr = {'year':'yr', 'month':'mh', 'day':'dy', 'week':'wk',\n",
    "      'unique':'uqe', 'time':'tme', 'taxi':'txi', 'in':'in_','weather':'whr',\n",
    "      'delay':'dly', 'code':'cde', 'cancelled':'cnl', 'cancellation':'cnl',\n",
    "      'c':'crs','r':'','s':'','a':'','n':'nas'}"
   ]
  },
  {
   "cell_type": "code",
   "execution_count": null,
   "metadata": {},
   "outputs": [],
   "source": [
    "est_knn = KNeighborsRegressor()\n",
    "est_rft = RandomForestRegressor(random_state = 1)\n",
    "est_knn = KNeighborsRegressor()\n",
    "est_rdg = Ridge(random_state=1)\n",
    "est_lso = Lasso(random_state=1)\n",
    "est_svr = SVR()\n",
    "est_dtr = DecisionTreeRegressor()"
   ]
  },
  {
   "cell_type": "code",
   "execution_count": null,
   "metadata": {},
   "outputs": [],
   "source": []
  },
  {
   "cell_type": "markdown",
   "metadata": {},
   "source": [
    "#### Algorithm Selection Cross Value"
   ]
  },
  {
   "cell_type": "markdown",
   "metadata": {},
   "source": [
    "#### Hyperparameter Selection"
   ]
  },
  {
   "cell_type": "code",
   "execution_count": null,
   "metadata": {},
   "outputs": [],
   "source": []
  },
  {
   "cell_type": "markdown",
   "metadata": {},
   "source": [
    "#### Model Training"
   ]
  },
  {
   "cell_type": "code",
   "execution_count": null,
   "metadata": {},
   "outputs": [],
   "source": []
  }
 ],
 "metadata": {
  "kernelspec": {
   "display_name": "Python 3",
   "language": "python",
   "name": "python3"
  },
  "language_info": {
   "codemirror_mode": {
    "name": "ipython",
    "version": 3
   },
   "file_extension": ".py",
   "mimetype": "text/x-python",
   "name": "python",
   "nbconvert_exporter": "python",
   "pygments_lexer": "ipython3",
   "version": "3.7.3"
  }
 },
 "nbformat": 4,
 "nbformat_minor": 2
}

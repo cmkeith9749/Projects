{
 "cells": [
  {
   "cell_type": "code",
   "execution_count": 2,
   "metadata": {},
   "outputs": [],
   "source": [
    "import numpy as np\n",
    "import pandas as pd"
   ]
  },
  {
   "cell_type": "markdown",
   "metadata": {},
   "source": [
    "#### Tuning KNN - normalizing distance, picking k Drill"
   ]
  },
  {
   "cell_type": "markdown",
   "metadata": {},
   "source": [
    "Let's say we work at a credit card company and we're trying to figure out if people are going to pay their bills on time. We have everyone's purchases, split into four main categories: groceries, dining out, utilities, and entertainment. What are some ways you might use KNN to create this model? What aspects of KNN would be useful? Write up your thoughts in submit a link below."
   ]
  },
  {
   "cell_type": "markdown",
   "metadata": {},
   "source": [
    "Given: The credit card company starts with this data for scores\n",
    "- 'total' is dollar amount of purchases on the four categories.  \n",
    "- 'per01' is the pecent of total spent on this category -  grocery.  \n",
    "- 'per02' is the pecent of total spent on this category -  dining. \n",
    "- 'per03' is the pecent of total spent on this category -  utility. \n",
    "- 'per04' is the pecent of total spent on this category -  entertainment.\n",
    "- 'target' is \"pays bill on time?\" with 1 for true and 0 for false\n",
    "\n",
    "Make some **random** data just for fun "
   ]
  },
  {
   "cell_type": "code",
   "execution_count": 67,
   "metadata": {},
   "outputs": [
    {
     "data": {
      "text/html": [
       "<div>\n",
       "<style scoped>\n",
       "    .dataframe tbody tr th:only-of-type {\n",
       "        vertical-align: middle;\n",
       "    }\n",
       "\n",
       "    .dataframe tbody tr th {\n",
       "        vertical-align: top;\n",
       "    }\n",
       "\n",
       "    .dataframe thead th {\n",
       "        text-align: right;\n",
       "    }\n",
       "</style>\n",
       "<table border=\"1\" class=\"dataframe\">\n",
       "  <thead>\n",
       "    <tr style=\"text-align: right;\">\n",
       "      <th></th>\n",
       "      <th>per01</th>\n",
       "      <th>per02</th>\n",
       "      <th>per03</th>\n",
       "      <th>per04</th>\n",
       "      <th>total</th>\n",
       "      <th>target</th>\n",
       "    </tr>\n",
       "  </thead>\n",
       "  <tbody>\n",
       "    <tr>\n",
       "      <th>0</th>\n",
       "      <td>0.197368</td>\n",
       "      <td>0.282895</td>\n",
       "      <td>0.190789</td>\n",
       "      <td>0.328947</td>\n",
       "      <td>114124</td>\n",
       "      <td>0</td>\n",
       "    </tr>\n",
       "    <tr>\n",
       "      <th>1</th>\n",
       "      <td>0.289855</td>\n",
       "      <td>0.166667</td>\n",
       "      <td>0.195652</td>\n",
       "      <td>0.347826</td>\n",
       "      <td>90453</td>\n",
       "      <td>1</td>\n",
       "    </tr>\n",
       "  </tbody>\n",
       "</table>\n",
       "</div>"
      ],
      "text/plain": [
       "      per01     per02     per03     per04   total  target\n",
       "0  0.197368  0.282895  0.190789  0.328947  114124       0\n",
       "1  0.289855  0.166667  0.195652  0.347826   90453       1"
      ]
     },
     "execution_count": 67,
     "metadata": {},
     "output_type": "execute_result"
    }
   ],
   "source": [
    "A = np.random.randint(21, high=51, size=(1000,4)) \n",
    "pers = [pd.Series(a / a.sum()) for a in A]\n",
    "df = pd.concat(pers, axis=1, sort=False).T\n",
    "df.columns=['per01', 'per02', 'per03', 'per04']\n",
    "df['total'] = pd.Series(np.random.randint(12000, high=120000, size=1000))\n",
    "df['target'] = pd.Series(np.random.randint(0,2,size=1000))\n",
    "df.head(2)"
   ]
  },
  {
   "cell_type": "markdown",
   "metadata": {},
   "source": [
    "#### Normalize the features"
   ]
  },
  {
   "cell_type": "markdown",
   "metadata": {},
   "source": [
    "Normalize the features  Analyis confirmed the normality of the purchase percentage features so z scores are used.  The total is determined not to be normal so instead it is normalized within a range of -1.0 to 1.0      "
   ]
  },
  {
   "cell_type": "code",
   "execution_count": 68,
   "metadata": {},
   "outputs": [
    {
     "data": {
      "text/html": [
       "<div>\n",
       "<style scoped>\n",
       "    .dataframe tbody tr th:only-of-type {\n",
       "        vertical-align: middle;\n",
       "    }\n",
       "\n",
       "    .dataframe tbody tr th {\n",
       "        vertical-align: top;\n",
       "    }\n",
       "\n",
       "    .dataframe thead th {\n",
       "        text-align: right;\n",
       "    }\n",
       "</style>\n",
       "<table border=\"1\" class=\"dataframe\">\n",
       "  <thead>\n",
       "    <tr style=\"text-align: right;\">\n",
       "      <th></th>\n",
       "      <th>per01</th>\n",
       "      <th>per02</th>\n",
       "      <th>per03</th>\n",
       "      <th>per04</th>\n",
       "      <th>total</th>\n",
       "      <th>target</th>\n",
       "    </tr>\n",
       "  </thead>\n",
       "  <tbody>\n",
       "    <tr>\n",
       "      <th>0</th>\n",
       "      <td>-0.980853</td>\n",
       "      <td>0.661180</td>\n",
       "      <td>-1.122366</td>\n",
       "      <td>1.376620</td>\n",
       "      <td>0.894087</td>\n",
       "      <td>0</td>\n",
       "    </tr>\n",
       "    <tr>\n",
       "      <th>1</th>\n",
       "      <td>0.786010</td>\n",
       "      <td>-1.551153</td>\n",
       "      <td>-1.030010</td>\n",
       "      <td>1.719929</td>\n",
       "      <td>0.455019</td>\n",
       "      <td>1</td>\n",
       "    </tr>\n",
       "  </tbody>\n",
       "</table>\n",
       "</div>"
      ],
      "text/plain": [
       "      per01     per02     per03     per04     total  target\n",
       "0 -0.980853  0.661180 -1.122366  1.376620  0.894087       0\n",
       "1  0.786010 -1.551153 -1.030010  1.719929  0.455019       1"
      ]
     },
     "execution_count": 68,
     "metadata": {},
     "output_type": "execute_result"
    }
   ],
   "source": [
    "zscore = lambda x: (x-x.mean())/x.std()\n",
    "nrm_11 = lambda x: (x - x.min()) / (x.max() - x.min()) * 2 - 1\n",
    "df1 = df[['per01', 'per02', 'per03', 'per04']].transform(zscore)\n",
    "#df1['total'] = (df.total - df.total.min()) / (df.total.max() - df.total.min()) * 2 - 1\n",
    "df1['total'] = df.total.transform(nrm_11)\n",
    "df1['target'] = df.target\n",
    "df1.head(2)"
   ]
  },
  {
   "cell_type": "markdown",
   "metadata": {},
   "source": [
    "#### Iterate to select best features"
   ]
  },
  {
   "cell_type": "markdown",
   "metadata": {},
   "source": [
    "Break your data into train and test sets.  Build KNN models with k=1 for multiple feature combinations.  Select the best model by the prediction score for the test set.  "
   ]
  },
  {
   "cell_type": "code",
   "execution_count": null,
   "metadata": {},
   "outputs": [],
   "source": []
  },
  {
   "cell_type": "markdown",
   "metadata": {},
   "source": [
    "#### Tune your KNN model"
   ]
  },
  {
   "cell_type": "code",
   "execution_count": null,
   "metadata": {},
   "outputs": [],
   "source": []
  }
 ],
 "metadata": {
  "kernelspec": {
   "display_name": "Python 3",
   "language": "python",
   "name": "python3"
  },
  "language_info": {
   "codemirror_mode": {
    "name": "ipython",
    "version": 3
   },
   "file_extension": ".py",
   "mimetype": "text/x-python",
   "name": "python",
   "nbconvert_exporter": "python",
   "pygments_lexer": "ipython3",
   "version": "3.7.3"
  }
 },
 "nbformat": 4,
 "nbformat_minor": 2
}

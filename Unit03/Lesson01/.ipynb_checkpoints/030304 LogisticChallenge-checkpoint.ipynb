{
 "cells": [
  {
   "cell_type": "markdown",
   "metadata": {},
   "source": [
    "Now that you have two new regression methods at your fingertips, it's time to give them a spin. In fact, for this challenge, let's put them together! Pick a dataset of your choice with a binary outcome and the potential for at least 15 features. If you're drawing a blank, the crime rates in 2013 dataset has a lot of variables that could be made into a modelable binary outcome.\n",
    "\n",
    "Engineer your features, then create three models. Each model will be run on a training set and a test-set (or multiple test-sets, if you take a folds approach). The models should be:\n",
    "\n",
    "Vanilla logistic regression\n",
    "Ridge logistic regression\n",
    "Lasso logistic regression\n",
    "If you're stuck on how to begin combining your two new modeling skills, here's a hint: the SKlearn LogisticRegression method has a \"penalty\" argument that takes either 'l1' or 'l2' as a value.\n",
    "\n",
    "In your report, evaluate all three models and decide on your best. Be clear about the decisions you made that led to these models (feature selection, regularization parameter selection, model evaluation criteria) and why you think that particular model is the best of the three. Also reflect on the strengths and limitations of regression as a modeling approach. Were there things you couldn't do but you wish you could have done?\n",
    "\n",
    "Record your work and reflections in a notebook to discuss with your mentor."
   ]
  },
  {
   "cell_type": "code",
   "execution_count": 3,
   "metadata": {},
   "outputs": [],
   "source": [
    "import pandas as pd\n",
    "import numpy as np\n",
    "\n",
    "from sklearn.compose import ColumnTransformer\n",
    "from sklearn.pipeline import Pipeline\n",
    "from sklearn.impute import SimpleImputer\n",
    "from sklearn.preprocessing import StandardScaler, OneHotEncoder\n",
    "from sklearn.linear_model import LogisticRegression\n",
    "from sklearn.model_selection import train_test_split, GridSearchCV"
   ]
  },
  {
   "cell_type": "markdown",
   "metadata": {},
   "source": [
    "#### Description of ‘A-level-geography’\n",
    "\n",
    "The data contain the result of examination on A-level geometry for 33,276 students from over 2,000 institutions in England in 1997. There are 15 fields in the data set of ASCII format, and each field is separated by a blank space. The detailed description of the fields is as followings\n",
    "\n",
    "\n",
    "| Variable  | Coding | Description |\n",
    "| --------- | ------ | ----------- |\n",
    "| SCORE   |   0, 2, 4, 6, 8, 10   | 0=fail, 2=grade E, 4=grade D, 6=grade C, 8=grade B, 10=grade A | \n",
    "| BOARD  | 1 – 7  | 1=Associate and WJB, 2=Cambridge, 3=London, 5=Oxforld, 6=Joint Matriculation, 7=Oxford-Cambridge |\n",
    "| GCSE-G-SCORE | 0,2,3,4,5,6,7,8 | 0=fail, 2=grade F,  3=grade E, 4=grade D, 5=grade C, 6=grade B, 7=grade A, 8=grade A* | \n",
    "| GENDER | 0 or 1 | 0=Male, 1=Female | \t\t\t\n",
    "| GTOT | 19 ~ 95 continuous | \tTotal point score of all GCSE subjects\n",
    "| GNUM | 4 ~13 continuous | \tTotal number of GCSE taken \n",
    "| GCSE-MA-MAX | 0 – 8  | Maximum point score for GCSE math: 0=fail, 2=grade F,  3=grade E, 4=grade D, 5=grade C, 6=grade B, 7=grade A, 8=grade A* | \n",
    "| GCSE-math-n | \t1,2,3,4 | \tTotal number of GCSE math subjects taken | \n",
    "| AGE | \tcontinuous | \tAge of student in month, centred at 222 months ( 18.5 years) | \n",
    "| INST-GA-MN | \tcontinuous | \tInstitution average of GCSE score, centred at its mean | \n",
    "| INST-GA-SD | \tcontinuous | \tInstitution standard deviation of GCSE score | \n",
    "| INSTTYPE\tCategory | 1 ~ 11 |1 = LEA Maintained Comprehensive, 2 = Maintained Selective, 3 = Maintained Modern, 4 = Grammar Comprehensive, 5 = Grammar Selective, 6 = Grammar Modern, 7 = Independent selective, 8 = Independent non-selective, 9 = Sixth Form College, 10 = Further Education College, 11 = Others | \n",
    "| LEA | \t1 ~ 131 | \tLocal Education Authority identification | \n",
    "| INSTITUTE | \t1 ~ 98 | \tInstitution identification within LEA | \n",
    "| STUDENT | \t25 ~ 196053 | \tStudent identification | "
   ]
  },
  {
   "cell_type": "code",
   "execution_count": 15,
   "metadata": {},
   "outputs": [
    {
     "data": {
      "text/html": [
       "<div>\n",
       "<style scoped>\n",
       "    .dataframe tbody tr th:only-of-type {\n",
       "        vertical-align: middle;\n",
       "    }\n",
       "\n",
       "    .dataframe tbody tr th {\n",
       "        vertical-align: top;\n",
       "    }\n",
       "\n",
       "    .dataframe thead th {\n",
       "        text-align: right;\n",
       "    }\n",
       "</style>\n",
       "<table border=\"1\" class=\"dataframe\">\n",
       "  <thead>\n",
       "    <tr style=\"text-align: right;\">\n",
       "      <th></th>\n",
       "      <th>a_scre</th>\n",
       "      <th>boards</th>\n",
       "      <th>g_ge_s</th>\n",
       "      <th>gender</th>\n",
       "      <th>g_tl_s</th>\n",
       "      <th>g_tl_n</th>\n",
       "      <th>g_m_mx</th>\n",
       "      <th>g_m_tl</th>\n",
       "      <th>age_mh</th>\n",
       "      <th>i_g_mn</th>\n",
       "      <th>i_g_sd</th>\n",
       "      <th>i_type</th>\n",
       "      <th>lea_id</th>\n",
       "      <th>ise_id</th>\n",
       "      <th>studnt</th>\n",
       "    </tr>\n",
       "  </thead>\n",
       "  <tbody>\n",
       "    <tr>\n",
       "      <th>33271</th>\n",
       "      <td>8.0</td>\n",
       "      <td>3</td>\n",
       "      <td>7</td>\n",
       "      <td>1</td>\n",
       "      <td>71</td>\n",
       "      <td>11.0</td>\n",
       "      <td>7</td>\n",
       "      <td>1</td>\n",
       "      <td>-3.0</td>\n",
       "      <td>-0.06</td>\n",
       "      <td>0.65</td>\n",
       "      <td>9.0</td>\n",
       "      <td>131.0</td>\n",
       "      <td>33.0</td>\n",
       "      <td>196035.0</td>\n",
       "    </tr>\n",
       "    <tr>\n",
       "      <th>33272</th>\n",
       "      <td>6.0</td>\n",
       "      <td>3</td>\n",
       "      <td>6</td>\n",
       "      <td>0</td>\n",
       "      <td>52</td>\n",
       "      <td>9.0</td>\n",
       "      <td>6</td>\n",
       "      <td>1</td>\n",
       "      <td>1.0</td>\n",
       "      <td>-0.06</td>\n",
       "      <td>0.65</td>\n",
       "      <td>9.0</td>\n",
       "      <td>131.0</td>\n",
       "      <td>33.0</td>\n",
       "      <td>196037.0</td>\n",
       "    </tr>\n",
       "    <tr>\n",
       "      <th>33273</th>\n",
       "      <td>4.0</td>\n",
       "      <td>3</td>\n",
       "      <td>5</td>\n",
       "      <td>1</td>\n",
       "      <td>46</td>\n",
       "      <td>9.0</td>\n",
       "      <td>5</td>\n",
       "      <td>1</td>\n",
       "      <td>-3.0</td>\n",
       "      <td>-0.06</td>\n",
       "      <td>0.65</td>\n",
       "      <td>9.0</td>\n",
       "      <td>131.0</td>\n",
       "      <td>33.0</td>\n",
       "      <td>196039.0</td>\n",
       "    </tr>\n",
       "    <tr>\n",
       "      <th>33274</th>\n",
       "      <td>8.0</td>\n",
       "      <td>3</td>\n",
       "      <td>5</td>\n",
       "      <td>1</td>\n",
       "      <td>52</td>\n",
       "      <td>9.0</td>\n",
       "      <td>5</td>\n",
       "      <td>1</td>\n",
       "      <td>5.0</td>\n",
       "      <td>-0.06</td>\n",
       "      <td>0.65</td>\n",
       "      <td>9.0</td>\n",
       "      <td>131.0</td>\n",
       "      <td>33.0</td>\n",
       "      <td>196047.0</td>\n",
       "    </tr>\n",
       "    <tr>\n",
       "      <th>33275</th>\n",
       "      <td>6.0</td>\n",
       "      <td>3</td>\n",
       "      <td>6</td>\n",
       "      <td>1</td>\n",
       "      <td>48</td>\n",
       "      <td>9.0</td>\n",
       "      <td>5</td>\n",
       "      <td>1</td>\n",
       "      <td>-3.0</td>\n",
       "      <td>-0.06</td>\n",
       "      <td>0.65</td>\n",
       "      <td>9.0</td>\n",
       "      <td>131.0</td>\n",
       "      <td>33.0</td>\n",
       "      <td>196053.0</td>\n",
       "    </tr>\n",
       "  </tbody>\n",
       "</table>\n",
       "</div>"
      ],
      "text/plain": [
       "       a_scre  boards  g_ge_s  gender  g_tl_s  g_tl_n  g_m_mx  g_m_tl  age_mh  \\\n",
       "33271     8.0       3       7       1      71    11.0       7       1    -3.0   \n",
       "33272     6.0       3       6       0      52     9.0       6       1     1.0   \n",
       "33273     4.0       3       5       1      46     9.0       5       1    -3.0   \n",
       "33274     8.0       3       5       1      52     9.0       5       1     5.0   \n",
       "33275     6.0       3       6       1      48     9.0       5       1    -3.0   \n",
       "\n",
       "       i_g_mn  i_g_sd  i_type  lea_id  ise_id    studnt  \n",
       "33271   -0.06    0.65     9.0   131.0    33.0  196035.0  \n",
       "33272   -0.06    0.65     9.0   131.0    33.0  196037.0  \n",
       "33273   -0.06    0.65     9.0   131.0    33.0  196039.0  \n",
       "33274   -0.06    0.65     9.0   131.0    33.0  196047.0  \n",
       "33275   -0.06    0.65     9.0   131.0    33.0  196053.0  "
      ]
     },
     "execution_count": 15,
     "metadata": {},
     "output_type": "execute_result"
    }
   ],
   "source": [
    "df = pd.read_csv('data/geography.txt', sep=' ', header=None) \n",
    "df.columns = ['a_scre','boards', 'g_ge_s', 'gender', 'g_tl_s', 'g_tl_n','g_m_mx', 'g_m_tl','age_mh',\n",
    "              'i_g_mn', 'i_g_sd','i_type', 'lea_id', 'ise_id', 'studnt']\n",
    "df.tail()"
   ]
  },
  {
   "cell_type": "code",
   "execution_count": 16,
   "metadata": {},
   "outputs": [
    {
     "data": {
      "text/html": [
       "<div>\n",
       "<style scoped>\n",
       "    .dataframe tbody tr th:only-of-type {\n",
       "        vertical-align: middle;\n",
       "    }\n",
       "\n",
       "    .dataframe tbody tr th {\n",
       "        vertical-align: top;\n",
       "    }\n",
       "\n",
       "    .dataframe thead th {\n",
       "        text-align: right;\n",
       "    }\n",
       "</style>\n",
       "<table border=\"1\" class=\"dataframe\">\n",
       "  <thead>\n",
       "    <tr style=\"text-align: right;\">\n",
       "      <th></th>\n",
       "      <th>a_scre</th>\n",
       "      <th>boards</th>\n",
       "      <th>g_ge_s</th>\n",
       "      <th>gender</th>\n",
       "      <th>g_m_mx</th>\n",
       "      <th>g_m_tl</th>\n",
       "      <th>age_mh</th>\n",
       "      <th>i_type</th>\n",
       "      <th>ise_id</th>\n",
       "      <th>passed</th>\n",
       "      <th>g_avg_</th>\n",
       "    </tr>\n",
       "  </thead>\n",
       "  <tbody>\n",
       "    <tr>\n",
       "      <th>33271</th>\n",
       "      <td>8</td>\n",
       "      <td>3</td>\n",
       "      <td>7</td>\n",
       "      <td>1</td>\n",
       "      <td>7</td>\n",
       "      <td>1</td>\n",
       "      <td>219</td>\n",
       "      <td>9</td>\n",
       "      <td>13133</td>\n",
       "      <td>1</td>\n",
       "      <td>6.4545</td>\n",
       "    </tr>\n",
       "    <tr>\n",
       "      <th>33272</th>\n",
       "      <td>6</td>\n",
       "      <td>3</td>\n",
       "      <td>6</td>\n",
       "      <td>0</td>\n",
       "      <td>6</td>\n",
       "      <td>1</td>\n",
       "      <td>223</td>\n",
       "      <td>9</td>\n",
       "      <td>13133</td>\n",
       "      <td>1</td>\n",
       "      <td>5.7778</td>\n",
       "    </tr>\n",
       "    <tr>\n",
       "      <th>33273</th>\n",
       "      <td>4</td>\n",
       "      <td>3</td>\n",
       "      <td>5</td>\n",
       "      <td>1</td>\n",
       "      <td>5</td>\n",
       "      <td>1</td>\n",
       "      <td>219</td>\n",
       "      <td>9</td>\n",
       "      <td>13133</td>\n",
       "      <td>1</td>\n",
       "      <td>5.1111</td>\n",
       "    </tr>\n",
       "    <tr>\n",
       "      <th>33274</th>\n",
       "      <td>8</td>\n",
       "      <td>3</td>\n",
       "      <td>5</td>\n",
       "      <td>1</td>\n",
       "      <td>5</td>\n",
       "      <td>1</td>\n",
       "      <td>227</td>\n",
       "      <td>9</td>\n",
       "      <td>13133</td>\n",
       "      <td>1</td>\n",
       "      <td>5.7778</td>\n",
       "    </tr>\n",
       "    <tr>\n",
       "      <th>33275</th>\n",
       "      <td>6</td>\n",
       "      <td>3</td>\n",
       "      <td>6</td>\n",
       "      <td>1</td>\n",
       "      <td>5</td>\n",
       "      <td>1</td>\n",
       "      <td>219</td>\n",
       "      <td>9</td>\n",
       "      <td>13133</td>\n",
       "      <td>1</td>\n",
       "      <td>5.3333</td>\n",
       "    </tr>\n",
       "  </tbody>\n",
       "</table>\n",
       "</div>"
      ],
      "text/plain": [
       "       a_scre  boards  g_ge_s  gender  g_m_mx  g_m_tl  age_mh  i_type  ise_id  \\\n",
       "33271       8       3       7       1       7       1     219       9   13133   \n",
       "33272       6       3       6       0       6       1     223       9   13133   \n",
       "33273       4       3       5       1       5       1     219       9   13133   \n",
       "33274       8       3       5       1       5       1     227       9   13133   \n",
       "33275       6       3       6       1       5       1     219       9   13133   \n",
       "\n",
       "       passed  g_avg_  \n",
       "33271       1  6.4545  \n",
       "33272       1  5.7778  \n",
       "33273       1  5.1111  \n",
       "33274       1  5.7778  \n",
       "33275       1  5.3333  "
      ]
     },
     "execution_count": 16,
     "metadata": {},
     "output_type": "execute_result"
    }
   ],
   "source": [
    "df['passed'] = np.where(df.a_scre > 0, 1, 0)\n",
    "df['g_avg_'] = np.round(df.g_tl_s.div(df.g_tl_n), decimals = 4)\n",
    "df.ise_id = df.ise_id.add(df.lea_id * 100)\n",
    "df.ise_id = df.ise_id.apply(lambda x : int(x))\n",
    "df.age_mh = df.age_mh.apply(lambda x : int(x + 222))\n",
    "df.a_scre = df.a_scre.apply(lambda x : int(x))\n",
    "df.i_type = df.i_type.apply(lambda x : int(x))\n",
    "drops = ['studnt', 'lea_id', 'g_tl_s', 'g_tl_n', 'i_g_mn','i_g_sd' ]\n",
    "df = df.drop(drops, axis=1)\n",
    "df.tail()"
   ]
  },
  {
   "cell_type": "markdown",
   "metadata": {},
   "source": [
    "#### Numeric Features:\n",
    " - age_mh : int students age in months\n",
    " - g_ge_s : int   students score on lower level geometry test\n",
    " - g_m_mx : int   students best on any lower level math exam\n",
    " - g_m_tl : int   number of lower level math exam student has taken\n",
    " - g_avg_ : float students average score on all lower level exams\n",
    "\n",
    "#### Categorical Features:\n",
    " - i_type : ordinal integers {1:11}  type of institution attended\n",
    " - gender : ordinal integers {0,1}   students, male = 1  \n",
    " - boards : ordinal integers {1, 2, 3, 5, 6, 7, 8}\n",
    "\n",
    "#### Targets\n",
    "- passed : ordinal integers {0, 1}  student passed 1 or failed 0\n",
    "- a_scre : continous int    {0:10}    score awarded for A level geometry exam ==> 0 , 2, 4, 6, 8, or 10 "
   ]
  },
  {
   "cell_type": "code",
   "execution_count": null,
   "metadata": {},
   "outputs": [],
   "source": [
    "\n",
    "# Numeric Features:\n",
    "# - age_mh: float students age in months\n",
    "# - g_ge_s: int   students score on lower level geometry test\n",
    "# - g_m_mx: int   students best on any lower level math exam\n",
    "# - g_m_tl: int   number of lower level math exam student has taken\n",
    "# - g_avg_: float students average score on all lower level exams\n",
    "\n",
    "# Categorical Features:\n",
    "# - i_type: ordinal integers {1:11}  type of institution attended\n",
    "# - gender: ordinal integers {0,1}   students, male = 1  \n",
    "# - boards: ordinal integers {1, 2, 3, 5, 6, 7, 8}\n",
    "\n",
    "# Targets\n",
    "# passed ordinal integers {0, 1}  student passed 1 or failed 0\n",
    "# passed continous int  {0:10}    score awarded for A level geometry exam ==> 0 , 2, 4, 6, 8, or 10 \n",
    "\n",
    "\n",
    "numeric_features = ['age', 'fare']\n",
    "numeric_transformer = Pipeline(steps=[\n",
    "    ('imputer', SimpleImputer(strategy='median')),\n",
    "    ('scaler', StandardScaler())])\n",
    "\n",
    "categorical_features = ['embarked', 'sex', 'pclass']\n",
    "categorical_transformer = Pipeline(steps=[\n",
    "    ('imputer', SimpleImputer(strategy='constant', fill_value='missing')),\n",
    "    ('onehot', OneHotEncoder(handle_unknown='ignore'))])\n",
    "\n",
    "preprocessor = ColumnTransformer(\n",
    "    transformers=[\n",
    "        ('num', numeric_transformer, numeric_features),\n",
    "        ('cat', categorical_transformer, categorical_features)])"
   ]
  },
  {
   "cell_type": "code",
   "execution_count": null,
   "metadata": {},
   "outputs": [],
   "source": [
    "# Append classifier to preprocessing pipeline.\n",
    "# Now we have a full prediction pipeline.\n",
    "clf = Pipeline(steps=[('preprocessor', preprocessor),\n",
    "                      ('classifier', LogisticRegression(solver='lbfgs'))])"
   ]
  },
  {
   "cell_type": "code",
   "execution_count": null,
   "metadata": {},
   "outputs": [],
   "source": []
  },
  {
   "cell_type": "code",
   "execution_count": null,
   "metadata": {},
   "outputs": [],
   "source": []
  },
  {
   "cell_type": "code",
   "execution_count": null,
   "metadata": {},
   "outputs": [],
   "source": []
  },
  {
   "cell_type": "code",
   "execution_count": null,
   "metadata": {},
   "outputs": [],
   "source": []
  },
  {
   "cell_type": "code",
   "execution_count": 7,
   "metadata": {},
   "outputs": [],
   "source": [
    "# new columns \n",
    "df1['passed'] = np.where(df1.a_scre > 0, 1, 0)\n",
    "df1['g_avg_'] = np.round(df1.g_tl_s.div(df1.g_tl_n), decimals = 4)\n",
    "# transform columns\n",
    "df1.ise_id =  df1.ise_id.add(df1.lea_id * 100)\n",
    "df1.age_mh =  df1.age_mh.add(222)\n",
    "# dicts to put features in rank order by target ascending\n",
    "obts = {x:ordinal_by_target(df1, 'a_scre', x ) for x in a}"
   ]
  },
  {
   "cell_type": "code",
   "execution_count": 8,
   "metadata": {},
   "outputs": [],
   "source": [
    "# create dict of all cleaning / tranforming parameters\n",
    "# {'col1':{'lbl':'col1', 'fnn':'ABC', 'kwg': {'fte':'col1', tgt:'a_scre', 'arg':[sr1, sr2]}, 'col2':{}, }\n",
    "cleans =      [{'fte': val,'fnn':str.upper(sub),'kws':{'arg':[obts[val]], 'srs':getattr(df1, val)}} if val in obts\n",
    "          else {'fte': val,'fnn':str.upper(sub),'kws':{'arg':[],          'srs':getattr(df1, val)}}\n",
    "          for sub in groups for val in eval(sub)]"
   ]
  },
  {
   "cell_type": "code",
   "execution_count": 9,
   "metadata": {},
   "outputs": [],
   "source": [
    "pairs = [(dct['fte'],switch_clean(dct['fnn'], **dct['kws'])) for dct in cleans]\n",
    "f,s = zip(*pairs)\n",
    "F = list(f); S = list(s)"
   ]
  },
  {
   "cell_type": "code",
   "execution_count": 10,
   "metadata": {},
   "outputs": [],
   "source": [
    "data = pd.DataFrame(S, index=F).T \n",
    "data['gender'] = df1.gender"
   ]
  },
  {
   "cell_type": "code",
   "execution_count": 11,
   "metadata": {},
   "outputs": [
    {
     "data": {
      "text/html": [
       "<div>\n",
       "<style scoped>\n",
       "    .dataframe tbody tr th:only-of-type {\n",
       "        vertical-align: middle;\n",
       "    }\n",
       "\n",
       "    .dataframe tbody tr th {\n",
       "        vertical-align: top;\n",
       "    }\n",
       "\n",
       "    .dataframe thead th {\n",
       "        text-align: right;\n",
       "    }\n",
       "</style>\n",
       "<table border=\"1\" class=\"dataframe\">\n",
       "  <thead>\n",
       "    <tr style=\"text-align: right;\">\n",
       "      <th></th>\n",
       "      <th>i_type</th>\n",
       "      <th>g_m_tl</th>\n",
       "      <th>boards</th>\n",
       "      <th>ise_id</th>\n",
       "      <th>g_m_mx</th>\n",
       "      <th>age_mh</th>\n",
       "      <th>g_ge_s</th>\n",
       "      <th>g_avg_</th>\n",
       "      <th>gender</th>\n",
       "    </tr>\n",
       "  </thead>\n",
       "  <tbody>\n",
       "    <tr>\n",
       "      <th>count</th>\n",
       "      <td>33276.000000</td>\n",
       "      <td>33276.000000</td>\n",
       "      <td>33276.000000</td>\n",
       "      <td>33276.000000</td>\n",
       "      <td>33276.000000</td>\n",
       "      <td>33276.000000</td>\n",
       "      <td>33276.000000</td>\n",
       "      <td>3.327600e+04</td>\n",
       "      <td>33276.000000</td>\n",
       "    </tr>\n",
       "    <tr>\n",
       "      <th>mean</th>\n",
       "      <td>0.162844</td>\n",
       "      <td>0.513603</td>\n",
       "      <td>0.259526</td>\n",
       "      <td>0.201660</td>\n",
       "      <td>0.785446</td>\n",
       "      <td>0.015266</td>\n",
       "      <td>1.184127</td>\n",
       "      <td>3.765035e-14</td>\n",
       "      <td>0.451136</td>\n",
       "    </tr>\n",
       "    <tr>\n",
       "      <th>std</th>\n",
       "      <td>1.144134</td>\n",
       "      <td>0.619077</td>\n",
       "      <td>1.088771</td>\n",
       "      <td>1.003181</td>\n",
       "      <td>0.770443</td>\n",
       "      <td>1.245786</td>\n",
       "      <td>0.491898</td>\n",
       "      <td>1.000000e+00</td>\n",
       "      <td>0.497614</td>\n",
       "    </tr>\n",
       "    <tr>\n",
       "      <th>min</th>\n",
       "      <td>-2.000000</td>\n",
       "      <td>-2.000000</td>\n",
       "      <td>-2.000000</td>\n",
       "      <td>-2.000000</td>\n",
       "      <td>-2.000000</td>\n",
       "      <td>-2.000000</td>\n",
       "      <td>-2.000000</td>\n",
       "      <td>-3.449082e+00</td>\n",
       "      <td>0.000000</td>\n",
       "    </tr>\n",
       "    <tr>\n",
       "      <th>25%</th>\n",
       "      <td>-0.800000</td>\n",
       "      <td>0.666667</td>\n",
       "      <td>-0.666667</td>\n",
       "      <td>-0.554404</td>\n",
       "      <td>0.500000</td>\n",
       "      <td>-0.909091</td>\n",
       "      <td>1.000000</td>\n",
       "      <td>-6.284594e-01</td>\n",
       "      <td>0.000000</td>\n",
       "    </tr>\n",
       "    <tr>\n",
       "      <th>50%</th>\n",
       "      <td>0.000000</td>\n",
       "      <td>0.666667</td>\n",
       "      <td>0.666667</td>\n",
       "      <td>0.207254</td>\n",
       "      <td>1.000000</td>\n",
       "      <td>-0.181818</td>\n",
       "      <td>1.000000</td>\n",
       "      <td>2.637762e-02</td>\n",
       "      <td>0.000000</td>\n",
       "    </tr>\n",
       "    <tr>\n",
       "      <th>75%</th>\n",
       "      <td>1.200000</td>\n",
       "      <td>0.666667</td>\n",
       "      <td>0.666667</td>\n",
       "      <td>1.043178</td>\n",
       "      <td>1.000000</td>\n",
       "      <td>1.272727</td>\n",
       "      <td>1.500000</td>\n",
       "      <td>7.146999e-01</td>\n",
       "      <td>1.000000</td>\n",
       "    </tr>\n",
       "    <tr>\n",
       "      <th>max</th>\n",
       "      <td>2.000000</td>\n",
       "      <td>2.000000</td>\n",
       "      <td>2.000000</td>\n",
       "      <td>2.000000</td>\n",
       "      <td>2.000000</td>\n",
       "      <td>2.000000</td>\n",
       "      <td>2.000000</td>\n",
       "      <td>2.595195e+00</td>\n",
       "      <td>1.000000</td>\n",
       "    </tr>\n",
       "  </tbody>\n",
       "</table>\n",
       "</div>"
      ],
      "text/plain": [
       "             i_type        g_m_tl        boards        ise_id        g_m_mx  \\\n",
       "count  33276.000000  33276.000000  33276.000000  33276.000000  33276.000000   \n",
       "mean       0.162844      0.513603      0.259526      0.201660      0.785446   \n",
       "std        1.144134      0.619077      1.088771      1.003181      0.770443   \n",
       "min       -2.000000     -2.000000     -2.000000     -2.000000     -2.000000   \n",
       "25%       -0.800000      0.666667     -0.666667     -0.554404      0.500000   \n",
       "50%        0.000000      0.666667      0.666667      0.207254      1.000000   \n",
       "75%        1.200000      0.666667      0.666667      1.043178      1.000000   \n",
       "max        2.000000      2.000000      2.000000      2.000000      2.000000   \n",
       "\n",
       "             age_mh        g_ge_s        g_avg_        gender  \n",
       "count  33276.000000  33276.000000  3.327600e+04  33276.000000  \n",
       "mean       0.015266      1.184127  3.765035e-14      0.451136  \n",
       "std        1.245786      0.491898  1.000000e+00      0.497614  \n",
       "min       -2.000000     -2.000000 -3.449082e+00      0.000000  \n",
       "25%       -0.909091      1.000000 -6.284594e-01      0.000000  \n",
       "50%       -0.181818      1.000000  2.637762e-02      0.000000  \n",
       "75%        1.272727      1.500000  7.146999e-01      1.000000  \n",
       "max        2.000000      2.000000  2.595195e+00      1.000000  "
      ]
     },
     "execution_count": 11,
     "metadata": {},
     "output_type": "execute_result"
    }
   ],
   "source": [
    "data.describe()"
   ]
  },
  {
   "cell_type": "code",
   "execution_count": 12,
   "metadata": {},
   "outputs": [],
   "source": [
    "Y_scr = df1.a_scre\n",
    "Y_psd = df1.passed\n",
    "X = data"
   ]
  },
  {
   "cell_type": "code",
   "execution_count": 13,
   "metadata": {},
   "outputs": [],
   "source": [
    "a = ['boards', 'g_m_tl', 'ise_id', 'i_type', 'g_ge_s', 'g_m_mx', 'age_mh','g_avg_', 'gender']\n",
    "b = [ 'g_m_tl', 'g_ge_s', 'g_m_mx','g_avg_']"
   ]
  },
  {
   "cell_type": "code",
   "execution_count": 14,
   "metadata": {},
   "outputs": [],
   "source": [
    "X = data[b ]"
   ]
  },
  {
   "cell_type": "code",
   "execution_count": null,
   "metadata": {},
   "outputs": [],
   "source": [
    "sklearn.metrics.mean_absolute_error(y_true, y_pred, sample_weight=None, multioutput=’uniform_average’)["
   ]
  },
  {
   "cell_type": "markdown",
   "metadata": {},
   "source": [
    "Predict scr Accuracy: 0.43 (+/- 0.0001)\n",
    "\n",
    "Predict psd Accuracy: 0.09 (+/- 0.0001)"
   ]
  },
  {
   "cell_type": "code",
   "execution_count": 15,
   "metadata": {},
   "outputs": [],
   "source": [
    "#p1 = 'distance'\n",
    "p1 = 'uniform'\n",
    "p0 = 10"
   ]
  },
  {
   "cell_type": "code",
   "execution_count": 16,
   "metadata": {
    "run_control": {
     "frozen": false,
     "read_only": false
    }
   },
   "outputs": [
    {
     "data": {
      "text/plain": [
       "KNeighborsRegressor(algorithm='auto', leaf_size=30, metric='minkowski',\n",
       "                    metric_params=None, n_jobs=None, n_neighbors=10, p=2,\n",
       "                    weights='uniform')"
      ]
     },
     "execution_count": 16,
     "metadata": {},
     "output_type": "execute_result"
    }
   ],
   "source": [
    "knn_scr = neighbors.KNeighborsRegressor(n_neighbors=p0, weights=p1)\n",
    "knn_psd = neighbors.KNeighborsRegressor(n_neighbors=p0, weights=p1)\n",
    "knn_scr.fit(X, Y_scr)\n",
    "knn_psd.fit(X, Y_psd)"
   ]
  },
  {
   "cell_type": "code",
   "execution_count": 17,
   "metadata": {},
   "outputs": [
    {
     "data": {
      "text/plain": [
       "array([8.4, 6.2, 8.4, ..., 1.6, 5. , 4.8])"
      ]
     },
     "execution_count": 17,
     "metadata": {},
     "output_type": "execute_result"
    }
   ],
   "source": [
    "knn_scr.predict(X)"
   ]
  },
  {
   "cell_type": "code",
   "execution_count": 18,
   "metadata": {},
   "outputs": [
    {
     "data": {
      "text/plain": [
       "array([1. , 0.9, 1. , ..., 0.5, 1. , 1. ])"
      ]
     },
     "execution_count": 18,
     "metadata": {},
     "output_type": "execute_result"
    }
   ],
   "source": [
    "knn_psd.predict(X)"
   ]
  },
  {
   "cell_type": "code",
   "execution_count": 19,
   "metadata": {
    "run_control": {
     "frozen": false,
     "read_only": false
    }
   },
   "outputs": [
    {
     "name": "stdout",
     "output_type": "stream",
     "text": [
      "[0.42218633 0.39269003 0.41444808 0.41395987 0.41378414]\n",
      "[0.10129468 0.08004322 0.11282106 0.05742085 0.0816556 ]\n"
     ]
    }
   ],
   "source": [
    "acc_scr = cross_val_score(knn_scr, X, Y_scr, cv=5)\n",
    "acc_psd = cross_val_score(knn_psd, X, Y_psd, cv=5)\n",
    "print(acc_scr)\n",
    "print(acc_psd)\n",
    "print(\"R Squared for knn_scr: %0.2f (+/- %0.4f)\" % (acc_scr.mean(), acc_scr.std() ** 2))\n",
    "print(\"R Squared for knn_psd: %0.2f (+/- %0.4f)\" % (acc_psd.mean(), acc_psd.std() ** 2))\n"
   ]
  },
  {
   "cell_type": "code",
   "execution_count": null,
   "metadata": {
    "run_control": {
     "frozen": false,
     "read_only": false
    }
   },
   "outputs": [],
   "source": [
    "results = []\n",
    "for a,b in param:  \n",
    "    knn1 = neighbors.KNeighborsRegressor(n_neighbors=a, weights=b)\n",
    "    X = music[['loudness', 'duration']]\n",
    "    Y = music.bpm\n",
    "    knn.fit(X, Y)\n",
    "    score = cross_val_score(knn1, X, Y, cv=3)\n",
    "    if b == 'distance': weighted = True\n",
    "    else:               weighted = False\n",
    "    results.append({'n':a,'weighted':weighted,'accuracy':np.round(score.mean(), decimals=2),\n",
    "                    'std':np.round(score.std(), decimals=2)})\n",
    " "
   ]
  },
  {
   "cell_type": "code",
   "execution_count": null,
   "metadata": {},
   "outputs": [],
   "source": [
    "dfr = pd.concat([pd.Series(dct) for dct in results], axis=1, sort=False).T    "
   ]
  },
  {
   "cell_type": "code",
   "execution_count": null,
   "metadata": {},
   "outputs": [],
   "source": [
    "table = dfr.pivot(index='n', columns='weighted', values=['accuracy', 'std'])\n",
    "table"
   ]
  },
  {
   "cell_type": "code",
   "execution_count": null,
   "metadata": {},
   "outputs": [],
   "source": [
    "regr = linear_model.LinearRegression()\n",
    "regr.fit(X, y)\n",
    "\n",
    "# Save predicted values.\n",
    "Y_pred = regr.predict(X)\n",
    "print('R-squared regression:', regr.score(X, y))\n",
    "\n",
    "# Fit a linear model using Partial Least Squares Regression.\n",
    "# Reduce feature space to 3 dimensions.\n",
    "pls1 = PLSRegression(n_components=3)\n",
    "\n",
    "# Reduce X to R(X) and regress on y.\n",
    "pls1.fit(X, y)\n",
    "\n",
    "# Save predicted values.\n",
    "Y_PLS_pred = pls1.predict(X)"
   ]
  }
 ],
 "metadata": {
  "hide_input": false,
  "kernelspec": {
   "display_name": "Python 3",
   "language": "python",
   "name": "python3"
  },
  "language_info": {
   "codemirror_mode": {
    "name": "ipython",
    "version": 3
   },
   "file_extension": ".py",
   "mimetype": "text/x-python",
   "name": "python",
   "nbconvert_exporter": "python",
   "pygments_lexer": "ipython3",
   "version": "3.7.3"
  },
  "toc": {
   "colors": {
    "hover_highlight": "#DAA520",
    "running_highlight": "#FF0000",
    "selected_highlight": "#FFD700"
   },
   "moveMenuLeft": true,
   "nav_menu": {
    "height": "68px",
    "width": "252px"
   },
   "navigate_menu": true,
   "number_sections": true,
   "sideBar": true,
   "threshold": 4,
   "toc_cell": false,
   "toc_section_display": "block",
   "toc_window_display": false
  }
 },
 "nbformat": 4,
 "nbformat_minor": 2
}

{
 "cells": [
  {
   "cell_type": "code",
   "execution_count": 1,
   "metadata": {},
   "outputs": [],
   "source": [
    "import pandas as pd\n",
    "import numpy as np\n",
    "import scipy\n",
    "import matplotlib.pyplot as plt\n",
    "from sklearn import tree\n",
    "from IPython.display import Image\n",
    "import pydotplus\n",
    "import graphviz\n",
    "%matplotlib inline"
   ]
  },
  {
   "cell_type": "code",
   "execution_count": null,
   "metadata": {},
   "outputs": [],
   "source": []
  },
  {
   "cell_type": "markdown",
   "metadata": {
    "run_control": {
     "frozen": false,
     "read_only": false
    }
   },
   "source": [
    "### Gradient boosting\n",
    "\n",
    "You may recall that we last encountered gradients when discussing the gradient descent algorithm in the context of fitting linear regression models.  We said that for a particular regression model with n parameters, an n+1 dimensional space existed defined by all the parameters plus the cost/loss function to minimize.  The combination of parameters and loss function define a surface within the space.  The regression model is fitted by moving down the steepest 'downhill' gradient until we reach the lowest point of the surface, where all possible gradients are 'uphill.'  The final model is made up of the parameter estimates that define that location on the surface.\n",
    "\n",
    "Throughout all iterations of the gradient descent algorithm for linear regression, one thing remains constant: The underlying data used to estimate the parameters and calculate the loss function never changes.  In gradient boosting, however, the underlying data do change.  Let's work it out:\n",
    "\n",
    "Gradient boosting can work on any combination of loss function and model type, as long as we can calculate the derivatives of the loss function with respect to the model parameters.  Most often, however, gradient boosting uses decision trees, and minimizes either the  residual (regression trees) or the negative log-likelihood (classification trees).  "
   ]
  },
  {
   "cell_type": "markdown",
   "metadata": {},
   "source": [
    "### Gradient boosting with regression trees\n",
    "\n",
    "The loss function to minimize is the sum of the squared residuals:\n",
    "\n",
    "$$\\frac1{n}\\sum_{i=1}^n(y_i-(\\alpha + \\beta x_i))^2$$\n",
    "\n",
    "(Though it can also be the sum of the absolute value of the residuals, as in lasso regression.)\n",
    "\n",
    "Each time we run a decision tree, we extract the residuals.  Then we run a new decision tree, using those residuals as the outcome to be predicted.  After reaching a stopping point, we add together the predicted values from all of the decision trees to create the final gradient boosted prediction.\n",
    "\n",
    "The decision trees we use can be very simple.  In the example below, the decision trees only have a max depth of 2, meaning a maximum of four leaves.  These weak learners do not have to perform well at all individually in order to do well in aggregate.  \n",
    "\n",
    "Here we're going to do gradient boosting with regression trees by hand.  Our goal is to predict the variable \"happy\" using all the other variables in the European Social Survey dataset.  We'll calculate a tree, store the predicted values, pull the residuals, and run a new tree on the residuals.  This will repeat 101 times.  At the end, we add together all the predicted values from each iteration to yield the final predictions."
   ]
  },
  {
   "cell_type": "code",
   "execution_count": 2,
   "metadata": {
    "scrolled": false
   },
   "outputs": [
    {
     "name": "stdout",
     "output_type": "stream",
     "text": [
      "Weak learner 0 R^2: -21.86595826514709\n",
      "Weak learner 20 R^2: -0.0026192923008196978\n",
      "Weak learner 40 R^2: -0.0016748172727343302\n",
      "Weak learner 60 R^2: -0.0014818633549413818\n",
      "Weak learner 80 R^2: -0.0012578370480087475\n",
      "Weak learner 100 R^2: -0.0007136861925907123\n"
     ]
    },
    {
     "data": {
      "image/png": "[encoded data removed]",
      "text/plain": [
       "<Figure size 432x288 with 1 Axes>"
      ]
     },
     "metadata": {
      "needs_background": "light"
     },
     "output_type": "display_data"
    },
    {
     "name": "stdout",
     "output_type": "stream",
     "text": [
      "Overall R^2:\n",
      "0.5282873581794292\n"
     ]
    }
   ],
   "source": [
    "# Working with the European Social Survey data again.\n",
    "df = pd.read_csv((\n",
    "    \"https://raw.githubusercontent.com/Thinkful-Ed/data-201-resources/\"\n",
    "    \"master/ESS_practice_data/ESSdata_Thinkful.csv\")).dropna()\n",
    "\n",
    "# Define outcome and predictors.\n",
    "y = df['happy']\n",
    "X = df.loc[:, ~df.columns.isin(['happy', 'cntry'])]\n",
    "\n",
    "# Make the categorical variable 'country' into dummies.\n",
    "X = pd.concat([X, pd.get_dummies(df['cntry'])], axis=1)\n",
    "\n",
    "# Store values from loops.\n",
    "preds = pd.DataFrame()\n",
    "labels = []\n",
    "\n",
    "uniquex = df['happy'].unique()\n",
    "\n",
    "# Iterate through decision trees, each time using the residuals\n",
    "# from the previous tree as the inputs.\n",
    "for m in range(0, 101):\n",
    "    \n",
    "    # Initialize and fit the tree. Set the max depth to 2.\n",
    "    decision_tree = tree.DecisionTreeRegressor(max_depth=2)\n",
    "    decision_tree.fit(X,y)\n",
    "    \n",
    "    # Get and store predicted values.\n",
    "    pred = decision_tree.predict(X)\n",
    "    preds['pred{}'.format(m)] = pred\n",
    "    \n",
    "    # Residuals.\n",
    "    y = y - pred\n",
    "\n",
    "    # Output every 20 iterations.\n",
    "    if m % 20 == 0:\n",
    "        print('Weak learner {} R^2: {}'.format(m, decision_tree.score(X, y)))\n",
    "        labels = labels + [m]\n",
    "        bestpred = preds.sum(axis=1)\n",
    "        plt.plot(uniquex, np.poly1d(np.polyfit(df['happy'], bestpred, 1))(uniquex))\n",
    "       \n",
    "plt.legend(labels)\n",
    "plt.xlabel('Original')\n",
    "plt.ylabel('Predicted')\n",
    "plt.show()\n",
    "predicted = preds.sum(axis=1)\n",
    "\n",
    "print('Overall R^2:')\n",
    "# Pearson product-moment correlation\n",
    "print(np.corrcoef(df['happy'], predicted)[0, 1])"
   ]
  },
  {
   "cell_type": "code",
   "execution_count": 4,
   "metadata": {},
   "outputs": [
    {
     "data": {
      "text/html": [
       "<div>\n",
       "<style scoped>\n",
       "    .dataframe tbody tr th:only-of-type {\n",
       "        vertical-align: middle;\n",
       "    }\n",
       "\n",
       "    .dataframe tbody tr th {\n",
       "        vertical-align: top;\n",
       "    }\n",
       "\n",
       "    .dataframe thead th {\n",
       "        text-align: right;\n",
       "    }\n",
       "</style>\n",
       "<table border=\"1\" class=\"dataframe\">\n",
       "  <thead>\n",
       "    <tr style=\"text-align: right;\">\n",
       "      <th></th>\n",
       "      <th>pred0</th>\n",
       "      <th>pred1</th>\n",
       "      <th>pred2</th>\n",
       "      <th>pred3</th>\n",
       "      <th>pred4</th>\n",
       "      <th>pred5</th>\n",
       "      <th>pred6</th>\n",
       "      <th>pred7</th>\n",
       "      <th>pred8</th>\n",
       "      <th>pred9</th>\n",
       "      <th>...</th>\n",
       "      <th>pred91</th>\n",
       "      <th>pred92</th>\n",
       "      <th>pred93</th>\n",
       "      <th>pred94</th>\n",
       "      <th>pred95</th>\n",
       "      <th>pred96</th>\n",
       "      <th>pred97</th>\n",
       "      <th>pred98</th>\n",
       "      <th>pred99</th>\n",
       "      <th>pred100</th>\n",
       "    </tr>\n",
       "  </thead>\n",
       "  <tbody>\n",
       "    <tr>\n",
       "      <th>0</th>\n",
       "      <td>8.168311</td>\n",
       "      <td>0.013769</td>\n",
       "      <td>-0.029901</td>\n",
       "      <td>0.181363</td>\n",
       "      <td>0.104414</td>\n",
       "      <td>-0.030160</td>\n",
       "      <td>-0.120018</td>\n",
       "      <td>-0.013159</td>\n",
       "      <td>0.301909</td>\n",
       "      <td>-0.002564</td>\n",
       "      <td>...</td>\n",
       "      <td>-0.012236</td>\n",
       "      <td>0.015056</td>\n",
       "      <td>-0.012845</td>\n",
       "      <td>0.001085</td>\n",
       "      <td>-0.008118</td>\n",
       "      <td>0.002566</td>\n",
       "      <td>-0.010875</td>\n",
       "      <td>-0.001109</td>\n",
       "      <td>-0.202222</td>\n",
       "      <td>0.235428</td>\n",
       "    </tr>\n",
       "    <tr>\n",
       "      <th>1</th>\n",
       "      <td>7.633021</td>\n",
       "      <td>0.013769</td>\n",
       "      <td>-0.029901</td>\n",
       "      <td>0.181363</td>\n",
       "      <td>-0.235860</td>\n",
       "      <td>0.163699</td>\n",
       "      <td>-0.120018</td>\n",
       "      <td>-0.013159</td>\n",
       "      <td>-0.008157</td>\n",
       "      <td>-0.002564</td>\n",
       "      <td>...</td>\n",
       "      <td>-0.012236</td>\n",
       "      <td>0.015056</td>\n",
       "      <td>-0.012845</td>\n",
       "      <td>0.001085</td>\n",
       "      <td>0.074060</td>\n",
       "      <td>0.002566</td>\n",
       "      <td>-0.010875</td>\n",
       "      <td>-0.001109</td>\n",
       "      <td>-0.202222</td>\n",
       "      <td>0.235428</td>\n",
       "    </tr>\n",
       "    <tr>\n",
       "      <th>2</th>\n",
       "      <td>8.168311</td>\n",
       "      <td>0.198944</td>\n",
       "      <td>0.434040</td>\n",
       "      <td>0.520883</td>\n",
       "      <td>0.104414</td>\n",
       "      <td>-0.000255</td>\n",
       "      <td>0.136552</td>\n",
       "      <td>-0.013159</td>\n",
       "      <td>-0.008157</td>\n",
       "      <td>-0.183307</td>\n",
       "      <td>...</td>\n",
       "      <td>-0.012236</td>\n",
       "      <td>0.015056</td>\n",
       "      <td>-0.012845</td>\n",
       "      <td>0.001085</td>\n",
       "      <td>-0.008118</td>\n",
       "      <td>0.002566</td>\n",
       "      <td>0.044827</td>\n",
       "      <td>0.011030</td>\n",
       "      <td>-0.202222</td>\n",
       "      <td>0.235428</td>\n",
       "    </tr>\n",
       "    <tr>\n",
       "      <th>3</th>\n",
       "      <td>7.633021</td>\n",
       "      <td>0.389182</td>\n",
       "      <td>-0.029901</td>\n",
       "      <td>0.181363</td>\n",
       "      <td>-0.235860</td>\n",
       "      <td>0.163699</td>\n",
       "      <td>0.076182</td>\n",
       "      <td>-0.013159</td>\n",
       "      <td>-0.008157</td>\n",
       "      <td>-0.002564</td>\n",
       "      <td>...</td>\n",
       "      <td>-0.012236</td>\n",
       "      <td>0.015056</td>\n",
       "      <td>-0.012845</td>\n",
       "      <td>0.001085</td>\n",
       "      <td>-0.008118</td>\n",
       "      <td>0.002566</td>\n",
       "      <td>-0.010875</td>\n",
       "      <td>-0.001109</td>\n",
       "      <td>-0.001848</td>\n",
       "      <td>0.235428</td>\n",
       "    </tr>\n",
       "    <tr>\n",
       "      <th>4</th>\n",
       "      <td>7.633021</td>\n",
       "      <td>0.389182</td>\n",
       "      <td>-0.029901</td>\n",
       "      <td>0.181363</td>\n",
       "      <td>-0.235860</td>\n",
       "      <td>0.163699</td>\n",
       "      <td>-0.120018</td>\n",
       "      <td>-0.013159</td>\n",
       "      <td>-0.008157</td>\n",
       "      <td>0.096519</td>\n",
       "      <td>...</td>\n",
       "      <td>-0.012236</td>\n",
       "      <td>0.015056</td>\n",
       "      <td>-0.012845</td>\n",
       "      <td>0.001085</td>\n",
       "      <td>-0.008118</td>\n",
       "      <td>0.002566</td>\n",
       "      <td>-0.010875</td>\n",
       "      <td>-0.001109</td>\n",
       "      <td>-0.001848</td>\n",
       "      <td>0.235428</td>\n",
       "    </tr>\n",
       "  </tbody>\n",
       "</table>\n",
       "<p>5 rows × 101 columns</p>\n",
       "</div>"
      ],
      "text/plain": [
       "      pred0     pred1     pred2     pred3     pred4     pred5     pred6  \\\n",
       "0  8.168311  0.013769 -0.029901  0.181363  0.104414 -0.030160 -0.120018   \n",
       "1  7.633021  0.013769 -0.029901  0.181363 -0.235860  0.163699 -0.120018   \n",
       "2  8.168311  0.198944  0.434040  0.520883  0.104414 -0.000255  0.136552   \n",
       "3  7.633021  0.389182 -0.029901  0.181363 -0.235860  0.163699  0.076182   \n",
       "4  7.633021  0.389182 -0.029901  0.181363 -0.235860  0.163699 -0.120018   \n",
       "\n",
       "      pred7     pred8     pred9  ...    pred91    pred92    pred93    pred94  \\\n",
       "0 -0.013159  0.301909 -0.002564  ... -0.012236  0.015056 -0.012845  0.001085   \n",
       "1 -0.013159 -0.008157 -0.002564  ... -0.012236  0.015056 -0.012845  0.001085   \n",
       "2 -0.013159 -0.008157 -0.183307  ... -0.012236  0.015056 -0.012845  0.001085   \n",
       "3 -0.013159 -0.008157 -0.002564  ... -0.012236  0.015056 -0.012845  0.001085   \n",
       "4 -0.013159 -0.008157  0.096519  ... -0.012236  0.015056 -0.012845  0.001085   \n",
       "\n",
       "     pred95    pred96    pred97    pred98    pred99   pred100  \n",
       "0 -0.008118  0.002566 -0.010875 -0.001109 -0.202222  0.235428  \n",
       "1  0.074060  0.002566 -0.010875 -0.001109 -0.202222  0.235428  \n",
       "2 -0.008118  0.002566  0.044827  0.011030 -0.202222  0.235428  \n",
       "3 -0.008118  0.002566 -0.010875 -0.001109 -0.001848  0.235428  \n",
       "4 -0.008118  0.002566 -0.010875 -0.001109 -0.001848  0.235428  \n",
       "\n",
       "[5 rows x 101 columns]"
      ]
     },
     "execution_count": 4,
     "metadata": {},
     "output_type": "execute_result"
    }
   ],
   "source": [
    "preds.head()"
   ]
  },
  {
   "cell_type": "markdown",
   "metadata": {},
   "source": [
    "Looking at the sampling of individual model $R^2$, these are certainly 'weak learners'!  They perform very badly indeed.  Yet in aggregate, the models are able to explain nearly 53% of the variance in happiness in the dataset.  This is a great example of the power of gradient boosting.  You may also note from the plot that the greatest gains happened in the earliest models, with subsequent steps yielding smaller gains in explanatory power.\n",
    "\n",
    "But maybe we could do just as well with one big decision tree, rather than a bunch of small ones.  Let's try:"
   ]
  },
  {
   "cell_type": "code",
   "execution_count": 3,
   "metadata": {},
   "outputs": [
    {
     "name": "stdout",
     "output_type": "stream",
     "text": [
      "One strongish learner R^2: 0.06711108322936532\n"
     ]
    },
    {
     "ename": "InvocationException",
     "evalue": "GraphViz's executables not found",
     "output_type": "error",
     "traceback": [
      "\u001b[1;31m---------------------------------------------------------------------------\u001b[0m",
      "\u001b[1;31mInvocationException\u001b[0m                       Traceback (most recent call last)",
      "\u001b[1;32m<ipython-input-3-d1de24a99ce6>\u001b[0m in \u001b[0;36m<module>\u001b[1;34m\u001b[0m\n\u001b[0;32m     11\u001b[0m                                 filled=True) \n\u001b[0;32m     12\u001b[0m \u001b[0mgraph\u001b[0m \u001b[1;33m=\u001b[0m \u001b[0mpydotplus\u001b[0m\u001b[1;33m.\u001b[0m\u001b[0mgraph_from_dot_data\u001b[0m\u001b[1;33m(\u001b[0m\u001b[0mdot_data\u001b[0m\u001b[1;33m)\u001b[0m\u001b[1;33m\u001b[0m\u001b[1;33m\u001b[0m\u001b[0m\n\u001b[1;32m---> 13\u001b[1;33m \u001b[0mImage\u001b[0m\u001b[1;33m(\u001b[0m\u001b[0mgraph\u001b[0m\u001b[1;33m.\u001b[0m\u001b[0mcreate_png\u001b[0m\u001b[1;33m(\u001b[0m\u001b[1;33m)\u001b[0m\u001b[1;33m)\u001b[0m\u001b[1;33m\u001b[0m\u001b[1;33m\u001b[0m\u001b[0m\n\u001b[0m",
      "\u001b[1;32m~\\Anaconda3\\lib\\site-packages\\pydotplus\\graphviz.py\u001b[0m in \u001b[0;36m<lambda>\u001b[1;34m(f, prog)\u001b[0m\n\u001b[0;32m   1795\u001b[0m             self.__setattr__(\n\u001b[0;32m   1796\u001b[0m                 \u001b[1;34m'create_'\u001b[0m \u001b[1;33m+\u001b[0m \u001b[0mfrmt\u001b[0m\u001b[1;33m,\u001b[0m\u001b[1;33m\u001b[0m\u001b[1;33m\u001b[0m\u001b[0m\n\u001b[1;32m-> 1797\u001b[1;33m                 \u001b[1;32mlambda\u001b[0m \u001b[0mf\u001b[0m\u001b[1;33m=\u001b[0m\u001b[0mfrmt\u001b[0m\u001b[1;33m,\u001b[0m \u001b[0mprog\u001b[0m\u001b[1;33m=\u001b[0m\u001b[0mself\u001b[0m\u001b[1;33m.\u001b[0m\u001b[0mprog\u001b[0m\u001b[1;33m:\u001b[0m \u001b[0mself\u001b[0m\u001b[1;33m.\u001b[0m\u001b[0mcreate\u001b[0m\u001b[1;33m(\u001b[0m\u001b[0mformat\u001b[0m\u001b[1;33m=\u001b[0m\u001b[0mf\u001b[0m\u001b[1;33m,\u001b[0m \u001b[0mprog\u001b[0m\u001b[1;33m=\u001b[0m\u001b[0mprog\u001b[0m\u001b[1;33m)\u001b[0m\u001b[1;33m\u001b[0m\u001b[1;33m\u001b[0m\u001b[0m\n\u001b[0m\u001b[0;32m   1798\u001b[0m             )\n\u001b[0;32m   1799\u001b[0m             \u001b[0mf\u001b[0m \u001b[1;33m=\u001b[0m \u001b[0mself\u001b[0m\u001b[1;33m.\u001b[0m\u001b[0m__dict__\u001b[0m\u001b[1;33m[\u001b[0m\u001b[1;34m'create_'\u001b[0m \u001b[1;33m+\u001b[0m \u001b[0mfrmt\u001b[0m\u001b[1;33m]\u001b[0m\u001b[1;33m\u001b[0m\u001b[1;33m\u001b[0m\u001b[0m\n",
      "\u001b[1;32m~\\Anaconda3\\lib\\site-packages\\pydotplus\\graphviz.py\u001b[0m in \u001b[0;36mcreate\u001b[1;34m(self, prog, format)\u001b[0m\n\u001b[0;32m   1958\u001b[0m             \u001b[1;32mif\u001b[0m \u001b[0mself\u001b[0m\u001b[1;33m.\u001b[0m\u001b[0mprogs\u001b[0m \u001b[1;32mis\u001b[0m \u001b[1;32mNone\u001b[0m\u001b[1;33m:\u001b[0m\u001b[1;33m\u001b[0m\u001b[1;33m\u001b[0m\u001b[0m\n\u001b[0;32m   1959\u001b[0m                 raise InvocationException(\n\u001b[1;32m-> 1960\u001b[1;33m                     'GraphViz\\'s executables not found')\n\u001b[0m\u001b[0;32m   1961\u001b[0m \u001b[1;33m\u001b[0m\u001b[0m\n\u001b[0;32m   1962\u001b[0m         \u001b[1;32mif\u001b[0m \u001b[0mprog\u001b[0m \u001b[1;32mnot\u001b[0m \u001b[1;32min\u001b[0m \u001b[0mself\u001b[0m\u001b[1;33m.\u001b[0m\u001b[0mprogs\u001b[0m\u001b[1;33m:\u001b[0m\u001b[1;33m\u001b[0m\u001b[1;33m\u001b[0m\u001b[0m\n",
      "\u001b[1;31mInvocationException\u001b[0m: GraphViz's executables not found"
     ]
    }
   ],
   "source": [
    "# One big tree. Each node split will include at lest 2.5% of the total sample.\n",
    "decision_tree = tree.DecisionTreeRegressor(min_samples_split=.025)\n",
    "decision_tree.fit(X,y)\n",
    "\n",
    "#Get and store predicted values.\n",
    "pred = decision_tree.predict(X)\n",
    "print('One strongish learner R^2: {}'.format(decision_tree.score(X, y)))\n",
    "\n",
    "dot_data = tree.export_graphviz(decision_tree, out_file=None,\n",
    "                                feature_names=X.columns,  \n",
    "                                filled=True) \n",
    "graph = pydotplus.graph_from_dot_data(dot_data) \n",
    "Image(graph.create_png())  "
   ]
  },
  {
   "cell_type": "markdown",
   "metadata": {},
   "source": [
    "Well that didn't work at all.  Gradient boosting with weak learners was nearly 10 times more effective as one complex decision tree.  In fact, in many instances gradient boosted decision trees perform better than random forests.  They are also less prone to overfitting than individual decision trees."
   ]
  },
  {
   "cell_type": "markdown",
   "metadata": {
    "collapsed": true
   },
   "source": [
    "### Overfitting\n",
    "\n",
    "Still, it is easy to see that the more iterations we run, the more likely we are to overfit.  Gradient boost comes with some methods to avoid overfitting.  Cross-validation will check for overfitting, but there are also methods that can be applied before using the test set that will reduce the likelihood of overfit.  \n",
    "\n",
    "One option is subsampling, where each iteration of the boost algorithm uses a subsample of the original data.  By introducing some randomness into the process, subsampling makes it harder to overfit.\n",
    "\n",
    "Another option is shrinkage, which we have encountered before in ridge regression.  Here, the shrinkage/regularization parameter reduces the impact of subsequent iterations on the final solution.  Visually, you can picture this parameter, called the \"learning rate\", causing each \"step\" along the loss function gradient to be a little smaller than the previous one.  This prevents any one iteration from being too influential and misdirecting the overall boost solution.  Learning rates vary between 0 (only the initial iteration matters) to 1 (all iterations are weighted equally).  A model made up of many small steps is less prone to overfitting than a model made up of few large steps, but it can also lead to much slower running times, depending on the stopping rule in play.\n",
    "\n",
    "In the next assignment, we'll try gradient boosting using the SKLearn package, which comes with all sorts of helpful features for getting the most out of gradient boost."
   ]
  }
 ],
 "metadata": {
  "hide_input": false,
  "kernelspec": {
   "display_name": "Python 3",
   "language": "python",
   "name": "python3"
  },
  "language_info": {
   "codemirror_mode": {
    "name": "ipython",
    "version": 3
   },
   "file_extension": ".py",
   "mimetype": "text/x-python",
   "name": "python",
   "nbconvert_exporter": "python",
   "pygments_lexer": "ipython3",
   "version": "3.7.3"
  },
  "toc": {
   "colors": {
    "hover_highlight": "#DAA520",
    "running_highlight": "#FF0000",
    "selected_highlight": "#FFD700"
   },
   "moveMenuLeft": true,
   "nav_menu": {
    "height": "78px",
    "width": "252px"
   },
   "navigate_menu": true,
   "number_sections": true,
   "sideBar": true,
   "threshold": 4,
   "toc_cell": false,
   "toc_section_display": "block",
   "toc_window_display": false
  }
 },
 "nbformat": 4,
 "nbformat_minor": 2
}

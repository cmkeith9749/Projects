{
 "cells": [
  {
   "cell_type": "markdown",
   "metadata": {},
   "source": [
    "#### Imports<a name=\"imports\"></a>"
   ]
  },
  {
   "cell_type": "code",
   "execution_count": 1,
   "metadata": {},
   "outputs": [],
   "source": [
    "import pandas as pd\n",
    "import numpy as np"
   ]
  },
  {
   "cell_type": "code",
   "execution_count": 6,
   "metadata": {},
   "outputs": [],
   "source": [
    "import seaborn as sns\n",
    "import matplotlib.pyplot as plt\n",
    "%matplotlib inline"
   ]
  },
  {
   "cell_type": "code",
   "execution_count": 2,
   "metadata": {},
   "outputs": [],
   "source": [
    "# sklearn regressor\n",
    "from sklearn.pipeline import Pipeline\n",
    "from sklearn.preprocessing import label_binarize\n",
    "from sklearn.compose import ColumnTransformer\n",
    "from sklearn.pipeline import Pipeline\n",
    "from sklearn.impute import SimpleImputer\n",
    "from sklearn.preprocessing import StandardScaler\n",
    "from sklearn.linear_model import LogisticRegression\n",
    "from sklearn.svm import SVR\n",
    "from sklearn.model_selection import train_test_split, GridSearchCV"
   ]
  },
  {
   "cell_type": "markdown",
   "metadata": {},
   "source": [
    "### Housing Prices with Ames Data Set\n",
    "\n",
    "1. [Imports](#imports)\n",
    "2. [Data](#data)\n",
    "3. [Exploratory Analysis](#explore)   \n",
    "4. [Data Cleaning](#clean)\n",
    "5. [Feature Engineering](#engineer)\n",
    "6. [Algorithm Selection](#select)\n",
    "6. [Hyperparameter Tuning](#tune)\n",
    "7. [Model Training](#train)"
   ]
  },
  {
   "cell_type": "markdown",
   "metadata": {},
   "source": [
    "#### Exploratory Analysis\n",
    "\n",
    "Start with Basics\n",
    "\n",
    "Context of Data\n",
    "\n",
    "Plot Numerical Distributions\n",
    "\n",
    "Plot Categorical Distributions\n",
    "\n",
    "Plot Segmentations\n",
    "\n",
    "Study Correlations"
   ]
  },
  {
   "cell_type": "code",
   "execution_count": 6,
   "metadata": {},
   "outputs": [],
   "source": [
    "dct = {'mssub':'sub', 'mszoning':'znng', 'mssub':'sub', '1st':'frst', '2nd':'scnd','exterior2nd':'extr_scnd',\n",
    "      'exter':'extr', }\n",
    "df.columns = [label_uncap_split(col,dct) for col in df.columns]"
   ]
  },
  {
   "cell_type": "code",
   "execution_count": 7,
   "metadata": {},
   "outputs": [
    {
     "data": {
      "text/plain": [
       "Index(['id', 'sub_class', 'znng', 'lot_frontage', 'lot_area', 'street',\n",
       "       'alley', 'lot_shape', 'land_contour', 'utilities', 'lot_config',\n",
       "       'land_slope', 'neighborhood', 'condition1', 'condition2', 'bldg_type',\n",
       "       'house_style', 'overall_qual', 'overall_cond', 'year_built',\n",
       "       'year_remod_add', 'roof_style', 'roof_matl', 'exterior1st',\n",
       "       'exterior2nd', 'mas_vnr_type', 'mas_vnr_area', 'exter_qual',\n",
       "       'exter_cond', 'foundation', 'bsmt_qual', 'bsmt_cond', 'bsmt_exposure',\n",
       "       'bsmt_fin_type1', 'bsmt_fin_sf1', 'bsmt_fin_type2', 'bsmt_fin_sf2',\n",
       "       'bsmt_unf_sf', 'total_bsmt_sf', 'heating', 'heating_qc', 'central_air',\n",
       "       'electrical', '1st_flr_sf', '2nd_flr_sf', 'low_qual_fin_sf',\n",
       "       'gr_liv_area', 'bsmt_full_bath', 'bsmt_half_bath', 'full_bath',\n",
       "       'half_bath', 'bedroom_abv_gr', 'kitchen_abv_gr', 'kitchen_qual',\n",
       "       'tot_rms_abv_grd', 'functional', 'fireplaces', 'fireplace_qu',\n",
       "       'garage_type', 'garage_yr_blt', 'garage_finish', 'garage_cars',\n",
       "       'garage_area', 'garage_qual', 'garage_cond', 'paved_drive',\n",
       "       'wood_deck_sf', 'open_porch_sf', 'enclosed_porch', '3ssn_porch',\n",
       "       'screen_porch', 'pool_area', 'pool_qc', 'fence', 'misc_feature',\n",
       "       'misc_val', 'mo_sold', 'yr_sold', 'sale_type', 'sale_condition',\n",
       "       'sale_price'],\n",
       "      dtype='object')"
      ]
     },
     "execution_count": 7,
     "metadata": {},
     "output_type": "execute_result"
    }
   ],
   "source": [
    "df.columns"
   ]
  },
  {
   "cell_type": "markdown",
   "metadata": {},
   "source": [
    "### Data<a name=\"data\"></a>"
   ]
  },
  {
   "cell_type": "code",
   "execution_count": 3,
   "metadata": {},
   "outputs": [
    {
     "data": {
      "text/html": [
       "<div>\n",
       "<style scoped>\n",
       "    .dataframe tbody tr th:only-of-type {\n",
       "        vertical-align: middle;\n",
       "    }\n",
       "\n",
       "    .dataframe tbody tr th {\n",
       "        vertical-align: top;\n",
       "    }\n",
       "\n",
       "    .dataframe thead th {\n",
       "        text-align: right;\n",
       "    }\n",
       "</style>\n",
       "<table border=\"1\" class=\"dataframe\">\n",
       "  <thead>\n",
       "    <tr style=\"text-align: right;\">\n",
       "      <th></th>\n",
       "      <th>Id</th>\n",
       "      <th>MSSubClass</th>\n",
       "      <th>MSZoning</th>\n",
       "      <th>LotFrontage</th>\n",
       "      <th>LotArea</th>\n",
       "      <th>Street</th>\n",
       "      <th>Alley</th>\n",
       "      <th>LotShape</th>\n",
       "      <th>LandContour</th>\n",
       "      <th>Utilities</th>\n",
       "      <th>...</th>\n",
       "      <th>PoolArea</th>\n",
       "      <th>PoolQC</th>\n",
       "      <th>Fence</th>\n",
       "      <th>MiscFeature</th>\n",
       "      <th>MiscVal</th>\n",
       "      <th>MoSold</th>\n",
       "      <th>YrSold</th>\n",
       "      <th>SaleType</th>\n",
       "      <th>SaleCondition</th>\n",
       "      <th>SalePrice</th>\n",
       "    </tr>\n",
       "  </thead>\n",
       "  <tbody>\n",
       "    <tr>\n",
       "      <th>0</th>\n",
       "      <td>1</td>\n",
       "      <td>60</td>\n",
       "      <td>RL</td>\n",
       "      <td>65.0</td>\n",
       "      <td>8450</td>\n",
       "      <td>Pave</td>\n",
       "      <td>NaN</td>\n",
       "      <td>Reg</td>\n",
       "      <td>Lvl</td>\n",
       "      <td>AllPub</td>\n",
       "      <td>...</td>\n",
       "      <td>0</td>\n",
       "      <td>NaN</td>\n",
       "      <td>NaN</td>\n",
       "      <td>NaN</td>\n",
       "      <td>0</td>\n",
       "      <td>2</td>\n",
       "      <td>2008</td>\n",
       "      <td>WD</td>\n",
       "      <td>Normal</td>\n",
       "      <td>208500</td>\n",
       "    </tr>\n",
       "    <tr>\n",
       "      <th>1</th>\n",
       "      <td>2</td>\n",
       "      <td>20</td>\n",
       "      <td>RL</td>\n",
       "      <td>80.0</td>\n",
       "      <td>9600</td>\n",
       "      <td>Pave</td>\n",
       "      <td>NaN</td>\n",
       "      <td>Reg</td>\n",
       "      <td>Lvl</td>\n",
       "      <td>AllPub</td>\n",
       "      <td>...</td>\n",
       "      <td>0</td>\n",
       "      <td>NaN</td>\n",
       "      <td>NaN</td>\n",
       "      <td>NaN</td>\n",
       "      <td>0</td>\n",
       "      <td>5</td>\n",
       "      <td>2007</td>\n",
       "      <td>WD</td>\n",
       "      <td>Normal</td>\n",
       "      <td>181500</td>\n",
       "    </tr>\n",
       "    <tr>\n",
       "      <th>2</th>\n",
       "      <td>3</td>\n",
       "      <td>60</td>\n",
       "      <td>RL</td>\n",
       "      <td>68.0</td>\n",
       "      <td>11250</td>\n",
       "      <td>Pave</td>\n",
       "      <td>NaN</td>\n",
       "      <td>IR1</td>\n",
       "      <td>Lvl</td>\n",
       "      <td>AllPub</td>\n",
       "      <td>...</td>\n",
       "      <td>0</td>\n",
       "      <td>NaN</td>\n",
       "      <td>NaN</td>\n",
       "      <td>NaN</td>\n",
       "      <td>0</td>\n",
       "      <td>9</td>\n",
       "      <td>2008</td>\n",
       "      <td>WD</td>\n",
       "      <td>Normal</td>\n",
       "      <td>223500</td>\n",
       "    </tr>\n",
       "    <tr>\n",
       "      <th>3</th>\n",
       "      <td>4</td>\n",
       "      <td>70</td>\n",
       "      <td>RL</td>\n",
       "      <td>60.0</td>\n",
       "      <td>9550</td>\n",
       "      <td>Pave</td>\n",
       "      <td>NaN</td>\n",
       "      <td>IR1</td>\n",
       "      <td>Lvl</td>\n",
       "      <td>AllPub</td>\n",
       "      <td>...</td>\n",
       "      <td>0</td>\n",
       "      <td>NaN</td>\n",
       "      <td>NaN</td>\n",
       "      <td>NaN</td>\n",
       "      <td>0</td>\n",
       "      <td>2</td>\n",
       "      <td>2006</td>\n",
       "      <td>WD</td>\n",
       "      <td>Abnorml</td>\n",
       "      <td>140000</td>\n",
       "    </tr>\n",
       "    <tr>\n",
       "      <th>4</th>\n",
       "      <td>5</td>\n",
       "      <td>60</td>\n",
       "      <td>RL</td>\n",
       "      <td>84.0</td>\n",
       "      <td>14260</td>\n",
       "      <td>Pave</td>\n",
       "      <td>NaN</td>\n",
       "      <td>IR1</td>\n",
       "      <td>Lvl</td>\n",
       "      <td>AllPub</td>\n",
       "      <td>...</td>\n",
       "      <td>0</td>\n",
       "      <td>NaN</td>\n",
       "      <td>NaN</td>\n",
       "      <td>NaN</td>\n",
       "      <td>0</td>\n",
       "      <td>12</td>\n",
       "      <td>2008</td>\n",
       "      <td>WD</td>\n",
       "      <td>Normal</td>\n",
       "      <td>250000</td>\n",
       "    </tr>\n",
       "  </tbody>\n",
       "</table>\n",
       "<p>5 rows × 81 columns</p>\n",
       "</div>"
      ],
      "text/plain": [
       "   Id  MSSubClass MSZoning  LotFrontage  LotArea Street Alley LotShape  \\\n",
       "0   1          60       RL         65.0     8450   Pave   NaN      Reg   \n",
       "1   2          20       RL         80.0     9600   Pave   NaN      Reg   \n",
       "2   3          60       RL         68.0    11250   Pave   NaN      IR1   \n",
       "3   4          70       RL         60.0     9550   Pave   NaN      IR1   \n",
       "4   5          60       RL         84.0    14260   Pave   NaN      IR1   \n",
       "\n",
       "  LandContour Utilities  ... PoolArea PoolQC Fence MiscFeature MiscVal MoSold  \\\n",
       "0         Lvl    AllPub  ...        0    NaN   NaN         NaN       0      2   \n",
       "1         Lvl    AllPub  ...        0    NaN   NaN         NaN       0      5   \n",
       "2         Lvl    AllPub  ...        0    NaN   NaN         NaN       0      9   \n",
       "3         Lvl    AllPub  ...        0    NaN   NaN         NaN       0      2   \n",
       "4         Lvl    AllPub  ...        0    NaN   NaN         NaN       0     12   \n",
       "\n",
       "  YrSold  SaleType  SaleCondition  SalePrice  \n",
       "0   2008        WD         Normal     208500  \n",
       "1   2007        WD         Normal     181500  \n",
       "2   2008        WD         Normal     223500  \n",
       "3   2006        WD        Abnorml     140000  \n",
       "4   2008        WD         Normal     250000  \n",
       "\n",
       "[5 rows x 81 columns]"
      ]
     },
     "execution_count": 3,
     "metadata": {},
     "output_type": "execute_result"
    }
   ],
   "source": [
    "file = 'AmesHousing/Data/train.csv'\n",
    "df = pd.read_csv(file) \n",
    "df.head()"
   ]
  },
  {
   "cell_type": "code",
   "execution_count": 12,
   "metadata": {},
   "outputs": [],
   "source": [
    "#df.columns\n",
    "#df.dtypes\n",
    "#df.describe()\n",
    "#uniq = {col:len(df[col].unique()) for col in df if col in col_obj}\n",
    "#df.loc[np.where(df.mas_vnr_area.isna())]"
   ]
  },
  {
   "cell_type": "code",
   "execution_count": 7,
   "metadata": {},
   "outputs": [],
   "source": [
    "# remove nan for plotting\n",
    "col_obj = [col for col in dfn if pd.api.types.is_object_dtype(dfn[col])]\n",
    "col_num = [col for col in dfn if not col in col_obj]\n",
    "col_nan = [col for col in dfn if dfn[col].isna().any()]\n",
    "col_onn =  set(col_obj) & set(col_nan)\n",
    "col_fnn =  set(col_num) & set(col_nan)\n",
    "col_nnn =  set(col_nan) - set(col_onn)\n",
    "for col in col_obj:\n",
    "    dfn[col] = dfn[col].fillna('NA')\n",
    "for col in col_fnn:\n",
    "    dfn[col] = dfn[col].fillna(0)"
   ]
  },
  {
   "cell_type": "code",
   "execution_count": 8,
   "metadata": {},
   "outputs": [
    {
     "data": {
      "image/png": "[encoded data removed]",
      "text/plain": [
       "<Figure size 1080x432 with 1 Axes>"
      ]
     },
     "metadata": {
      "needs_background": "light"
     },
     "output_type": "display_data"
    }
   ],
   "source": [
    "f, ax = plt.subplots(figsize=(15,6))\n",
    "sns.distplot(df.SalePrice, color=\"b\", kde = False,  ax=ax)\n",
    "plt.show()"
   ]
  },
  {
   "cell_type": "markdown",
   "metadata": {},
   "source": [
    "#### Exploratory Analysis<a name=\"explore\"></a>\n",
    "*Context of Data*\n",
    "\n",
    "*Start with Basics*\n",
    "- object data type features all have ok number of unique values\n",
    "- NaN values are where home does not have feature such as pool_area for homes with no pool\n",
    "\n",
    "\n",
    "Plot Numerical Distributions\n",
    "\n",
    "Plot Categorical Distributions\n",
    "\n",
    "Plot Segmentations\n",
    "\n",
    "Study Correlations\n"
   ]
  },
  {
   "cell_type": "code",
   "execution_count": 8,
   "metadata": {},
   "outputs": [],
   "source": [
    "plot1 = [col for col in col_obj if (len(dfn[col].unique()) <= 8)]\n",
    "plot2 = [col for col in col_obj if (len(dfn[col].unique()) > 8)]\n",
    "plot2 = ['condition1', 'exterior1st', 'exterior2nd', 'sale_type']"
   ]
  },
  {
   "cell_type": "code",
   "execution_count": null,
   "metadata": {},
   "outputs": [],
   "source": [
    "cols = 1\n",
    "rows = len(plot2) // cols \n",
    "fig, axs = plt.subplots(rows, cols, sharex='col', sharey='row', figsize=(16, rows * 5))\n",
    "\n",
    "for i in range( rows ):\n",
    "        sns.barplot(x=plot2[i], y=\"sale_price\", data=dfn, ax=axs[i])     \n",
    "plt.show()"
   ]
  },
  {
   "cell_type": "code",
   "execution_count": null,
   "metadata": {},
   "outputs": [],
   "source": [
    "cols = 2\n",
    "rows = len(plot1) // cols \n",
    "fig, axs = plt.subplots(rows, cols, sharex='col', sharey='row', figsize=(16, rows * 4))\n",
    "i = 0\n",
    "for x in range(rows):\n",
    "    for y in range(cols):\n",
    "        sns.barplot(x=plot1[i], y=\"sale_price\", data=dfn, ax=axs[x][y])     \n",
    "        i += 1\n",
    "plt.show()"
   ]
  },
  {
   "cell_type": "code",
   "execution_count": null,
   "metadata": {},
   "outputs": [],
   "source": [
    "#uniq = {col:len(dfn[col].unique()) for col in dfn if col in col_obj}\n",
    "#dfn.loc[np.where(dfn.mas_vnr_area.isna())]\n"
   ]
  },
  {
   "cell_type": "code",
   "execution_count": null,
   "metadata": {},
   "outputs": [],
   "source": [
    "f, ax = plt.subplots(figsize=(16, 24))\n",
    "sns.barplot(x=\"sale_price\", y='neighborhood', data=dfn, orient='h', ax=ax)  \n",
    "plt.show()"
   ]
  },
  {
   "cell_type": "markdown",
   "metadata": {},
   "source": [
    "#### Data Cleaning<a name=\"clean\"></a>\n",
    " - Remove Unwanted observations\n",
    " - Fix Structural Errors\n",
    " - Filter Unwanted Outliers\n",
    " - Handle Missing Data"
   ]
  },
  {
   "cell_type": "code",
   "execution_count": null,
   "metadata": {},
   "outputs": [],
   "source": [
    "df = df.drop('Id', axis=1)"
   ]
  },
  {
   "cell_type": "code",
   "execution_count": null,
   "metadata": {},
   "outputs": [],
   "source": [
    "col_obj = [col for col in dfn if pd.api.types.is_object_dtype(dfn[col])]\n",
    "col_num = [col for col in dfn if not col in col_obj]\n",
    "col_nan = [col for col in dfn if dfn[col].isna().any()]\n",
    "col_onn =  set(col_obj) & set(col_nan)\n",
    "col_fnn =  set(col_num) & set(col_nan)\n",
    "col_nnn =  set(col_nan) - set(col_onn)\n",
    "for col in col_obj:\n",
    "    dfn[col] = dfn[col].fillna('NA')\n",
    "for col in col_fnn:\n",
    "    dfn[col] = dfn[col].fillna(0)"
   ]
  },
  {
   "cell_type": "markdown",
   "metadata": {},
   "source": [
    "#### Feature Engineering<a name=\"engineer\"></a>\n",
    " **transform target**\n",
    "\n",
    " \n",
    "**Infuse Domain Knowledge**\n",
    "\n",
    "**Create Interaction Features**\n",
    " \n",
    "**Combine Sparse Classes**\n",
    "\n",
    "**Add Dummy Variables**\n",
    "\n",
    "\n",
    "**Remove Unused Features**"
   ]
  },
  {
   "cell_type": "markdown",
   "metadata": {},
   "source": [
    "#### Algorithm Selection <a name=\"select\"></a>"
   ]
  },
  {
   "cell_type": "markdown",
   "metadata": {},
   "source": [
    "#### Hyperparameter Selection<a name=\"tune\"></a>\n"
   ]
  },
  {
   "cell_type": "markdown",
   "metadata": {},
   "source": [
    "#### Model Training<a name=\"train\"></a>"
   ]
  },
  {
   "cell_type": "code",
   "execution_count": null,
   "metadata": {},
   "outputs": [],
   "source": [
    "df1.tail()"
   ]
  },
  {
   "cell_type": "code",
   "execution_count": null,
   "metadata": {},
   "outputs": [],
   "source": [
    "df1.baths = df1.baths * 2  + df1.halfbath\n",
    "df1.flrsf = df1.flrsf + df1.twofloor\n",
    "df1.drop(['twofloor', 'halfbath', 'functional',], axis=1, inplace=True)"
   ]
  },
  {
   "cell_type": "code",
   "execution_count": 4,
   "metadata": {},
   "outputs": [],
   "source": [
    "def label_uncap_split (string, dict):\n",
    "    S = []   \n",
    "    for (i,c) in enumerate(string): \n",
    "        if not i:\n",
    "            sub = c.lower(); c = ''; prv_upr = True\n",
    "        else:\n",
    "            if c.isupper():\n",
    "                    if prv_upr:\n",
    "                        prv_upr = True\n",
    "                    else:\n",
    "                        S.append(sub); sub = c.lower() ; c = ''; prv_upr = True\n",
    "            else:\n",
    "                prv_upr = False                \n",
    "            sub += c.lower()\n",
    "        if (i + 1 == len(string)):  \n",
    "            S.append(sub)\n",
    "        for (i, s) in enumerate(S):\n",
    "            if s in dict:\n",
    "                S[i] = dict[s]     \n",
    "    return '_'.join(S)\n"
   ]
  },
  {
   "cell_type": "code",
   "execution_count": null,
   "metadata": {},
   "outputs": [],
   "source": [
    "dct_exd = {'TA':3, 'Gd':4, 'Fa':2, 'Po':1, 'Ex':5}\n",
    "#dct_fcl = {'Sal':0,'Sev':25,'Maj2':50,'Maj1':65,'Mod':80,'Min2':90,'Min1':95,'Typ':100}\n",
    "dct_nbd = {hood:i for (i,hood) in enumerate(df1.groupby('neighborhood').saleprice.mean().sort_values().index)}\n",
    "dct_mss = {subclass:i for (i,subclass) in enumerate(df1.groupby('mssubclass').saleprice.mean().sort_values().index)}"
   ]
  },
  {
   "cell_type": "code",
   "execution_count": null,
   "metadata": {},
   "outputs": [],
   "source": [
    "df1.extercond = df1.extercond.map( dct_exd) \n",
    "#df1.functional = df1.functional.map( dct_fcl)\n",
    "df1.neighborhood = df1.neighborhood.map( dct_nbd)\n",
    "df1.mssubclass = df1.mssubclass.map(dct_mss)"
   ]
  },
  {
   "cell_type": "code",
   "execution_count": null,
   "metadata": {},
   "outputs": [],
   "source": [
    "# dff only has features\n",
    "dff = df1.iloc[:,:-1]\n",
    "#dfj\n",
    "jitter = pd.DataFrame(np.random.uniform(-.3, .3, size=(dff.shape)), columns=dff.columns)\n",
    "dfj = dff.add(jitter)\n",
    "dfj.head()"
   ]
  },
  {
   "cell_type": "code",
   "execution_count": null,
   "metadata": {},
   "outputs": [],
   "source": [
    "dff = dff.astype(float)"
   ]
  },
  {
   "cell_type": "code",
   "execution_count": null,
   "metadata": {},
   "outputs": [],
   "source": [
    "corr1 = dff.corr()\n",
    "print(corr1)\n",
    "f, ax = plt.subplots(figsize=(15, 12))\n",
    "sns.heatmap(corr1, vmax=.8, square=True)\n",
    "plt.show()"
   ]
  },
  {
   "cell_type": "code",
   "execution_count": null,
   "metadata": {},
   "outputs": [],
   "source": [
    "# x is features values and y is target values\n",
    "x = dff.values; y = df1.saleprice.values\n",
    "x = StandardScaler().fit_transform(x)\n",
    "pca = PCA(n_components=5)\n",
    "pcomps = pca.fit_transform(x)\n",
    "np.sum(pca.explained_variance_ratio_)"
   ]
  },
  {
   "cell_type": "code",
   "execution_count": null,
   "metadata": {},
   "outputs": [],
   "source": [
    "pcs = pd.DataFrame(data = pcomps, columns = ['pca' + str(i) for i in range(1,6)])\n",
    "psf = pd.concat([pcs, df1.saleprice], axis = 1)\n",
    "psf.head()"
   ]
  },
  {
   "cell_type": "code",
   "execution_count": null,
   "metadata": {},
   "outputs": [],
   "source": [
    "price_range = [int(np.percentile(df1.saleprice, i)) for i in range(0,110,10)]\n",
    "psf['price_cat']   = pd.cut(df1.saleprice, price_range, labels=False, include_lowest=True)"
   ]
  },
  {
   "cell_type": "code",
   "execution_count": null,
   "metadata": {},
   "outputs": [],
   "source": [
    "g = sns.PairGrid(data=psf, vars=['pc1', 'pc2', 'pc3', 'pc4', 'pc5'], hue=\"price_cat\", palette=\"muted\" )\n",
    "g = g.map(plt.scatter)\n",
    "g.add_legend()\n",
    "plt.show()\n",
    "\n"
   ]
  },
  {
   "cell_type": "code",
   "execution_count": null,
   "metadata": {},
   "outputs": [],
   "source": [
    "f, ax = plt.subplots(figsize=(12, 9)) \n",
    "ax = sns.scatterplot(x=\"pc1\", y=\"pc2\",  hue=\"price_cat\",  data=psf)\n",
    "plt.show()"
   ]
  },
  {
   "cell_type": "code",
   "execution_count": null,
   "metadata": {},
   "outputs": [],
   "source": [
    "f, ax = plt.subplots(figsize=(12, 9)) \n",
    "ax = sns.scatterplot(x=\"pc3\", y=\"pc4\", hue=\"price_cat\",  data=psf)\n",
    "plt.show()"
   ]
  },
  {
   "cell_type": "code",
   "execution_count": null,
   "metadata": {},
   "outputs": [],
   "source": [
    "f, ax = plt.subplots(figsize=(12, 9)) \n",
    "ax = sns.scatterplot(x=\"pc1\", y=\"pc5\", hue=\"price_cat\",  data=psf)\n",
    "plt.show()"
   ]
  },
  {
   "cell_type": "code",
   "execution_count": null,
   "metadata": {},
   "outputs": [],
   "source": [
    "# x is features values and y is target values\n",
    "x = dff.values; y = df1.saleprice.values\n",
    "x = StandardScaler().fit_transform(x)\n",
    "pca = PCA(0.90)\n",
    "\n"
   ]
  },
  {
   "cell_type": "code",
   "execution_count": null,
   "metadata": {},
   "outputs": [],
   "source": [
    "pcomps = pca.fit_transform(x)\n",
    "pcs2 = pd.DataFrame(data = pcomps, columns = ['pc' + str(i) for i in range(1,n + 1)])\n",
    "psf2 = pd.concat([pcs, df1.saleprice], axis = 1)\n",
    "psf.head()"
   ]
  }
 ],
 "metadata": {
  "kernelspec": {
   "display_name": "Python 3",
   "language": "python",
   "name": "python3"
  },
  "language_info": {
   "codemirror_mode": {
    "name": "ipython",
    "version": 3
   },
   "file_extension": ".py",
   "mimetype": "text/x-python",
   "name": "python",
   "nbconvert_exporter": "python",
   "pygments_lexer": "ipython3",
   "version": "3.7.3"
  }
 },
 "nbformat": 4,
 "nbformat_minor": 2
}

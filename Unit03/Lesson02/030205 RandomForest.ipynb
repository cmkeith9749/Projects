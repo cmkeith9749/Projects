{
 "cells": [
  {
   "cell_type": "code",
   "execution_count": 1,
   "metadata": {
    "run_control": {
     "frozen": false,
     "read_only": false
    }
   },
   "outputs": [],
   "source": [
    "import pandas as pd\n",
    "import numpy as np\n",
    "import re\n",
    "import matplotlib.pyplot as plt\n",
    "%matplotlib inline\n",
    "import seaborn as sns"
   ]
  },
  {
   "cell_type": "markdown",
   "metadata": {},
   "source": [
    "## DRILL: Third Attempt\n",
    "\n",
    "So here's your task. Get rid of as much data as possible without dropping below an average of 90% accuracy in a 10-fold cross validation.\n",
    "\n",
    "You'll want to do a few things in this process. First, dive into the data that we have and see which features are most important. This can be the raw features or the generated dummies. You may want to use PCA or correlation matrices.\n",
    "\n",
    "Can you do it without using anything related to payment amount or outstanding principal? How do you know?"
   ]
  },
  {
   "cell_type": "code",
   "execution_count": 61,
   "metadata": {},
   "outputs": [],
   "source": [
    "df = pd.read_csv('data/y2015.csv', header=0)\n",
    "df = df.drop(df.columns[0], axis=1)\n",
    "\n",
    "df = df[:-2]\n",
    "#y2015.to_csv('data/y2015.csv')"
   ]
  },
  {
   "cell_type": "code",
   "execution_count": 62,
   "metadata": {},
   "outputs": [],
   "source": [
    "#drop0 = [label for label in df.columns if len(df[label].unique()) >= 100]\n",
    "#drop1 = ['grade', 'pymnt_plan', 'desc', 'addr_state', 'initial_list_status', 'next_pymnt_d', 'verification_status_joint'] \n",
    "#df = df.drop(drop0, axis=1)\n",
    "#df = df.drop(drop1, axis=1)"
   ]
  },
  {
   "cell_type": "code",
   "execution_count": 63,
   "metadata": {},
   "outputs": [],
   "source": [
    "col_nan = df.columns[np.where(df.isna().any())]\n",
    "col_flt = df.columns[np.where(df.dtypes == 'float64')]\n",
    "col_obt = df.columns[np.where(df.dtypes == 'object')]\n",
    "col_int = df.columns[np.where(df.dtypes == 'int64')]\n",
    "col_not = list(set(col_nan) & set(col_obt))\n",
    "col_fnn = list(set(col_flt) & set(col_nan))"
   ]
  },
  {
   "cell_type": "code",
   "execution_count": 64,
   "metadata": {},
   "outputs": [
    {
     "data": {
      "text/html": [
       "<div>\n",
       "<style scoped>\n",
       "    .dataframe tbody tr th:only-of-type {\n",
       "        vertical-align: middle;\n",
       "    }\n",
       "\n",
       "    .dataframe tbody tr th {\n",
       "        vertical-align: top;\n",
       "    }\n",
       "\n",
       "    .dataframe thead th {\n",
       "        text-align: right;\n",
       "    }\n",
       "</style>\n",
       "<table border=\"1\" class=\"dataframe\">\n",
       "  <thead>\n",
       "    <tr style=\"text-align: right;\">\n",
       "      <th></th>\n",
       "      <th>nans</th>\n",
       "      <th>unique</th>\n",
       "      <th>top</th>\n",
       "      <th>freq</th>\n",
       "    </tr>\n",
       "  </thead>\n",
       "  <tbody>\n",
       "    <tr>\n",
       "      <th>term</th>\n",
       "      <td>0</td>\n",
       "      <td>2</td>\n",
       "      <td>36 months</td>\n",
       "      <td>283172</td>\n",
       "    </tr>\n",
       "    <tr>\n",
       "      <th>int_rate</th>\n",
       "      <td>0</td>\n",
       "      <td>110</td>\n",
       "      <td>7.89%</td>\n",
       "      <td>20307</td>\n",
       "    </tr>\n",
       "    <tr>\n",
       "      <th>grade</th>\n",
       "      <td>0</td>\n",
       "      <td>7</td>\n",
       "      <td>C</td>\n",
       "      <td>120567</td>\n",
       "    </tr>\n",
       "    <tr>\n",
       "      <th>sub_grade</th>\n",
       "      <td>0</td>\n",
       "      <td>35</td>\n",
       "      <td>C1</td>\n",
       "      <td>26434</td>\n",
       "    </tr>\n",
       "    <tr>\n",
       "      <th>emp_title</th>\n",
       "      <td>23874</td>\n",
       "      <td>120811</td>\n",
       "      <td>Teacher</td>\n",
       "      <td>8070</td>\n",
       "    </tr>\n",
       "    <tr>\n",
       "      <th>emp_length</th>\n",
       "      <td>23817</td>\n",
       "      <td>11</td>\n",
       "      <td>10+ years</td>\n",
       "      <td>141520</td>\n",
       "    </tr>\n",
       "    <tr>\n",
       "      <th>home_ownership</th>\n",
       "      <td>0</td>\n",
       "      <td>4</td>\n",
       "      <td>MORTGAGE</td>\n",
       "      <td>207683</td>\n",
       "    </tr>\n",
       "    <tr>\n",
       "      <th>verification_status</th>\n",
       "      <td>0</td>\n",
       "      <td>3</td>\n",
       "      <td>Source Verified</td>\n",
       "      <td>179564</td>\n",
       "    </tr>\n",
       "    <tr>\n",
       "      <th>issue_d</th>\n",
       "      <td>0</td>\n",
       "      <td>12</td>\n",
       "      <td>Oct-2015</td>\n",
       "      <td>48631</td>\n",
       "    </tr>\n",
       "    <tr>\n",
       "      <th>loan_status</th>\n",
       "      <td>0</td>\n",
       "      <td>7</td>\n",
       "      <td>Current</td>\n",
       "      <td>287413</td>\n",
       "    </tr>\n",
       "    <tr>\n",
       "      <th>pymnt_plan</th>\n",
       "      <td>0</td>\n",
       "      <td>1</td>\n",
       "      <td>n</td>\n",
       "      <td>421093</td>\n",
       "    </tr>\n",
       "    <tr>\n",
       "      <th>url</th>\n",
       "      <td>0</td>\n",
       "      <td>421093</td>\n",
       "      <td>https://lendingclub.com/browse/loanDetail.acti...</td>\n",
       "      <td>1</td>\n",
       "    </tr>\n",
       "    <tr>\n",
       "      <th>desc</th>\n",
       "      <td>421048</td>\n",
       "      <td>34</td>\n",
       "      <td></td>\n",
       "      <td>12</td>\n",
       "    </tr>\n",
       "    <tr>\n",
       "      <th>purpose</th>\n",
       "      <td>0</td>\n",
       "      <td>14</td>\n",
       "      <td>debt_consolidation</td>\n",
       "      <td>250019</td>\n",
       "    </tr>\n",
       "    <tr>\n",
       "      <th>title</th>\n",
       "      <td>132</td>\n",
       "      <td>27</td>\n",
       "      <td>Debt consolidation</td>\n",
       "      <td>249925</td>\n",
       "    </tr>\n",
       "    <tr>\n",
       "      <th>zip_code</th>\n",
       "      <td>0</td>\n",
       "      <td>914</td>\n",
       "      <td>945xx</td>\n",
       "      <td>4466</td>\n",
       "    </tr>\n",
       "    <tr>\n",
       "      <th>addr_state</th>\n",
       "      <td>0</td>\n",
       "      <td>49</td>\n",
       "      <td>CA</td>\n",
       "      <td>58067</td>\n",
       "    </tr>\n",
       "    <tr>\n",
       "      <th>earliest_cr_line</th>\n",
       "      <td>0</td>\n",
       "      <td>668</td>\n",
       "      <td>Aug-2002</td>\n",
       "      <td>3235</td>\n",
       "    </tr>\n",
       "    <tr>\n",
       "      <th>revol_util</th>\n",
       "      <td>162</td>\n",
       "      <td>1211</td>\n",
       "      <td>0%</td>\n",
       "      <td>1256</td>\n",
       "    </tr>\n",
       "    <tr>\n",
       "      <th>initial_list_status</th>\n",
       "      <td>0</td>\n",
       "      <td>2</td>\n",
       "      <td>w</td>\n",
       "      <td>267251</td>\n",
       "    </tr>\n",
       "    <tr>\n",
       "      <th>last_pymnt_d</th>\n",
       "      <td>294</td>\n",
       "      <td>25</td>\n",
       "      <td>Jan-2017</td>\n",
       "      <td>261645</td>\n",
       "    </tr>\n",
       "    <tr>\n",
       "      <th>next_pymnt_d</th>\n",
       "      <td>117166</td>\n",
       "      <td>4</td>\n",
       "      <td>Feb-2017</td>\n",
       "      <td>262669</td>\n",
       "    </tr>\n",
       "    <tr>\n",
       "      <th>last_credit_pull_d</th>\n",
       "      <td>8</td>\n",
       "      <td>26</td>\n",
       "      <td>Jan-2017</td>\n",
       "      <td>354425</td>\n",
       "    </tr>\n",
       "    <tr>\n",
       "      <th>application_type</th>\n",
       "      <td>0</td>\n",
       "      <td>2</td>\n",
       "      <td>INDIVIDUAL</td>\n",
       "      <td>420582</td>\n",
       "    </tr>\n",
       "    <tr>\n",
       "      <th>verification_status_joint</th>\n",
       "      <td>420582</td>\n",
       "      <td>3</td>\n",
       "      <td>Not Verified</td>\n",
       "      <td>283</td>\n",
       "    </tr>\n",
       "  </tbody>\n",
       "</table>\n",
       "</div>"
      ],
      "text/plain": [
       "                             nans  unique  \\\n",
       "term                            0       2   \n",
       "int_rate                        0     110   \n",
       "grade                           0       7   \n",
       "sub_grade                       0      35   \n",
       "emp_title                   23874  120811   \n",
       "emp_length                  23817      11   \n",
       "home_ownership                  0       4   \n",
       "verification_status             0       3   \n",
       "issue_d                         0      12   \n",
       "loan_status                     0       7   \n",
       "pymnt_plan                      0       1   \n",
       "url                             0  421093   \n",
       "desc                       421048      34   \n",
       "purpose                         0      14   \n",
       "title                         132      27   \n",
       "zip_code                        0     914   \n",
       "addr_state                      0      49   \n",
       "earliest_cr_line                0     668   \n",
       "revol_util                    162    1211   \n",
       "initial_list_status             0       2   \n",
       "last_pymnt_d                  294      25   \n",
       "next_pymnt_d               117166       4   \n",
       "last_credit_pull_d              8      26   \n",
       "application_type                0       2   \n",
       "verification_status_joint  420582       3   \n",
       "\n",
       "                                                                         top  \\\n",
       "term                                                               36 months   \n",
       "int_rate                                                               7.89%   \n",
       "grade                                                                      C   \n",
       "sub_grade                                                                 C1   \n",
       "emp_title                                                            Teacher   \n",
       "emp_length                                                         10+ years   \n",
       "home_ownership                                                      MORTGAGE   \n",
       "verification_status                                          Source Verified   \n",
       "issue_d                                                             Oct-2015   \n",
       "loan_status                                                          Current   \n",
       "pymnt_plan                                                                 n   \n",
       "url                        https://lendingclub.com/browse/loanDetail.acti...   \n",
       "desc                                                                           \n",
       "purpose                                                   debt_consolidation   \n",
       "title                                                     Debt consolidation   \n",
       "zip_code                                                               945xx   \n",
       "addr_state                                                                CA   \n",
       "earliest_cr_line                                                    Aug-2002   \n",
       "revol_util                                                                0%   \n",
       "initial_list_status                                                        w   \n",
       "last_pymnt_d                                                        Jan-2017   \n",
       "next_pymnt_d                                                        Feb-2017   \n",
       "last_credit_pull_d                                                  Jan-2017   \n",
       "application_type                                                  INDIVIDUAL   \n",
       "verification_status_joint                                       Not Verified   \n",
       "\n",
       "                             freq  \n",
       "term                       283172  \n",
       "int_rate                    20307  \n",
       "grade                      120567  \n",
       "sub_grade                   26434  \n",
       "emp_title                    8070  \n",
       "emp_length                 141520  \n",
       "home_ownership             207683  \n",
       "verification_status        179564  \n",
       "issue_d                     48631  \n",
       "loan_status                287413  \n",
       "pymnt_plan                 421093  \n",
       "url                             1  \n",
       "desc                           12  \n",
       "purpose                    250019  \n",
       "title                      249925  \n",
       "zip_code                     4466  \n",
       "addr_state                  58067  \n",
       "earliest_cr_line             3235  \n",
       "revol_util                   1256  \n",
       "initial_list_status        267251  \n",
       "last_pymnt_d               261645  \n",
       "next_pymnt_d               262669  \n",
       "last_credit_pull_d         354425  \n",
       "application_type           420582  \n",
       "verification_status_joint     283  "
      ]
     },
     "execution_count": 64,
     "metadata": {},
     "output_type": "execute_result"
    }
   ],
   "source": [
    "A = pd.Series({col : len(np.asarray(getattr(df,col).isna()).nonzero()[0].tolist()) for col in col_obt})\n",
    "#B = pd.Series({col : df[col].describe()['count'] for col in col_obt})\n",
    "C = pd.Series({col : df[col].describe()['unique'] for col in col_obt})\n",
    "D = pd.Series({col : df[col].describe()['top'] for col in col_obt})\n",
    "E = pd.Series({col : df[col].describe()['freq'] for col in col_obt})\n",
    "df2 = pd.DataFrame([A,C, D, E]).T\n",
    "df2.columns = ['nans', 'unique', 'top', 'freq']\n",
    "df2"
   ]
  },
  {
   "cell_type": "code",
   "execution_count": null,
   "metadata": {},
   "outputs": [],
   "source": [
    "\n",
    "\n",
    "['emp_length'] # nan ==> 0\n",
    "['term','int_rate'] # re.sub non digits\n",
    "b = ['sub_grade', 'emp_length', 'application_type'] #specific dict transform\n",
    "c = ['home_ownership', 'loan_status', 'purpose', 'title'] #dict transform unranked\n",
    "d = ['issue_d', 'last_pymnt_d', 'last_credit_pull_d'] # time\n",
    "e = [ 'verification_status']# combine\n",
    "f = ['open_acc_6m']# nan\n",
    "\n",
    "drop0  = ['grade', 'emp_title', 'pymnt_plan', 'desc', 'addr_state', 'initial_list_status',\n",
    "          'next_pymnt_d', 'verification_status_joint'] "
   ]
  },
  {
   "cell_type": "code",
   "execution_count": 65,
   "metadata": {},
   "outputs": [
    {
     "data": {
      "text/plain": [
       "Index(['term', 'int_rate', 'grade', 'sub_grade', 'emp_title', 'emp_length',\n",
       "       'home_ownership', 'verification_status', 'issue_d', 'loan_status',\n",
       "       'pymnt_plan', 'url', 'desc', 'purpose', 'title', 'zip_code',\n",
       "       'addr_state', 'earliest_cr_line', 'revol_util', 'initial_list_status',\n",
       "       'last_pymnt_d', 'next_pymnt_d', 'last_credit_pull_d',\n",
       "       'application_type', 'verification_status_joint'],\n",
       "      dtype='object')"
      ]
     },
     "execution_count": 65,
     "metadata": {},
     "output_type": "execute_result"
    }
   ],
   "source": [
    "'term', 'int_rate', 'grade', 'sub_grade', 'emp_title', 'emp_length',\n",
    "       'home_ownership', 'verification_status', 'issue_d', 'loan_status',\n",
    "       'pymnt_plan', 'url', 'desc', 'purpose', 'title', 'zip_code',\n",
    "       'addr_state', 'earliest_cr_line', 'revol_util', 'initial_list_status',\n",
    "       'last_pymnt_d', 'next_pymnt_d', 'last_credit_pull_d',\n",
    "       'application_type', 'verification_status_joint'"
   ]
  },
  {
   "cell_type": "code",
   "execution_count": 55,
   "metadata": {},
   "outputs": [
    {
     "data": {
      "text/plain": [
       "420582"
      ]
     },
     "execution_count": 55,
     "metadata": {},
     "output_type": "execute_result"
    }
   ],
   "source": [
    "len(np.where(df.verification_status_joint.isna())[0])"
   ]
  },
  {
   "cell_type": "code",
   "execution_count": 58,
   "metadata": {},
   "outputs": [
    {
     "data": {
      "text/plain": [
       "(array([], dtype=int64),)"
      ]
     },
     "execution_count": 58,
     "metadata": {},
     "output_type": "execute_result"
    }
   ],
   "source": [
    "np.where(df.verification_status.isna())"
   ]
  },
  {
   "cell_type": "code",
   "execution_count": null,
   "metadata": {},
   "outputs": [],
   "source": [
    "[for lbl in col_fnn]"
   ]
  },
  {
   "cell_type": "code",
   "execution_count": null,
   "metadata": {},
   "outputs": [],
   "source": [
    "re.search(r'\\W+', '52.7%')"
   ]
  },
  {
   "cell_type": "code",
   "execution_count": 91,
   "metadata": {},
   "outputs": [
    {
     "ename": "TypeError",
     "evalue": "expected string or bytes-like object",
     "output_type": "error",
     "traceback": [
      "\u001b[1;31m---------------------------------------------------------------------------\u001b[0m",
      "\u001b[1;31mTypeError\u001b[0m                                 Traceback (most recent call last)",
      "\u001b[1;32m<ipython-input-91-ea0e9dec3577>\u001b[0m in \u001b[0;36m<module>\u001b[1;34m\u001b[0m\n\u001b[1;32m----> 1\u001b[1;33m \u001b[1;33m[\u001b[0m\u001b[0mstring\u001b[0m \u001b[1;32mfor\u001b[0m \u001b[0mstring\u001b[0m \u001b[1;32min\u001b[0m \u001b[0mdf\u001b[0m\u001b[1;33m.\u001b[0m\u001b[0mrevol_util\u001b[0m\u001b[1;33m.\u001b[0m\u001b[0munique\u001b[0m\u001b[1;33m(\u001b[0m\u001b[1;33m)\u001b[0m\u001b[1;33m.\u001b[0m\u001b[0mtolist\u001b[0m\u001b[1;33m(\u001b[0m\u001b[1;33m)\u001b[0m \u001b[1;32mif\u001b[0m \u001b[1;32mnot\u001b[0m \u001b[0mre\u001b[0m\u001b[1;33m.\u001b[0m\u001b[0msearch\u001b[0m\u001b[1;33m(\u001b[0m\u001b[1;34mr'\\W+'\u001b[0m\u001b[1;33m,\u001b[0m \u001b[0mstring\u001b[0m\u001b[1;33m)\u001b[0m\u001b[1;33m]\u001b[0m\u001b[1;33m\u001b[0m\u001b[1;33m\u001b[0m\u001b[0m\n\u001b[0m",
      "\u001b[1;32m<ipython-input-91-ea0e9dec3577>\u001b[0m in \u001b[0;36m<listcomp>\u001b[1;34m(.0)\u001b[0m\n\u001b[1;32m----> 1\u001b[1;33m \u001b[1;33m[\u001b[0m\u001b[0mstring\u001b[0m \u001b[1;32mfor\u001b[0m \u001b[0mstring\u001b[0m \u001b[1;32min\u001b[0m \u001b[0mdf\u001b[0m\u001b[1;33m.\u001b[0m\u001b[0mrevol_util\u001b[0m\u001b[1;33m.\u001b[0m\u001b[0munique\u001b[0m\u001b[1;33m(\u001b[0m\u001b[1;33m)\u001b[0m\u001b[1;33m.\u001b[0m\u001b[0mtolist\u001b[0m\u001b[1;33m(\u001b[0m\u001b[1;33m)\u001b[0m \u001b[1;32mif\u001b[0m \u001b[1;32mnot\u001b[0m \u001b[0mre\u001b[0m\u001b[1;33m.\u001b[0m\u001b[0msearch\u001b[0m\u001b[1;33m(\u001b[0m\u001b[1;34mr'\\W+'\u001b[0m\u001b[1;33m,\u001b[0m \u001b[0mstring\u001b[0m\u001b[1;33m)\u001b[0m\u001b[1;33m]\u001b[0m\u001b[1;33m\u001b[0m\u001b[1;33m\u001b[0m\u001b[0m\n\u001b[0m",
      "\u001b[1;32m~\\Anaconda3\\lib\\re.py\u001b[0m in \u001b[0;36msearch\u001b[1;34m(pattern, string, flags)\u001b[0m\n\u001b[0;32m    181\u001b[0m     \"\"\"Scan through string looking for a match to the pattern, returning\n\u001b[0;32m    182\u001b[0m     a Match object, or None if no match was found.\"\"\"\n\u001b[1;32m--> 183\u001b[1;33m     \u001b[1;32mreturn\u001b[0m \u001b[0m_compile\u001b[0m\u001b[1;33m(\u001b[0m\u001b[0mpattern\u001b[0m\u001b[1;33m,\u001b[0m \u001b[0mflags\u001b[0m\u001b[1;33m)\u001b[0m\u001b[1;33m.\u001b[0m\u001b[0msearch\u001b[0m\u001b[1;33m(\u001b[0m\u001b[0mstring\u001b[0m\u001b[1;33m)\u001b[0m\u001b[1;33m\u001b[0m\u001b[1;33m\u001b[0m\u001b[0m\n\u001b[0m\u001b[0;32m    184\u001b[0m \u001b[1;33m\u001b[0m\u001b[0m\n\u001b[0;32m    185\u001b[0m \u001b[1;32mdef\u001b[0m \u001b[0msub\u001b[0m\u001b[1;33m(\u001b[0m\u001b[0mpattern\u001b[0m\u001b[1;33m,\u001b[0m \u001b[0mrepl\u001b[0m\u001b[1;33m,\u001b[0m \u001b[0mstring\u001b[0m\u001b[1;33m,\u001b[0m \u001b[0mcount\u001b[0m\u001b[1;33m=\u001b[0m\u001b[1;36m0\u001b[0m\u001b[1;33m,\u001b[0m \u001b[0mflags\u001b[0m\u001b[1;33m=\u001b[0m\u001b[1;36m0\u001b[0m\u001b[1;33m)\u001b[0m\u001b[1;33m:\u001b[0m\u001b[1;33m\u001b[0m\u001b[1;33m\u001b[0m\u001b[0m\n",
      "\u001b[1;31mTypeError\u001b[0m: expected string or bytes-like object"
     ]
    }
   ],
   "source": [
    "[string for string in df.revol_util.unique().tolist() if not re.search(r'\\W+', string)]"
   ]
  },
  {
   "cell_type": "code",
   "execution_count": 90,
   "metadata": {},
   "outputs": [
    {
     "data": {
      "text/plain": [
       "0          29.6%\n",
       "1          59.4%\n",
       "2          54.3%\n",
       "3          64.5%\n",
       "4            46%\n",
       "5          52.7%\n",
       "6          46.7%\n",
       "7          15.5%\n",
       "8          11.6%\n",
       "9          64.5%\n",
       "10         56.2%\n",
       "11         32.7%\n",
       "12         56.3%\n",
       "13         29.7%\n",
       "14         19.2%\n",
       "15         34.5%\n",
       "16         67.2%\n",
       "17         68.4%\n",
       "18         40.7%\n",
       "19         39.1%\n",
       "20          5.7%\n",
       "21         84.5%\n",
       "22         63.1%\n",
       "23        101.5%\n",
       "24            3%\n",
       "25         24.6%\n",
       "26         50.3%\n",
       "27         34.4%\n",
       "28           72%\n",
       "29         54.3%\n",
       "           ...  \n",
       "421063       54%\n",
       "421064     46.6%\n",
       "421065     92.3%\n",
       "421066       98%\n",
       "421067     53.1%\n",
       "421068     63.4%\n",
       "421069     24.9%\n",
       "421070     63.3%\n",
       "421071     75.6%\n",
       "421072     78.9%\n",
       "421073     56.9%\n",
       "421074     92.4%\n",
       "421075     65.1%\n",
       "421076     56.8%\n",
       "421077     30.6%\n",
       "421078     63.2%\n",
       "421079     73.4%\n",
       "421080     34.7%\n",
       "421081      3.2%\n",
       "421082     97.6%\n",
       "421083     25.8%\n",
       "421084     27.1%\n",
       "421085      5.6%\n",
       "421086     43.9%\n",
       "421087     41.6%\n",
       "421088       65%\n",
       "421089     69.7%\n",
       "421090     82.1%\n",
       "421091     84.5%\n",
       "421092     61.3%\n",
       "Name: revol_util, Length: 421093, dtype: object"
      ]
     },
     "execution_count": 90,
     "metadata": {},
     "output_type": "execute_result"
    }
   ],
   "source": [
    "df.revol_util"
   ]
  },
  {
   "cell_type": "code",
   "execution_count": 50,
   "metadata": {},
   "outputs": [
    {
     "data": {
      "text/plain": [
       "'0%'"
      ]
     },
     "execution_count": 50,
     "metadata": {},
     "output_type": "execute_result"
    }
   ],
   "source": [
    "df['revol_util'].describe()['top']"
   ]
  },
  {
   "cell_type": "code",
   "execution_count": null,
   "metadata": {},
   "outputs": [],
   "source": [
    "count     420931\n",
    "unique      1211\n",
    "top           0%\n",
    "freq        1256\n",
    "Name: revol_util, dtype: object"
   ]
  },
  {
   "cell_type": "code",
   "execution_count": 100,
   "metadata": {},
   "outputs": [],
   "source": [
    "def F(srs, arg):  \n",
    "    return srs.apply(lambda x: float(re.match(r'(.*)(.+)\\Z', str(x)).group(1)))"
   ]
  },
  {
   "cell_type": "code",
   "execution_count": 101,
   "metadata": {},
   "outputs": [
    {
     "ename": "ValueError",
     "evalue": "could not convert string to float: 'na'",
     "output_type": "error",
     "traceback": [
      "\u001b[1;31m---------------------------------------------------------------------------\u001b[0m",
      "\u001b[1;31mValueError\u001b[0m                                Traceback (most recent call last)",
      "\u001b[1;32m<ipython-input-101-0286daeec12b>\u001b[0m in \u001b[0;36m<module>\u001b[1;34m\u001b[0m\n\u001b[1;32m----> 1\u001b[1;33m \u001b[0mF\u001b[0m\u001b[1;33m(\u001b[0m\u001b[0mdf\u001b[0m\u001b[1;33m.\u001b[0m\u001b[0mrevol_util\u001b[0m\u001b[1;33m,\u001b[0m\u001b[1;33m[\u001b[0m\u001b[1;33m]\u001b[0m\u001b[1;33m)\u001b[0m\u001b[1;33m\u001b[0m\u001b[1;33m\u001b[0m\u001b[0m\n\u001b[0m",
      "\u001b[1;32m<ipython-input-100-d270d6f17de1>\u001b[0m in \u001b[0;36mF\u001b[1;34m(srs, arg)\u001b[0m\n\u001b[0;32m      1\u001b[0m \u001b[1;32mdef\u001b[0m \u001b[0mF\u001b[0m\u001b[1;33m(\u001b[0m\u001b[0msrs\u001b[0m\u001b[1;33m,\u001b[0m \u001b[0marg\u001b[0m\u001b[1;33m)\u001b[0m\u001b[1;33m:\u001b[0m\u001b[1;33m\u001b[0m\u001b[1;33m\u001b[0m\u001b[0m\n\u001b[1;32m----> 2\u001b[1;33m     \u001b[1;32mreturn\u001b[0m \u001b[0msrs\u001b[0m\u001b[1;33m.\u001b[0m\u001b[0mapply\u001b[0m\u001b[1;33m(\u001b[0m\u001b[1;32mlambda\u001b[0m \u001b[0mx\u001b[0m\u001b[1;33m:\u001b[0m \u001b[0mfloat\u001b[0m\u001b[1;33m(\u001b[0m\u001b[0mre\u001b[0m\u001b[1;33m.\u001b[0m\u001b[0mmatch\u001b[0m\u001b[1;33m(\u001b[0m\u001b[1;34mr'(.*)(.+)\\Z'\u001b[0m\u001b[1;33m,\u001b[0m \u001b[0mstr\u001b[0m\u001b[1;33m(\u001b[0m\u001b[0mx\u001b[0m\u001b[1;33m)\u001b[0m\u001b[1;33m)\u001b[0m\u001b[1;33m.\u001b[0m\u001b[0mgroup\u001b[0m\u001b[1;33m(\u001b[0m\u001b[1;36m1\u001b[0m\u001b[1;33m)\u001b[0m\u001b[1;33m)\u001b[0m\u001b[1;33m)\u001b[0m\u001b[1;33m\u001b[0m\u001b[1;33m\u001b[0m\u001b[0m\n\u001b[0m",
      "\u001b[1;32m~\\Anaconda3\\lib\\site-packages\\pandas\\core\\series.py\u001b[0m in \u001b[0;36mapply\u001b[1;34m(self, func, convert_dtype, args, **kwds)\u001b[0m\n\u001b[0;32m   3589\u001b[0m             \u001b[1;32melse\u001b[0m\u001b[1;33m:\u001b[0m\u001b[1;33m\u001b[0m\u001b[1;33m\u001b[0m\u001b[0m\n\u001b[0;32m   3590\u001b[0m                 \u001b[0mvalues\u001b[0m \u001b[1;33m=\u001b[0m \u001b[0mself\u001b[0m\u001b[1;33m.\u001b[0m\u001b[0mastype\u001b[0m\u001b[1;33m(\u001b[0m\u001b[0mobject\u001b[0m\u001b[1;33m)\u001b[0m\u001b[1;33m.\u001b[0m\u001b[0mvalues\u001b[0m\u001b[1;33m\u001b[0m\u001b[1;33m\u001b[0m\u001b[0m\n\u001b[1;32m-> 3591\u001b[1;33m                 \u001b[0mmapped\u001b[0m \u001b[1;33m=\u001b[0m \u001b[0mlib\u001b[0m\u001b[1;33m.\u001b[0m\u001b[0mmap_infer\u001b[0m\u001b[1;33m(\u001b[0m\u001b[0mvalues\u001b[0m\u001b[1;33m,\u001b[0m \u001b[0mf\u001b[0m\u001b[1;33m,\u001b[0m \u001b[0mconvert\u001b[0m\u001b[1;33m=\u001b[0m\u001b[0mconvert_dtype\u001b[0m\u001b[1;33m)\u001b[0m\u001b[1;33m\u001b[0m\u001b[1;33m\u001b[0m\u001b[0m\n\u001b[0m\u001b[0;32m   3592\u001b[0m \u001b[1;33m\u001b[0m\u001b[0m\n\u001b[0;32m   3593\u001b[0m         \u001b[1;32mif\u001b[0m \u001b[0mlen\u001b[0m\u001b[1;33m(\u001b[0m\u001b[0mmapped\u001b[0m\u001b[1;33m)\u001b[0m \u001b[1;32mand\u001b[0m \u001b[0misinstance\u001b[0m\u001b[1;33m(\u001b[0m\u001b[0mmapped\u001b[0m\u001b[1;33m[\u001b[0m\u001b[1;36m0\u001b[0m\u001b[1;33m]\u001b[0m\u001b[1;33m,\u001b[0m \u001b[0mSeries\u001b[0m\u001b[1;33m)\u001b[0m\u001b[1;33m:\u001b[0m\u001b[1;33m\u001b[0m\u001b[1;33m\u001b[0m\u001b[0m\n",
      "\u001b[1;32mpandas/_libs/lib.pyx\u001b[0m in \u001b[0;36mpandas._libs.lib.map_infer\u001b[1;34m()\u001b[0m\n",
      "\u001b[1;32m<ipython-input-100-d270d6f17de1>\u001b[0m in \u001b[0;36m<lambda>\u001b[1;34m(x)\u001b[0m\n\u001b[0;32m      1\u001b[0m \u001b[1;32mdef\u001b[0m \u001b[0mF\u001b[0m\u001b[1;33m(\u001b[0m\u001b[0msrs\u001b[0m\u001b[1;33m,\u001b[0m \u001b[0marg\u001b[0m\u001b[1;33m)\u001b[0m\u001b[1;33m:\u001b[0m\u001b[1;33m\u001b[0m\u001b[1;33m\u001b[0m\u001b[0m\n\u001b[1;32m----> 2\u001b[1;33m     \u001b[1;32mreturn\u001b[0m \u001b[0msrs\u001b[0m\u001b[1;33m.\u001b[0m\u001b[0mapply\u001b[0m\u001b[1;33m(\u001b[0m\u001b[1;32mlambda\u001b[0m \u001b[0mx\u001b[0m\u001b[1;33m:\u001b[0m \u001b[0mfloat\u001b[0m\u001b[1;33m(\u001b[0m\u001b[0mre\u001b[0m\u001b[1;33m.\u001b[0m\u001b[0mmatch\u001b[0m\u001b[1;33m(\u001b[0m\u001b[1;34mr'(.*)(.+)\\Z'\u001b[0m\u001b[1;33m,\u001b[0m \u001b[0mstr\u001b[0m\u001b[1;33m(\u001b[0m\u001b[0mx\u001b[0m\u001b[1;33m)\u001b[0m\u001b[1;33m)\u001b[0m\u001b[1;33m.\u001b[0m\u001b[0mgroup\u001b[0m\u001b[1;33m(\u001b[0m\u001b[1;36m1\u001b[0m\u001b[1;33m)\u001b[0m\u001b[1;33m)\u001b[0m\u001b[1;33m)\u001b[0m\u001b[1;33m\u001b[0m\u001b[1;33m\u001b[0m\u001b[0m\n\u001b[0m",
      "\u001b[1;31mValueError\u001b[0m: could not convert string to float: 'na'"
     ]
    }
   ],
   "source": [
    "F(df.revol_util,[])"
   ]
  },
  {
   "cell_type": "code",
   "execution_count": 85,
   "metadata": {},
   "outputs": [
    {
     "data": {
      "text/plain": [
       "'29.6'"
      ]
     },
     "execution_count": 85,
     "metadata": {},
     "output_type": "execute_result"
    }
   ],
   "source": [
    "re.match(r'\\A(.*)\\W',df.revol_util[0] ).group(1)"
   ]
  },
  {
   "cell_type": "code",
   "execution_count": 86,
   "metadata": {},
   "outputs": [],
   "source": [
    "regex_match = lambda x : re.match(r'\\A(.*)\\W', x).group(1)"
   ]
  },
  {
   "cell_type": "code",
   "execution_count": 88,
   "metadata": {},
   "outputs": [
    {
     "ename": "TypeError",
     "evalue": "expected string or bytes-like object",
     "output_type": "error",
     "traceback": [
      "\u001b[1;31m---------------------------------------------------------------------------\u001b[0m",
      "\u001b[1;31mTypeError\u001b[0m                                 Traceback (most recent call last)",
      "\u001b[1;32m<ipython-input-88-9e009389f98d>\u001b[0m in \u001b[0;36m<module>\u001b[1;34m\u001b[0m\n\u001b[1;32m----> 1\u001b[1;33m \u001b[0mdf\u001b[0m\u001b[1;33m.\u001b[0m\u001b[0mrevol_util\u001b[0m\u001b[1;33m.\u001b[0m\u001b[0mapply\u001b[0m\u001b[1;33m(\u001b[0m\u001b[0mregex_match\u001b[0m\u001b[1;33m)\u001b[0m\u001b[1;33m\u001b[0m\u001b[1;33m\u001b[0m\u001b[0m\n\u001b[0m",
      "\u001b[1;32m~\\Anaconda3\\lib\\site-packages\\pandas\\core\\series.py\u001b[0m in \u001b[0;36mapply\u001b[1;34m(self, func, convert_dtype, args, **kwds)\u001b[0m\n\u001b[0;32m   3589\u001b[0m             \u001b[1;32melse\u001b[0m\u001b[1;33m:\u001b[0m\u001b[1;33m\u001b[0m\u001b[1;33m\u001b[0m\u001b[0m\n\u001b[0;32m   3590\u001b[0m                 \u001b[0mvalues\u001b[0m \u001b[1;33m=\u001b[0m \u001b[0mself\u001b[0m\u001b[1;33m.\u001b[0m\u001b[0mastype\u001b[0m\u001b[1;33m(\u001b[0m\u001b[0mobject\u001b[0m\u001b[1;33m)\u001b[0m\u001b[1;33m.\u001b[0m\u001b[0mvalues\u001b[0m\u001b[1;33m\u001b[0m\u001b[1;33m\u001b[0m\u001b[0m\n\u001b[1;32m-> 3591\u001b[1;33m                 \u001b[0mmapped\u001b[0m \u001b[1;33m=\u001b[0m \u001b[0mlib\u001b[0m\u001b[1;33m.\u001b[0m\u001b[0mmap_infer\u001b[0m\u001b[1;33m(\u001b[0m\u001b[0mvalues\u001b[0m\u001b[1;33m,\u001b[0m \u001b[0mf\u001b[0m\u001b[1;33m,\u001b[0m \u001b[0mconvert\u001b[0m\u001b[1;33m=\u001b[0m\u001b[0mconvert_dtype\u001b[0m\u001b[1;33m)\u001b[0m\u001b[1;33m\u001b[0m\u001b[1;33m\u001b[0m\u001b[0m\n\u001b[0m\u001b[0;32m   3592\u001b[0m \u001b[1;33m\u001b[0m\u001b[0m\n\u001b[0;32m   3593\u001b[0m         \u001b[1;32mif\u001b[0m \u001b[0mlen\u001b[0m\u001b[1;33m(\u001b[0m\u001b[0mmapped\u001b[0m\u001b[1;33m)\u001b[0m \u001b[1;32mand\u001b[0m \u001b[0misinstance\u001b[0m\u001b[1;33m(\u001b[0m\u001b[0mmapped\u001b[0m\u001b[1;33m[\u001b[0m\u001b[1;36m0\u001b[0m\u001b[1;33m]\u001b[0m\u001b[1;33m,\u001b[0m \u001b[0mSeries\u001b[0m\u001b[1;33m)\u001b[0m\u001b[1;33m:\u001b[0m\u001b[1;33m\u001b[0m\u001b[1;33m\u001b[0m\u001b[0m\n",
      "\u001b[1;32mpandas/_libs/lib.pyx\u001b[0m in \u001b[0;36mpandas._libs.lib.map_infer\u001b[1;34m()\u001b[0m\n",
      "\u001b[1;32m<ipython-input-86-51ce35a6f269>\u001b[0m in \u001b[0;36m<lambda>\u001b[1;34m(x)\u001b[0m\n\u001b[1;32m----> 1\u001b[1;33m \u001b[0mregex_match\u001b[0m \u001b[1;33m=\u001b[0m \u001b[1;32mlambda\u001b[0m \u001b[0mx\u001b[0m \u001b[1;33m:\u001b[0m \u001b[0mre\u001b[0m\u001b[1;33m.\u001b[0m\u001b[0mmatch\u001b[0m\u001b[1;33m(\u001b[0m\u001b[1;34mr'\\A(.*)\\W'\u001b[0m\u001b[1;33m,\u001b[0m \u001b[0mx\u001b[0m\u001b[1;33m)\u001b[0m\u001b[1;33m.\u001b[0m\u001b[0mgroup\u001b[0m\u001b[1;33m(\u001b[0m\u001b[1;36m1\u001b[0m\u001b[1;33m)\u001b[0m\u001b[1;33m\u001b[0m\u001b[1;33m\u001b[0m\u001b[0m\n\u001b[0m",
      "\u001b[1;32m~\\Anaconda3\\lib\\re.py\u001b[0m in \u001b[0;36mmatch\u001b[1;34m(pattern, string, flags)\u001b[0m\n\u001b[0;32m    171\u001b[0m     \"\"\"Try to apply the pattern at the start of the string, returning\n\u001b[0;32m    172\u001b[0m     a Match object, or None if no match was found.\"\"\"\n\u001b[1;32m--> 173\u001b[1;33m     \u001b[1;32mreturn\u001b[0m \u001b[0m_compile\u001b[0m\u001b[1;33m(\u001b[0m\u001b[0mpattern\u001b[0m\u001b[1;33m,\u001b[0m \u001b[0mflags\u001b[0m\u001b[1;33m)\u001b[0m\u001b[1;33m.\u001b[0m\u001b[0mmatch\u001b[0m\u001b[1;33m(\u001b[0m\u001b[0mstring\u001b[0m\u001b[1;33m)\u001b[0m\u001b[1;33m\u001b[0m\u001b[1;33m\u001b[0m\u001b[0m\n\u001b[0m\u001b[0;32m    174\u001b[0m \u001b[1;33m\u001b[0m\u001b[0m\n\u001b[0;32m    175\u001b[0m \u001b[1;32mdef\u001b[0m \u001b[0mfullmatch\u001b[0m\u001b[1;33m(\u001b[0m\u001b[0mpattern\u001b[0m\u001b[1;33m,\u001b[0m \u001b[0mstring\u001b[0m\u001b[1;33m,\u001b[0m \u001b[0mflags\u001b[0m\u001b[1;33m=\u001b[0m\u001b[1;36m0\u001b[0m\u001b[1;33m)\u001b[0m\u001b[1;33m:\u001b[0m\u001b[1;33m\u001b[0m\u001b[1;33m\u001b[0m\u001b[0m\n",
      "\u001b[1;31mTypeError\u001b[0m: expected string or bytes-like object"
     ]
    }
   ],
   "source": [
    "df.revol_util.apply(regex_match)"
   ]
  },
  {
   "cell_type": "code",
   "execution_count": 81,
   "metadata": {},
   "outputs": [
    {
     "ename": "TypeError",
     "evalue": "expected string or bytes-like object",
     "output_type": "error",
     "traceback": [
      "\u001b[1;31m---------------------------------------------------------------------------\u001b[0m",
      "\u001b[1;31mTypeError\u001b[0m                                 Traceback (most recent call last)",
      "\u001b[1;32m<ipython-input-81-b9ad413a8f4a>\u001b[0m in \u001b[0;36m<module>\u001b[1;34m\u001b[0m\n\u001b[1;32m----> 1\u001b[1;33m \u001b[0mF\u001b[0m\u001b[1;33m(\u001b[0m\u001b[0mdf\u001b[0m\u001b[1;33m.\u001b[0m\u001b[0mrevol_util\u001b[0m\u001b[1;33m,\u001b[0m \u001b[1;33m[\u001b[0m\u001b[1;33m]\u001b[0m\u001b[1;33m)\u001b[0m\u001b[1;33m\u001b[0m\u001b[1;33m\u001b[0m\u001b[0m\n\u001b[0m",
      "\u001b[1;32m<ipython-input-80-6c713c29f28f>\u001b[0m in \u001b[0;36mF\u001b[1;34m(srs, arg)\u001b[0m\n\u001b[0;32m      1\u001b[0m \u001b[1;32mdef\u001b[0m \u001b[0mF\u001b[0m\u001b[1;33m(\u001b[0m\u001b[0msrs\u001b[0m\u001b[1;33m,\u001b[0m \u001b[0marg\u001b[0m\u001b[1;33m)\u001b[0m\u001b[1;33m:\u001b[0m\u001b[1;33m\u001b[0m\u001b[1;33m\u001b[0m\u001b[0m\n\u001b[1;32m----> 2\u001b[1;33m     \u001b[1;32mreturn\u001b[0m \u001b[0msrs\u001b[0m\u001b[1;33m.\u001b[0m\u001b[0mapply\u001b[0m\u001b[1;33m(\u001b[0m\u001b[1;32mlambda\u001b[0m \u001b[0mx\u001b[0m\u001b[1;33m:\u001b[0m \u001b[0mre\u001b[0m\u001b[1;33m.\u001b[0m\u001b[0mmatch\u001b[0m\u001b[1;33m(\u001b[0m\u001b[1;34mr'\\A(.*)\\W'\u001b[0m\u001b[1;33m,\u001b[0m \u001b[0mx\u001b[0m\u001b[1;33m)\u001b[0m\u001b[1;33m.\u001b[0m\u001b[0mgroup\u001b[0m\u001b[1;33m(\u001b[0m\u001b[1;36m1\u001b[0m\u001b[1;33m)\u001b[0m\u001b[1;33m)\u001b[0m\u001b[1;33m\u001b[0m\u001b[1;33m\u001b[0m\u001b[0m\n\u001b[0m",
      "\u001b[1;32m~\\Anaconda3\\lib\\site-packages\\pandas\\core\\series.py\u001b[0m in \u001b[0;36mapply\u001b[1;34m(self, func, convert_dtype, args, **kwds)\u001b[0m\n\u001b[0;32m   3589\u001b[0m             \u001b[1;32melse\u001b[0m\u001b[1;33m:\u001b[0m\u001b[1;33m\u001b[0m\u001b[1;33m\u001b[0m\u001b[0m\n\u001b[0;32m   3590\u001b[0m                 \u001b[0mvalues\u001b[0m \u001b[1;33m=\u001b[0m \u001b[0mself\u001b[0m\u001b[1;33m.\u001b[0m\u001b[0mastype\u001b[0m\u001b[1;33m(\u001b[0m\u001b[0mobject\u001b[0m\u001b[1;33m)\u001b[0m\u001b[1;33m.\u001b[0m\u001b[0mvalues\u001b[0m\u001b[1;33m\u001b[0m\u001b[1;33m\u001b[0m\u001b[0m\n\u001b[1;32m-> 3591\u001b[1;33m                 \u001b[0mmapped\u001b[0m \u001b[1;33m=\u001b[0m \u001b[0mlib\u001b[0m\u001b[1;33m.\u001b[0m\u001b[0mmap_infer\u001b[0m\u001b[1;33m(\u001b[0m\u001b[0mvalues\u001b[0m\u001b[1;33m,\u001b[0m \u001b[0mf\u001b[0m\u001b[1;33m,\u001b[0m \u001b[0mconvert\u001b[0m\u001b[1;33m=\u001b[0m\u001b[0mconvert_dtype\u001b[0m\u001b[1;33m)\u001b[0m\u001b[1;33m\u001b[0m\u001b[1;33m\u001b[0m\u001b[0m\n\u001b[0m\u001b[0;32m   3592\u001b[0m \u001b[1;33m\u001b[0m\u001b[0m\n\u001b[0;32m   3593\u001b[0m         \u001b[1;32mif\u001b[0m \u001b[0mlen\u001b[0m\u001b[1;33m(\u001b[0m\u001b[0mmapped\u001b[0m\u001b[1;33m)\u001b[0m \u001b[1;32mand\u001b[0m \u001b[0misinstance\u001b[0m\u001b[1;33m(\u001b[0m\u001b[0mmapped\u001b[0m\u001b[1;33m[\u001b[0m\u001b[1;36m0\u001b[0m\u001b[1;33m]\u001b[0m\u001b[1;33m,\u001b[0m \u001b[0mSeries\u001b[0m\u001b[1;33m)\u001b[0m\u001b[1;33m:\u001b[0m\u001b[1;33m\u001b[0m\u001b[1;33m\u001b[0m\u001b[0m\n",
      "\u001b[1;32mpandas/_libs/lib.pyx\u001b[0m in \u001b[0;36mpandas._libs.lib.map_infer\u001b[1;34m()\u001b[0m\n",
      "\u001b[1;32m<ipython-input-80-6c713c29f28f>\u001b[0m in \u001b[0;36m<lambda>\u001b[1;34m(x)\u001b[0m\n\u001b[0;32m      1\u001b[0m \u001b[1;32mdef\u001b[0m \u001b[0mF\u001b[0m\u001b[1;33m(\u001b[0m\u001b[0msrs\u001b[0m\u001b[1;33m,\u001b[0m \u001b[0marg\u001b[0m\u001b[1;33m)\u001b[0m\u001b[1;33m:\u001b[0m\u001b[1;33m\u001b[0m\u001b[1;33m\u001b[0m\u001b[0m\n\u001b[1;32m----> 2\u001b[1;33m     \u001b[1;32mreturn\u001b[0m \u001b[0msrs\u001b[0m\u001b[1;33m.\u001b[0m\u001b[0mapply\u001b[0m\u001b[1;33m(\u001b[0m\u001b[1;32mlambda\u001b[0m \u001b[0mx\u001b[0m\u001b[1;33m:\u001b[0m \u001b[0mre\u001b[0m\u001b[1;33m.\u001b[0m\u001b[0mmatch\u001b[0m\u001b[1;33m(\u001b[0m\u001b[1;34mr'\\A(.*)\\W'\u001b[0m\u001b[1;33m,\u001b[0m \u001b[0mx\u001b[0m\u001b[1;33m)\u001b[0m\u001b[1;33m.\u001b[0m\u001b[0mgroup\u001b[0m\u001b[1;33m(\u001b[0m\u001b[1;36m1\u001b[0m\u001b[1;33m)\u001b[0m\u001b[1;33m)\u001b[0m\u001b[1;33m\u001b[0m\u001b[1;33m\u001b[0m\u001b[0m\n\u001b[0m",
      "\u001b[1;32m~\\Anaconda3\\lib\\re.py\u001b[0m in \u001b[0;36mmatch\u001b[1;34m(pattern, string, flags)\u001b[0m\n\u001b[0;32m    171\u001b[0m     \"\"\"Try to apply the pattern at the start of the string, returning\n\u001b[0;32m    172\u001b[0m     a Match object, or None if no match was found.\"\"\"\n\u001b[1;32m--> 173\u001b[1;33m     \u001b[1;32mreturn\u001b[0m \u001b[0m_compile\u001b[0m\u001b[1;33m(\u001b[0m\u001b[0mpattern\u001b[0m\u001b[1;33m,\u001b[0m \u001b[0mflags\u001b[0m\u001b[1;33m)\u001b[0m\u001b[1;33m.\u001b[0m\u001b[0mmatch\u001b[0m\u001b[1;33m(\u001b[0m\u001b[0mstring\u001b[0m\u001b[1;33m)\u001b[0m\u001b[1;33m\u001b[0m\u001b[1;33m\u001b[0m\u001b[0m\n\u001b[0m\u001b[0;32m    174\u001b[0m \u001b[1;33m\u001b[0m\u001b[0m\n\u001b[0;32m    175\u001b[0m \u001b[1;32mdef\u001b[0m \u001b[0mfullmatch\u001b[0m\u001b[1;33m(\u001b[0m\u001b[0mpattern\u001b[0m\u001b[1;33m,\u001b[0m \u001b[0mstring\u001b[0m\u001b[1;33m,\u001b[0m \u001b[0mflags\u001b[0m\u001b[1;33m=\u001b[0m\u001b[1;36m0\u001b[0m\u001b[1;33m)\u001b[0m\u001b[1;33m:\u001b[0m\u001b[1;33m\u001b[0m\u001b[1;33m\u001b[0m\u001b[0m\n",
      "\u001b[1;31mTypeError\u001b[0m: expected string or bytes-like object"
     ]
    }
   ],
   "source": [
    "F(df.revol_util, [])"
   ]
  },
  {
   "cell_type": "code",
   "execution_count": 25,
   "metadata": {},
   "outputs": [
    {
     "data": {
      "text/plain": [
       "array(['29.6%', '59.4%', '54.3%', ..., '123.3%', '121.4%', '184.6%'],\n",
       "      dtype=object)"
      ]
     },
     "execution_count": 25,
     "metadata": {},
     "output_type": "execute_result"
    }
   ],
   "source": [
    "df.revol_util.unique()"
   ]
  },
  {
   "cell_type": "code",
   "execution_count": null,
   "metadata": {},
   "outputs": [],
   "source": []
  },
  {
   "cell_type": "code",
   "execution_count": 23,
   "metadata": {},
   "outputs": [
    {
     "data": {
      "text/html": [
       "<div>\n",
       "<style scoped>\n",
       "    .dataframe tbody tr th:only-of-type {\n",
       "        vertical-align: middle;\n",
       "    }\n",
       "\n",
       "    .dataframe tbody tr th {\n",
       "        vertical-align: top;\n",
       "    }\n",
       "\n",
       "    .dataframe thead th {\n",
       "        text-align: right;\n",
       "    }\n",
       "</style>\n",
       "<table border=\"1\" class=\"dataframe\">\n",
       "  <thead>\n",
       "    <tr style=\"text-align: right;\">\n",
       "      <th></th>\n",
       "      <th>nans</th>\n",
       "      <th>unique</th>\n",
       "      <th>max</th>\n",
       "      <th>min</th>\n",
       "    </tr>\n",
       "  </thead>\n",
       "  <tbody>\n",
       "    <tr>\n",
       "      <th>open_il_12m</th>\n",
       "      <td>94.9246</td>\n",
       "      <td>13</td>\n",
       "      <td>12.0</td>\n",
       "      <td>0.0</td>\n",
       "    </tr>\n",
       "    <tr>\n",
       "      <th>annual_inc_joint</th>\n",
       "      <td>99.8786</td>\n",
       "      <td>309</td>\n",
       "      <td>500000.0</td>\n",
       "      <td>17950.0</td>\n",
       "    </tr>\n",
       "    <tr>\n",
       "      <th>il_util</th>\n",
       "      <td>95.5789</td>\n",
       "      <td>161</td>\n",
       "      <td>223.0</td>\n",
       "      <td>0.0</td>\n",
       "    </tr>\n",
       "    <tr>\n",
       "      <th>open_il_24m</th>\n",
       "      <td>94.9246</td>\n",
       "      <td>18</td>\n",
       "      <td>19.0</td>\n",
       "      <td>0.0</td>\n",
       "    </tr>\n",
       "    <tr>\n",
       "      <th>max_bal_bc</th>\n",
       "      <td>94.9246</td>\n",
       "      <td>10708</td>\n",
       "      <td>127305.0</td>\n",
       "      <td>0.0</td>\n",
       "    </tr>\n",
       "    <tr>\n",
       "      <th>bc_util</th>\n",
       "      <td>1.00382</td>\n",
       "      <td>1321</td>\n",
       "      <td>318.2</td>\n",
       "      <td>0.0</td>\n",
       "    </tr>\n",
       "    <tr>\n",
       "      <th>total_cu_tl</th>\n",
       "      <td>94.9246</td>\n",
       "      <td>34</td>\n",
       "      <td>35.0</td>\n",
       "      <td>0.0</td>\n",
       "    </tr>\n",
       "    <tr>\n",
       "      <th>num_rev_accts</th>\n",
       "      <td>0.000237477</td>\n",
       "      <td>92</td>\n",
       "      <td>118.0</td>\n",
       "      <td>2.0</td>\n",
       "    </tr>\n",
       "    <tr>\n",
       "      <th>open_rv_12m</th>\n",
       "      <td>94.9246</td>\n",
       "      <td>19</td>\n",
       "      <td>22.0</td>\n",
       "      <td>0.0</td>\n",
       "    </tr>\n",
       "    <tr>\n",
       "      <th>dti_joint</th>\n",
       "      <td>99.8791</td>\n",
       "      <td>450</td>\n",
       "      <td>43.86</td>\n",
       "      <td>3.0</td>\n",
       "    </tr>\n",
       "    <tr>\n",
       "      <th>mths_since_last_delinq</th>\n",
       "      <td>48.4361</td>\n",
       "      <td>141</td>\n",
       "      <td>176.0</td>\n",
       "      <td>0.0</td>\n",
       "    </tr>\n",
       "    <tr>\n",
       "      <th>mths_since_recent_inq</th>\n",
       "      <td>10.5912</td>\n",
       "      <td>27</td>\n",
       "      <td>25.0</td>\n",
       "      <td>0.0</td>\n",
       "    </tr>\n",
       "    <tr>\n",
       "      <th>percent_bc_gt_75</th>\n",
       "      <td>1.00667</td>\n",
       "      <td>187</td>\n",
       "      <td>100.0</td>\n",
       "      <td>0.0</td>\n",
       "    </tr>\n",
       "    <tr>\n",
       "      <th>open_acc_6m</th>\n",
       "      <td>94.9246</td>\n",
       "      <td>14</td>\n",
       "      <td>14.0</td>\n",
       "      <td>0.0</td>\n",
       "    </tr>\n",
       "    <tr>\n",
       "      <th>open_rv_24m</th>\n",
       "      <td>94.9246</td>\n",
       "      <td>29</td>\n",
       "      <td>43.0</td>\n",
       "      <td>0.0</td>\n",
       "    </tr>\n",
       "    <tr>\n",
       "      <th>all_util</th>\n",
       "      <td>94.9246</td>\n",
       "      <td>140</td>\n",
       "      <td>151.0</td>\n",
       "      <td>0.0</td>\n",
       "    </tr>\n",
       "    <tr>\n",
       "      <th>bc_open_to_buy</th>\n",
       "      <td>0.941122</td>\n",
       "      <td>51128</td>\n",
       "      <td>559912.0</td>\n",
       "      <td>0.0</td>\n",
       "    </tr>\n",
       "    <tr>\n",
       "      <th>open_il_6m</th>\n",
       "      <td>94.9246</td>\n",
       "      <td>36</td>\n",
       "      <td>40.0</td>\n",
       "      <td>0.0</td>\n",
       "    </tr>\n",
       "    <tr>\n",
       "      <th>inq_fi</th>\n",
       "      <td>94.9246</td>\n",
       "      <td>19</td>\n",
       "      <td>17.0</td>\n",
       "      <td>0.0</td>\n",
       "    </tr>\n",
       "    <tr>\n",
       "      <th>mths_since_recent_bc_dlq</th>\n",
       "      <td>74.21</td>\n",
       "      <td>151</td>\n",
       "      <td>195.0</td>\n",
       "      <td>0.0</td>\n",
       "    </tr>\n",
       "    <tr>\n",
       "      <th>inq_last_12m</th>\n",
       "      <td>94.9246</td>\n",
       "      <td>29</td>\n",
       "      <td>32.0</td>\n",
       "      <td>0.0</td>\n",
       "    </tr>\n",
       "    <tr>\n",
       "      <th>mths_since_rcnt_il</th>\n",
       "      <td>95.0581</td>\n",
       "      <td>202</td>\n",
       "      <td>363.0</td>\n",
       "      <td>0.0</td>\n",
       "    </tr>\n",
       "    <tr>\n",
       "      <th>total_bal_il</th>\n",
       "      <td>94.9246</td>\n",
       "      <td>17031</td>\n",
       "      <td>878459.0</td>\n",
       "      <td>0.0</td>\n",
       "    </tr>\n",
       "    <tr>\n",
       "      <th>mths_since_last_record</th>\n",
       "      <td>82.3284</td>\n",
       "      <td>122</td>\n",
       "      <td>120.0</td>\n",
       "      <td>0.0</td>\n",
       "    </tr>\n",
       "    <tr>\n",
       "      <th>mo_sin_old_il_acct</th>\n",
       "      <td>2.91005</td>\n",
       "      <td>476</td>\n",
       "      <td>724.0</td>\n",
       "      <td>0.0</td>\n",
       "    </tr>\n",
       "    <tr>\n",
       "      <th>mths_since_recent_bc</th>\n",
       "      <td>0.901939</td>\n",
       "      <td>427</td>\n",
       "      <td>615.0</td>\n",
       "      <td>0.0</td>\n",
       "    </tr>\n",
       "    <tr>\n",
       "      <th>mths_since_recent_revol_delinq</th>\n",
       "      <td>63.9659</td>\n",
       "      <td>148</td>\n",
       "      <td>176.0</td>\n",
       "      <td>0.0</td>\n",
       "    </tr>\n",
       "    <tr>\n",
       "      <th>mths_since_last_major_derog</th>\n",
       "      <td>70.8549</td>\n",
       "      <td>163</td>\n",
       "      <td>176.0</td>\n",
       "      <td>0.0</td>\n",
       "    </tr>\n",
       "    <tr>\n",
       "      <th>num_tl_120dpd_2m</th>\n",
       "      <td>4.56669</td>\n",
       "      <td>6</td>\n",
       "      <td>6.0</td>\n",
       "      <td>0.0</td>\n",
       "    </tr>\n",
       "  </tbody>\n",
       "</table>\n",
       "</div>"
      ],
      "text/plain": [
       "                                       nans unique       max      min\n",
       "open_il_12m                         94.9246     13      12.0      0.0\n",
       "annual_inc_joint                    99.8786    309  500000.0  17950.0\n",
       "il_util                             95.5789    161     223.0      0.0\n",
       "open_il_24m                         94.9246     18      19.0      0.0\n",
       "max_bal_bc                          94.9246  10708  127305.0      0.0\n",
       "bc_util                             1.00382   1321     318.2      0.0\n",
       "total_cu_tl                         94.9246     34      35.0      0.0\n",
       "num_rev_accts                   0.000237477     92     118.0      2.0\n",
       "open_rv_12m                         94.9246     19      22.0      0.0\n",
       "dti_joint                           99.8791    450     43.86      3.0\n",
       "mths_since_last_delinq              48.4361    141     176.0      0.0\n",
       "mths_since_recent_inq               10.5912     27      25.0      0.0\n",
       "percent_bc_gt_75                    1.00667    187     100.0      0.0\n",
       "open_acc_6m                         94.9246     14      14.0      0.0\n",
       "open_rv_24m                         94.9246     29      43.0      0.0\n",
       "all_util                            94.9246    140     151.0      0.0\n",
       "bc_open_to_buy                     0.941122  51128  559912.0      0.0\n",
       "open_il_6m                          94.9246     36      40.0      0.0\n",
       "inq_fi                              94.9246     19      17.0      0.0\n",
       "mths_since_recent_bc_dlq              74.21    151     195.0      0.0\n",
       "inq_last_12m                        94.9246     29      32.0      0.0\n",
       "mths_since_rcnt_il                  95.0581    202     363.0      0.0\n",
       "total_bal_il                        94.9246  17031  878459.0      0.0\n",
       "mths_since_last_record              82.3284    122     120.0      0.0\n",
       "mo_sin_old_il_acct                  2.91005    476     724.0      0.0\n",
       "mths_since_recent_bc               0.901939    427     615.0      0.0\n",
       "mths_since_recent_revol_delinq      63.9659    148     176.0      0.0\n",
       "mths_since_last_major_derog         70.8549    163     176.0      0.0\n",
       "num_tl_120dpd_2m                    4.56669      6       6.0      0.0"
      ]
     },
     "execution_count": 23,
     "metadata": {},
     "output_type": "execute_result"
    }
   ],
   "source": [
    "A = pd.Series({col : len(np.asarray(getattr(df,col).isna()).nonzero()[0].tolist()) / len(df) * 100 for col in col_fnn})\n",
    "B = pd.Series({col : len(np.asarray(getattr(df,col).unique())) for col in col_fnn})\n",
    "C = pd.Series({col : np.asarray(getattr(df,col).max()) for col in col_fnn})   \n",
    "D = pd.Series({col : np.asarray(getattr(df,col).min()) for col in col_fnn}) \n",
    "df1 = pd.DataFrame([A,B,C,D]).T\n",
    "df1.columns = ['nans', 'unique','max', 'min']\n",
    "df1"
   ]
  },
  {
   "cell_type": "code",
   "execution_count": null,
   "metadata": {},
   "outputs": [],
   "source": [
    "g = sns.catplot(x='loan_status', hue='mths_since_last_major_derog', kind=\"count\",data=df, height=3, aspect=5)# col=\"survived\""
   ]
  },
  {
   "cell_type": "code",
   "execution_count": 18,
   "metadata": {},
   "outputs": [
    {
     "data": {
      "text/plain": [
       "array(['Current', 'Fully Paid', 'Charged Off', 'Late (31-120 days)',\n",
       "       'In Grace Period', 'Default', 'Late (16-30 days)'], dtype=object)"
      ]
     },
     "execution_count": 18,
     "metadata": {},
     "output_type": "execute_result"
    }
   ],
   "source": [
    "df.loan_status.unique()"
   ]
  },
  {
   "cell_type": "code",
   "execution_count": 21,
   "metadata": {},
   "outputs": [
    {
     "data": {
      "text/plain": [
       "{'Fully Paid': 0,\n",
       " 'Current': 1,\n",
       " 'In Grace Period': 2,\n",
       " 'Late (16-30 days)': 3,\n",
       " 'Late (31-120 days)': 4,\n",
       " 'Default': 5,\n",
       " 'Charged Off': 6}"
      ]
     },
     "execution_count": 21,
     "metadata": {},
     "output_type": "execute_result"
    }
   ],
   "source": [
    "lss = ['Fully Paid', 'Current', 'In Grace Period', 'Late (16-30 days)','Late (31-120 days)', 'Default', 'Charged Off']\n",
    "{lss[i]:i for ss in lss for i in range(7)}"
   ]
  },
  {
   "cell_type": "code",
   "execution_count": null,
   "metadata": {},
   "outputs": [],
   "source": [
    "g = sns.jointplot(\"total_bill\", \"tip\", data=df, kind=\"reg\")"
   ]
  },
  {
   "cell_type": "code",
   "execution_count": 15,
   "metadata": {},
   "outputs": [
    {
     "data": {
      "text/plain": [
       "array([24., 38., 52., 66.])"
      ]
     },
     "execution_count": 15,
     "metadata": {},
     "output_type": "execute_result"
    }
   ],
   "source": [
    "np.percentile(x, [20,40,60,80])"
   ]
  },
  {
   "cell_type": "code",
   "execution_count": 12,
   "metadata": {},
   "outputs": [
    {
     "data": {
      "text/plain": [
       "count    122728.000000\n",
       "mean         45.114929\n",
       "std          22.537803\n",
       "min           0.000000\n",
       "25%          27.000000\n",
       "50%          45.000000\n",
       "75%          63.000000\n",
       "max         176.000000\n",
       "Name: mths_since_last_major_derog, dtype: float64"
      ]
     },
     "execution_count": 12,
     "metadata": {},
     "output_type": "execute_result"
    }
   ],
   "source": [
    "df.mths_since_last_major_derog.describe()"
   ]
  },
  {
   "cell_type": "code",
   "execution_count": 11,
   "metadata": {},
   "outputs": [
    {
     "data": {
      "image/png": "[encoded data removed]",
      "text/plain": [
       "<Figure size 432x288 with 1 Axes>"
      ]
     },
     "metadata": {
      "needs_background": "light"
     },
     "output_type": "display_data"
    }
   ],
   "source": [
    "x = df.mths_since_last_major_derog[df.mths_since_last_major_derog.notna()]\n",
    "ax = sns.distplot(x)"
   ]
  },
  {
   "cell_type": "code",
   "execution_count": null,
   "metadata": {},
   "outputs": [],
   "source": [
    "col_nao = list(set(col_nan) & set(col_obt))\n",
    "col_nao"
   ]
  },
  {
   "cell_type": "code",
   "execution_count": null,
   "metadata": {},
   "outputs": [],
   "source": [
    "len(df.columns)"
   ]
  },
  {
   "cell_type": "code",
   "execution_count": null,
   "metadata": {},
   "outputs": [],
   "source": [
    "lbl_dte = [label for label in df.columns if re.search(r'_d\\Z', label)]\n",
    "lbl_num = [label for label in df.columns if re.search(r'\\Anum', label)]"
   ]
  },
  {
   "cell_type": "markdown",
   "metadata": {},
   "source": [
    "#### object columns\n",
    "- 'id' is unique id for each loan\n",
    "- 'member_id' is unique id for person taking out loan\n",
    "- 'emp_title' too many values, utility doubted\n",
    "- 'pymnt_plan' has only one value\n",
    "- 'url' is unique page for every loan\n",
    "- 'desc' too many unique values\n",
    "- 'grade' is further broken down to in sub_grade\n",
    "- 'subgrade\n",
    "- 'zip_code' too many unique values\n",
    "- 'pymnt_plan' only one value\n",
    "\n",
    "#### NaN columns\n",
    "- 'emp_length' ==> 0, < 1 ==> 1, 1 ==> 2, .... Does no look good\n",
    "- 'title' NaN ==> 0, no order, ....       Does no look good\n",
    "- 'open_acc_6m' NaN ==> -1 add 1\n",
    "- 'open_il_6m'  NaN ==> -1 add 1\n",
    "- all _xm   NaN ==> -1 add 1\n",
    "- 'inq_fi'  NaN ==> -1 add 1\n",
    "- 'total_cu_tl'  NaN ==> 0 add 1\n",
    "- 'mths_since_recent_inq' NaN ==> 0 add 1\n",
    "- dates months from 'Dec-2014'\n",
    "- 'verification_status_joint' NaN ==> verification_status"
   ]
  },
  {
   "cell_type": "code",
   "execution_count": null,
   "metadata": {},
   "outputs": [],
   "source": [
    "df.open_acc_6m.unique()"
   ]
  },
  {
   "cell_type": "code",
   "execution_count": null,
   "metadata": {},
   "outputs": [],
   "source": [
    "col_nan"
   ]
  },
  {
   "cell_type": "code",
   "execution_count": null,
   "metadata": {},
   "outputs": [],
   "source": [
    "df[['verification_status_joint',, 'loan_status']][df['emp_length'].isna()]"
   ]
  },
  {
   "cell_type": "code",
   "execution_count": null,
   "metadata": {},
   "outputs": [],
   "source": [
    "set(lbl_dte) - set(col_nan)"
   ]
  },
  {
   "cell_type": "code",
   "execution_count": null,
   "metadata": {},
   "outputs": [],
   "source": [
    "df['loan_status'][df['last_pymnt_d'] == 'Jan-2017'].unique()"
   ]
  },
  {
   "cell_type": "code",
   "execution_count": null,
   "metadata": {},
   "outputs": [],
   "source": [
    "df['emp_length'].unique()"
   ]
  },
  {
   "cell_type": "code",
   "execution_count": null,
   "metadata": {},
   "outputs": [],
   "source": [
    "df[lbl_dte].head(9)"
   ]
  },
  {
   "cell_type": "code",
   "execution_count": null,
   "metadata": {},
   "outputs": [],
   "source": []
  },
  {
   "cell_type": "code",
   "execution_count": null,
   "metadata": {},
   "outputs": [],
   "source": [
    "sns.set(style=\"whitegrid\")\n",
    "f, ax = plt.subplots(figsize=(15, 6))\n",
    "sns.countplot(x='loan_status', data=dfn, hue='nan02',  ax=ax)\n",
    "#ax.set(ylabel=doz['name'], xlabel=doz['xlabel'])\n",
    "plt.show()"
   ]
  },
  {
   "cell_type": "code",
   "execution_count": null,
   "metadata": {},
   "outputs": [],
   "source": [
    "col_nft = list(set(col_nan) & set(col_flt))"
   ]
  },
  {
   "cell_type": "code",
   "execution_count": null,
   "metadata": {},
   "outputs": [],
   "source": [
    "gb = dfn.groupby('loan_status').count()"
   ]
  },
  {
   "cell_type": "code",
   "execution_count": null,
   "metadata": {},
   "outputs": [],
   "source": [
    "dfn.loan_status.unique()"
   ]
  },
  {
   "cell_type": "code",
   "execution_count": null,
   "metadata": {},
   "outputs": [],
   "source": [
    "dfn[['loan_status', 'mths_since_last_record', 'mths_since_last_delinq']][dfn.mths_since_last_delinq == np.nan].groupby('loan_status').count()"
   ]
  },
  {
   "cell_type": "code",
   "execution_count": null,
   "metadata": {},
   "outputs": [],
   "source": [
    "A = pd.Series({col : len(np.asarray(getattr(dfn,col).isna()).nonzero()[0].tolist()) / len(dfn) * 100 for col in col_nft})\n",
    "B = pd.Series({col : len(np.asarray(getattr(dfn,col).unique())) for col in col_nft})\n",
    "C = pd.Series({col : np.asarray(getattr(dfn,col).max()) for col in col_nft})   \n",
    "D = pd.Series({col : np.asarray(getattr(dfn,col).min()) for col in col_nft}) \n",
    "df1 = pd.DataFrame([A,B,C,D]).T\n",
    "df1.columns = ['nans', 'unique','max', 'min']\n",
    "df1"
   ]
  },
  {
   "cell_type": "code",
   "execution_count": null,
   "metadata": {},
   "outputs": [],
   "source": [
    "df1[df1.nans <= 94].T.columns\n"
   ]
  },
  {
   "cell_type": "code",
   "execution_count": null,
   "metadata": {},
   "outputs": [],
   "source": [
    "dfn[dfn.nans >= 90]"
   ]
  },
  {
   "cell_type": "code",
   "execution_count": null,
   "metadata": {},
   "outputs": [],
   "source": [
    "len(set(cols))"
   ]
  },
  {
   "cell_type": "code",
   "execution_count": null,
   "metadata": {},
   "outputs": [],
   "source": [
    "dfn.mths_since_last_major_derog.max()"
   ]
  },
  {
   "cell_type": "code",
   "execution_count": null,
   "metadata": {},
   "outputs": [],
   "source": [
    "col_nan"
   ]
  },
  {
   "cell_type": "code",
   "execution_count": null,
   "metadata": {},
   "outputs": [],
   "source": [
    "cols = []\n",
    " [np.where(getattr(dfn,col).isna()) for col in col_nan]\n"
   ]
  },
  {
   "cell_type": "code",
   "execution_count": null,
   "metadata": {},
   "outputs": [],
   "source": [
    "col_drop = ['emp_title', 'pymnt_plan', 'desc', 'url','title']"
   ]
  },
  {
   "cell_type": "code",
   "execution_count": null,
   "metadata": {},
   "outputs": [],
   "source": [
    "y2015.dtypes"
   ]
  },
  {
   "cell_type": "code",
   "execution_count": null,
   "metadata": {},
   "outputs": [],
   "source": [
    "[(col, len(y2015[col].unique())) for col in col_obt if len(y2015[col].unique()) <= 100]"
   ]
  },
  {
   "cell_type": "code",
   "execution_count": null,
   "metadata": {},
   "outputs": [],
   "source": [
    "y2015['emp_length'].unique()"
   ]
  },
  {
   "cell_type": "code",
   "execution_count": null,
   "metadata": {},
   "outputs": [],
   "source": [
    "y2015['int_rate'].unique()"
   ]
  },
  {
   "cell_type": "code",
   "execution_count": null,
   "metadata": {},
   "outputs": [],
   "source": [
    "np.where(y2015['int_rate'].isna())"
   ]
  },
  {
   "cell_type": "code",
   "execution_count": null,
   "metadata": {},
   "outputs": [],
   "source": [
    "y2015.loc[np.where(y2015['last_pymnt_d'].isna())]['loan_status'].unique()"
   ]
  },
  {
   "cell_type": "code",
   "execution_count": null,
   "metadata": {},
   "outputs": [],
   "source": [
    "ts = ['Jan-2017', 'Sep-2016', 'May-2016', 'Mar-2016', 'Jul-2016',\n",
    "       'Jun-2016', 'Nov-2016', 'Aug-2016', 'Dec-2016', 'Oct-2016',\n",
    "       'Apr-2016', 'Feb-2016', 'Jan-2016', 'Dec-2015', 'Nov-2015',\n",
    "       'Oct-2015', 'Sep-2015', 'Aug-2015', 'Jul-2015', 'Jun-2015',\n",
    "       'May-2015', 'Apr-2015', 'Mar-2015', 'Feb-2015', 'Jan-2015']"
   ]
  },
  {
   "cell_type": "code",
   "execution_count": null,
   "metadata": {},
   "outputs": [],
   "source": [
    "y2015['last_pymnt_d'][list(set(np.array(y2015.index)) - set(np.where(y2015['last_pymnt_d'].isin(ts))[0]) )]"
   ]
  },
  {
   "cell_type": "code",
   "execution_count": null,
   "metadata": {},
   "outputs": [],
   "source": [
    "np.array(y2015.index)"
   ]
  },
  {
   "cell_type": "code",
   "execution_count": null,
   "metadata": {},
   "outputs": [],
   "source": [
    "y2015[y2015['last_pymnt_d'] == 'Jan-2017']"
   ]
  },
  {
   "cell_type": "code",
   "execution_count": null,
   "metadata": {},
   "outputs": [],
   "source": [
    "df.issue_d.unique()"
   ]
  },
  {
   "cell_type": "code",
   "execution_count": null,
   "metadata": {},
   "outputs": [],
   "source": [
    "S = df.issue_d\n",
    "S = S.apply(lambda x: pd.Timestamp(x))\n",
    "Y = S.dt.month"
   ]
  },
  {
   "cell_type": "code",
   "execution_count": null,
   "metadata": {},
   "outputs": [],
   "source": [
    "S.max()"
   ]
  },
  {
   "cell_type": "code",
   "execution_count": null,
   "metadata": {},
   "outputs": [],
   "source": [
    "Y = S.dt.year\n",
    "M = S.dt.month"
   ]
  },
  {
   "cell_type": "code",
   "execution_count": null,
   "metadata": {},
   "outputs": [],
   "source": [
    "R =  (Y - 2014).mul(12).add(M - 12)\n",
    "R.head()"
   ]
  },
  {
   "cell_type": "code",
   "execution_count": null,
   "metadata": {},
   "outputs": [],
   "source": [
    "R.unique()"
   ]
  },
  {
   "cell_type": "code",
   "execution_count": null,
   "metadata": {},
   "outputs": [],
   "source": [
    "Y.head()"
   ]
  },
  {
   "cell_type": "code",
   "execution_count": null,
   "metadata": {},
   "outputs": [],
   "source": [
    "S.tail(9)"
   ]
  },
  {
   "cell_type": "code",
   "execution_count": null,
   "metadata": {},
   "outputs": [],
   "source": [
    "[(pd.Timestamp(ts) - pd.Timestamp('Jan-2015')).days for ts in y2015['last_pymnt_d'].unique()]"
   ]
  },
  {
   "cell_type": "code",
   "execution_count": null,
   "metadata": {},
   "outputs": [],
   "source": [
    "convs = [('grade',     {'GFEDCBA'[i]:i for i in range(6)}),\n",
    "         ('sub_grade', {[char + str(i) for char in 'GFEDCBA' for i in range(5,0,-1)][i]:i for i in range(34,-1,-1)}),\n",
    "         ('verification_status', {['Not Verified', 'Verified', 'Source Verified'][i]:i for i in range(3)}),   \n",
    "         ('issue_d ', {['Dec-2015', 'Nov-2015', 'Oct-2015', 'Sep-2015', 'Aug-2015','Jul-2015', 'Jun-2015', 'May-2015',\n",
    "          'Apr-2015', 'Mar-2015', 'Feb-2015', 'Jan-2015'][i]:i for i in range(12)}),\n",
    "        ]"
   ]
  },
  {
   "cell_type": "code",
   "execution_count": null,
   "metadata": {},
   "outputs": [],
   "source": [
    "# ordinal rank based upon target mean\n",
    "def ordinal_by_target(df, tgt, fte):\n",
    "    rnk  = df.groupby(fte)[tgt].mean().sort_values(ascending=True).index\n",
    "    return {rnk[i]:i for i in range(len(rnk))}\n",
    "# functions to clean or tranform columns\n",
    "# ordinal months min()\n",
    "def A(srs, arg): \n",
    "    srs = srs.apply(lambda x: pd.Timestamp(x))\n",
    "    zyr = srs.min().dt.year; zmh = srs.min().dt.month\n",
    "    return (srs.dt.year - zyr).mul(12).add(srs.dt.month - zmh)\n",
    "# fillna() with arg[2]\n",
    "def B(srs, arg):\n",
    "    assert len(arg) == 1\n",
    "    return srs.f2.fillna(arg[0])\n",
    "# add scalar arg[0] to series\n",
    "def C(srs, arg):\n",
    "    assert len(arg) == 1\n",
    "    return srs.add(arg[0])\n",
    "# transform using dictionary arg[0]\n",
    "def D(srs, arg): \n",
    "    assert len(arg) == 1\n",
    "    return srs.apply(lambda x : arg[0][x])\n",
    "# convert to non ranked ordinal\n",
    "def E(srs, arg): \n",
    "    dct = {srs.unique()[i]:i for i in range(len(srs.unique()))}\n",
    "    return Ssrs.apply(lambda x: dct[x])\n",
    "# extract by regex 1 or more digits\n",
    "def F(srs, arg): \n",
    "    return srs.apply(lambda x: x.str.extract(r\"\\b\\d+\\b\")\n",
    "\n",
    "\n",
    "\n",
    "# linear scale features to approximate range -2 to 2\n",
    "def B(srs, arg):  \n",
    "    rng = srs.max()-srs.min()\n",
    "    mid = srs.max() - rng / 2\n",
    "    return srs.apply(lambda x : (x - mid) * 4 / rng)\n",
    "# standardize feature with z score\n",
    "def C(srs, arg):\n",
    "    z_score = lambda x: (x-x.mean())/x.std()\n",
    "    return srs.transform(z_score )    \n",
    "\n",
    "# dict switch to call funtions\n",
    "switch = {char:eval(char) for char in 'ABC'}\n",
    "#\n",
    "def switch_clean(fnn, srs, arg):\n",
    "    for f in fnn:       \n",
    "         srs = switch[f](srs,arg)               \n",
    "    return srs"
   ]
  },
  {
   "cell_type": "code",
   "execution_count": null,
   "metadata": {},
   "outputs": [],
   "source": [
    "# new columns \n",
    "df1['passed'] = np.where(df1.a_scre > 0, 1, 0)\n",
    "df1['g_avg_'] = np.round(df1.g_tl_s.div(df1.g_tl_n), decimals = 4)\n",
    "# transform columns\n",
    "df1.ise_id =  df1.ise_id.add(df1.lea_id * 100)\n",
    "df1.age_mh =  df1.age_mh.add(222)\n",
    "# dicts to put features in rank order by target ascending\n",
    "obts = {x:ordinal_by_target(df1, 'a_scre', x ) for x in a}"
   ]
  },
  {
   "cell_type": "code",
   "execution_count": null,
   "metadata": {},
   "outputs": [],
   "source": []
  },
  {
   "cell_type": "code",
   "execution_count": null,
   "metadata": {},
   "outputs": [],
   "source": []
  },
  {
   "cell_type": "code",
   "execution_count": null,
   "metadata": {},
   "outputs": [],
   "source": []
  },
  {
   "cell_type": "code",
   "execution_count": null,
   "metadata": {},
   "outputs": [],
   "source": [
    "def A(S): # strip()\n",
    "    return S.apply(lambda x: x.str.strip())\n",
    "def B(S): # conversion to numeric\n",
    "    dct = {S.unique()[i]:i for i in range(len(S.unique()))}\n",
    "    return S.apply(lambda x: dct[x])\n",
    "def B(S): # cast to numeric\n",
    "    return pd.to_numeric(S) \n",
    "def B(S):  # cast float to int\n",
    "    return S.apply(lambda x: int(x))\n",
    "\n",
    "def D(S): # replace all non-alpha numeric with ' '\n",
    "    return S.apply(lambda x: x.str.replace(r'\\W+', ' ', regex=True))\n",
    "def E(S): # numeric conversion letter grade A-G \n",
    "    dct = {'GFEDCBA'[i]:i for i in range(6)}\n",
    "    return S.apply(lambda x: dct[x]) \n",
    "def E(S): # numeric conversion letter grade A1-G5 \n",
    "    dct = {[char + str(i) for char in 'GFEDCBA' for i in range(5,0,-1)][i]:i for i in range(34,-1,-1)}\n",
    "    return S.apply(lambda x: dct[x])                   \n",
    "def D(S): # replace the  '< 1' with '0' for years\n",
    "    return S.apply(lambda x: x.str.replace('< 1', '0')                   \n",
    "                   \n",
    "def E(S): return S.apply(lambda x: x.str.replace(r'\\s{2}', ' ', regex=True)) # replace 2 or more white space with 1\n",
    "\n",
    "\n",
    "\n",
    "def B(S): return S.apply(lambda x: x.str.replace(r\"\\Bn't\\b\", ' not ', regex=True), axis=1)\n",
    "def C(S): return S.apply(lambda x: x.str.replace(r'\\W+', ' ', regex=True), axis=1)\n",
    "def D(S): return S.apply(lambda x: x.str.replace(r'\\d+', ' ', regex=True), axis=1)\n",
    "def E(S): return S.apply(lambda x: x.str.lower(), axis=1) \n",
    "def F(S): return S.apply(lambda x: x.str.replace(r\"\\bnot\\s\", 'not', regex=True), axis=1)\n",
    "def G(S): return S.apply(lambda x: x.str.replace(r'\\s{2}', ' ', regex=True), axis=1)  \n",
    "def H(S): return S.apply(lambda x: x.str.strip(), axis=1)\n",
    "def I(S): return S.apply(lambda x: x.str.split(), axis=1)\n",
    "def Z(S): return S\n",
    "switch = {char:eval(char) for char in 'ABCDEFGHI'}\n",
    "\n",
    "def switch_clean_column(S, funcs):\n",
    "    for fun in funcs:\n",
    "        S = switch[fun](S)              \n",
    "    return S \n",
    "                   "
   ]
  },
  {
   "cell_type": "code",
   "execution_count": null,
   "metadata": {},
   "outputs": [],
   "source": [
    "dicts = [{k:v} for k,v in vks]\n",
    "for dct in dicts:\n",
    "    switch_clean_column(getattr(df, dct['col']), dct['funcs'])\n",
    "    \n",
    "    \n"
   ]
  },
  {
   "cell_type": "code",
   "execution_count": null,
   "metadata": {},
   "outputs": [],
   "source": [
    "['dti', 'delinq_2yrs', 'inq_last_6mths', 'mths_since_last_delinq',\n",
    "       'mths_since_last_record', 'open_acc', 'pub_rec', ]# to int"
   ]
  },
  {
   "cell_type": "code",
   "execution_count": null,
   "metadata": {},
   "outputs": [],
   "source": [
    "def B(S):  # cast float to int\n",
    "    return S.apply(lambda x: int(x))\n",
    "\n"
   ]
  },
  {
   "cell_type": "code",
   "execution_count": null,
   "metadata": {},
   "outputs": [],
   "source": []
  },
  {
   "cell_type": "code",
   "execution_count": null,
   "metadata": {},
   "outputs": [],
   "source": [
    "['emp_title', 'pymnt_plan', 'desc', 'url']# drop\n",
    "['A']\n",
    "['BC']['term', ]\n",
    "['BD']['int_rate', ]\n",
    "['']['issue_d', 'purpose', 'title']\n",
    "['emp_length'] # unique cleaning\n",
    "['dti']# floats"
   ]
  },
  {
   "cell_type": "code",
   "execution_count": null,
   "metadata": {},
   "outputs": [],
   "source": [
    "y2015.total_acc.unique()"
   ]
  },
  {
   "cell_type": "code",
   "execution_count": null,
   "metadata": {},
   "outputs": [],
   "source": [
    "len(y2015.delinq_2yrs.unique())"
   ]
  },
  {
   "cell_type": "code",
   "execution_count": null,
   "metadata": {},
   "outputs": [],
   "source": [
    "y2015.columns"
   ]
  },
  {
   "cell_type": "code",
   "execution_count": null,
   "metadata": {},
   "outputs": [],
   "source": [
    "y2015.dtypes"
   ]
  },
  {
   "cell_type": "markdown",
   "metadata": {
    "run_control": {
     "frozen": false,
     "read_only": false
    }
   },
   "source": [
    "## The Blind Approach\n",
    "\n",
    "Now, as we've seen before, creating a model is the easy part. Let's try just using everything we've got and throwing it without much thought into a Random Forest. SKLearn requires the independent variables to be be numeric, and all we want is dummy variables so let's use `get_dummies` from Pandas to generate a dummy variable for every categorical column and see what happens off of this kind of naive approach."
   ]
  },
  {
   "cell_type": "markdown",
   "metadata": {
    "run_control": {
     "frozen": false,
     "read_only": false
    }
   },
   "source": [
    "Did your kernel die? My kernel died.\n",
    "\n",
    "Guess it isn't always going to be that easy...\n",
    "\n",
    "Can you think of what went wrong?\n",
    "\n",
    "(You're going to have to reset your kernel and reload the column, BUT DON'T RUN THE MODEL AGAIN OR YOU'LL CRASH THE KERNEL AGAIN!)\n",
    "\n",
    "## Data Cleaning\n",
    "\n",
    "Well, `get_dummies` can be a very memory intensive thing, particularly if data are typed poorly. We got a warning about that earlier. Mixed data types get converted to objects, and that could create huge problems. Our dataset is about 400,000 rows. If there's a bad type there its going to see 400,000 distinct values and try to create dummies for all of them. That's bad. Lets look at all our categorical variables and see how many distinct counts there are..."
   ]
  },
  {
   "cell_type": "code",
   "execution_count": null,
   "metadata": {},
   "outputs": [],
   "source": [
    "floats = y2015.select_dtypes(include=['float'])\n",
    "len(floats)"
   ]
  },
  {
   "cell_type": "code",
   "execution_count": null,
   "metadata": {},
   "outputs": [],
   "source": [
    "y2015.apply()"
   ]
  },
  {
   "cell_type": "code",
   "execution_count": null,
   "metadata": {},
   "outputs": [],
   "source": [
    "np.where(y2015.total_pymnt.astype(str) == 0)"
   ]
  },
  {
   "cell_type": "code",
   "execution_count": null,
   "metadata": {},
   "outputs": [],
   "source": [
    "np.where(y2015.dti.astype(str).str.split(pat='.')[1] == '0')"
   ]
  },
  {
   "cell_type": "code",
   "execution_count": null,
   "metadata": {},
   "outputs": [],
   "source": [
    "len(np.where(y2015.dti.astype(str).str.split(pat='.', expand=True)[1] == '0')[0]) "
   ]
  },
  {
   "cell_type": "code",
   "execution_count": null,
   "metadata": {
    "run_control": {
     "frozen": false,
     "read_only": false
    },
    "scrolled": true
   },
   "outputs": [],
   "source": [
    "categorical = y2015.select_dtypes(include=['object'])\n",
    "for i in categorical:\n",
    "    column = categorical[i]\n",
    "    print(i)\n",
    "    print(column.nunique())"
   ]
  },
  {
   "cell_type": "markdown",
   "metadata": {
    "run_control": {
     "frozen": false,
     "read_only": false
    }
   },
   "source": [
    "Well that right there is what's called a problem. Some of these have over a hundred thousand distinct types. Lets drop the ones with over 30 unique values, converting to numeric where it makes sense. In doing this there's a lot of code that gets written to just see if the numeric conversion makes sense. It's a manual process that we'll abstract away and just include the conversion.\n",
    "\n",
    "You could extract numeric features from the dates, but here we'll just drop them. There's a lot of data, it shouldn't be a huge problem."
   ]
  },
  {
   "cell_type": "code",
   "execution_count": null,
   "metadata": {
    "run_control": {
     "frozen": false,
     "read_only": false
    }
   },
   "outputs": [],
   "source": [
    "# Convert ID and Interest Rate to numeric.\n",
    "y2015['id'] = pd.to_numeric(y2015['id'], errors='coerce')\n",
    "y2015['int_rate'] = pd.to_numeric(y2015['int_rate'].str.strip('%'), errors='coerce')\n",
    "\n",
    "# Drop other columns with many unique variables\n",
    "y2015.drop(['url', 'emp_title', 'zip_code', 'earliest_cr_line', 'revol_util',\n",
    "            'sub_grade', 'addr_state', 'desc'], 1, inplace=True)"
   ]
  },
  {
   "cell_type": "markdown",
   "metadata": {},
   "source": [
    "Wonder what was causing the dtype error on the id column, which _should_ have all been integers? Let's look at the end of the file."
   ]
  },
  {
   "cell_type": "code",
   "execution_count": null,
   "metadata": {},
   "outputs": [],
   "source": [
    "# Remove two summary rows at the end that don't actually contain data.\n",
    "y2015 = y2015[:-2]"
   ]
  },
  {
   "cell_type": "markdown",
   "metadata": {
    "run_control": {
     "frozen": false,
     "read_only": false
    }
   },
   "source": [
    "Now this should be better. Let's try again."
   ]
  },
  {
   "cell_type": "markdown",
   "metadata": {
    "run_control": {
     "frozen": false,
     "read_only": false
    }
   },
   "source": [
    "It finally works! We had to sacrifice sub grade, state address and description, but that's fine. If you want to include them you could run the dummies independently and then append them back to the dataframe.\n",
    "\n",
    "## Second Attempt\n",
    "\n",
    "Now let's try this model again.\n",
    "\n",
    "We're also going to drop NA columns, rather than impute, because our data is rich enough that we can probably get away with it.\n",
    "\n",
    "This model may take a few minutes to run."
   ]
  },
  {
   "cell_type": "code",
   "execution_count": null,
   "metadata": {},
   "outputs": [],
   "source": [
    "np.where(y2015.id.dtype == 'float64')"
   ]
  },
  {
   "cell_type": "code",
   "execution_count": null,
   "metadata": {},
   "outputs": [],
   "source": [
    "y2015.apply(lambda x: x.isnull().any(), axis=1)"
   ]
  },
  {
   "cell_type": "code",
   "execution_count": null,
   "metadata": {
    "run_control": {
     "frozen": false,
     "read_only": false
    }
   },
   "outputs": [],
   "source": [
    "from sklearn import ensemble\n",
    "from sklearn.model_selection import cross_val_score\n",
    "\n",
    "rfc = ensemble.RandomForestClassifier()\n",
    "X = y2015.drop('loan_status', 1)\n",
    "Y = y2015['loan_status']\n",
    "X = pd.get_dummies(X)\n",
    "X = X.dropna(axis=1)\n",
    "\n",
    "cross_val_score(rfc, X, Y, cv=10)"
   ]
  },
  {
   "cell_type": "markdown",
   "metadata": {
    "run_control": {
     "frozen": false,
     "read_only": false
    }
   },
   "source": [
    "The score cross validation reports is the accuracy of the tree. Here we're about 98% accurate.\n",
    "\n",
    "That works pretty well, but there are a few potential problems. Firstly, we didn't really do much in the way of feature selection or model refinement. As such there are a lot of features in there that we don't really need. Some of them are actually quite impressively useless.\n",
    "\n",
    "There's also some variance in the scores. The fact that one gave us only 93% accuracy while others gave higher than 98 is concerning. This variance could be corrected by increasing the number of estimators. That will make it take even longer to run, however, and it is already quite slow."
   ]
  },
  {
   "cell_type": "markdown",
   "metadata": {},
   "source": []
  },
  {
   "cell_type": "code",
   "execution_count": null,
   "metadata": {
    "run_control": {
     "frozen": false,
     "read_only": false
    }
   },
   "outputs": [],
   "source": [
    "# Your code here.\n",
    "\n"
   ]
  }
 ],
 "metadata": {
  "hide_input": false,
  "kernelspec": {
   "display_name": "Python 3",
   "language": "python",
   "name": "python3"
  },
  "language_info": {
   "codemirror_mode": {
    "name": "ipython",
    "version": 3
   },
   "file_extension": ".py",
   "mimetype": "text/x-python",
   "name": "python",
   "nbconvert_exporter": "python",
   "pygments_lexer": "ipython3",
   "version": "3.7.3"
  },
  "toc": {
   "colors": {
    "hover_highlight": "#DAA520",
    "running_highlight": "#FF0000",
    "selected_highlight": "#FFD700"
   },
   "moveMenuLeft": true,
   "nav_menu": {
    "height": "86px",
    "width": "252px"
   },
   "navigate_menu": true,
   "number_sections": true,
   "sideBar": true,
   "threshold": 4,
   "toc_cell": false,
   "toc_section_display": "block",
   "toc_window_display": false
  }
 },
 "nbformat": 4,
 "nbformat_minor": 2
}
